{
 "cells": [
  {
   "cell_type": "markdown",
   "metadata": {},
   "source": [
    "### Libraries"
   ]
  },
  {
   "cell_type": "code",
   "execution_count": 1,
   "metadata": {
    "id": "NrvNTm5DXFNw"
   },
   "outputs": [
    {
     "name": "stderr",
     "output_type": "stream",
     "text": [
      "/home/matteomorellini/boh/lib/python3.10/site-packages/tqdm/auto.py:21: TqdmWarning: IProgress not found. Please update jupyter and ipywidgets. See https://ipywidgets.readthedocs.io/en/stable/user_install.html\n",
      "  from .autonotebook import tqdm as notebook_tqdm\n"
     ]
    }
   ],
   "source": [
    "import os\n",
    "import shutil\n",
    "import tempfile\n",
    "import matplotlib.pyplot as plt\n",
    "import PIL\n",
    "from PIL import Image\n",
    "import torch\n",
    "import weakref\n",
    "import gc\n",
    "#from torch.utils.tensorboard import SummaryWriter\n",
    "import numpy as np\n",
    "from sklearn.metrics import classification_report\n",
    "from torch import nn\n",
    "import torch.nn.functional as F\n",
    "import types\n",
    "from transformers.modeling_outputs import SemanticSegmenterOutput\n",
    "from enum import Enum\n",
    "from torchvision import transforms\n",
    "import nibabel as nib\n",
    "from pathlib import Path\n",
    "import math\n",
    "from collections import defaultdict\n",
    "from medsyn.tasks import (\n",
    "    CutPastePatchBlender,\n",
    "    SmoothIntensityChangeTask,\n",
    "    GaussIntensityChangeTask,\n",
    "\n",
    "    SinkDeformationTask,\n",
    "    SourceDeformationTask,\n",
    "    IdentityTask,\n",
    ")\n",
    "from transformers import UperNetForSemanticSegmentation, AutoImageProcessor\n",
    "from torchinfo import summary\n",
    "import yaml\n",
    "from easydict import EasyDict\n",
    "import math\n",
    "import argparse\n",
    "import warnings\n",
    "from utils.misc_helper import (\n",
    "    AverageMeter,\n",
    "    compute_imagewise_metrics,\n",
    "    compute_pixelwise_metrics,\n",
    "    get_current_time,\n",
    "    create_logger,\n",
    "    set_seed\n",
    ")\n",
    "from utils.losses import FocalLoss, BinaryDiceLoss\n",
    "\n",
    "import pprint\n",
    "from tqdm import tqdm\n",
    "import multiprocessing\n",
    "import numpy as np\n",
    "import random\n",
    "from pathlib import Path\n",
    "import json"
   ]
  },
  {
   "cell_type": "code",
   "execution_count": 2,
   "metadata": {},
   "outputs": [],
   "source": [
    "import torch.utils.data as data\n",
    "from torch.utils.data import Dataset, random_split, DataLoader, Subset\n",
    "from PIL import Image\n",
    "from pathlib import Path\n",
    "from collections import defaultdict"
   ]
  },
  {
   "cell_type": "code",
   "execution_count": 3,
   "metadata": {
    "colab": {
     "base_uri": "https://localhost:8080/"
    },
    "id": "0DGMv98y738A",
    "outputId": "cf01de39-0a4b-4124-e356-6968386e4446"
   },
   "outputs": [
    {
     "name": "stdout",
     "output_type": "stream",
     "text": [
      "MONAI version: 1.3.2\n",
      "Numpy version: 1.26.4\n",
      "Pytorch version: 2.8.0+cu128\n",
      "MONAI flags: HAS_EXT = False, USE_COMPILED = False, USE_META_DICT = False\n",
      "MONAI rev id: 59a7211070538586369afd4a01eca0a7fe2e742e\n",
      "MONAI __file__: /home/<username>/boh/lib/python3.10/site-packages/monai/__init__.py\n",
      "\n",
      "Optional dependencies:\n",
      "Pytorch Ignite version: NOT INSTALLED or UNKNOWN VERSION.\n",
      "ITK version: NOT INSTALLED or UNKNOWN VERSION.\n",
      "Nibabel version: 5.3.2\n",
      "scikit-image version: 0.25.2\n",
      "scipy version: 1.15.3\n",
      "Pillow version: 11.3.0\n",
      "Tensorboard version: NOT INSTALLED or UNKNOWN VERSION.\n",
      "gdown version: NOT INSTALLED or UNKNOWN VERSION.\n",
      "TorchVision version: 0.23.0+cu128\n",
      "tqdm version: 4.67.1\n",
      "lmdb version: NOT INSTALLED or UNKNOWN VERSION.\n",
      "psutil version: 7.1.0\n",
      "pandas version: 2.3.3\n",
      "einops version: NOT INSTALLED or UNKNOWN VERSION.\n",
      "transformers version: 4.57.0\n",
      "mlflow version: NOT INSTALLED or UNKNOWN VERSION.\n",
      "pynrrd version: NOT INSTALLED or UNKNOWN VERSION.\n",
      "clearml version: NOT INSTALLED or UNKNOWN VERSION.\n",
      "\n",
      "For details about installing the optional dependencies, please visit:\n",
      "    https://docs.monai.io/en/latest/installation.html#installing-the-recommended-dependencies\n",
      "\n"
     ]
    }
   ],
   "source": [
    "from monai.apps import download_and_extract\n",
    "from monai.config import print_config\n",
    "from monai.data import decollate_batch, create_test_image_3d\n",
    "from monai.metrics import ROCAUCMetric\n",
    "from monai.networks.nets import DenseNet121, ResNet\n",
    "from monai.transforms import (\n",
    "    Activations,\n",
    "    EnsureChannelFirst,\n",
    "    AsDiscrete,\n",
    "    Compose,\n",
    "    LoadImage,\n",
    "    RandFlip,\n",
    "    RandRotate,\n",
    "    RandZoom,\n",
    "    ScaleIntensity,\n",
    ")\n",
    "from monai.utils import set_determinism\n",
    "\n",
    "print_config()"
   ]
  },
  {
   "cell_type": "markdown",
   "metadata": {},
   "source": [
    "### Original model"
   ]
  },
  {
   "cell_type": "code",
   "execution_count": 8,
   "metadata": {},
   "outputs": [],
   "source": [
    "device = 'cuda' if torch.cuda.is_available() else 'cpu'"
   ]
  },
  {
   "cell_type": "code",
   "execution_count": 9,
   "metadata": {},
   "outputs": [],
   "source": [
    "num_workers = max(1, multiprocessing.cpu_count() - 1) "
   ]
  },
  {
   "cell_type": "code",
   "execution_count": 10,
   "metadata": {
    "colab": {
     "base_uri": "https://localhost:8080/",
     "height": 49,
     "referenced_widgets": [
      "e22a2c933f054754972eca82f130e5fe",
      "bd31c86f61a649c894cb8ca2de5e1112",
      "aeb9f05051274942abfdb5e71b94af2f",
      "fa11da05ead3412ca325cdc25ddd4b5d",
      "fe65c58b74ba4643a406543a5421406e",
      "68de5b0a46cf40b4b53284357ad37bc5",
      "85339a1cb15846779f68ef255fd681fd",
      "678169a65a9948899da67098f9593682",
      "7d923d4ac4fb42a2b8f3ce3305d14080",
      "708a0444f7784dde87b0ba9c89cb6783",
      "6ff7cb1c0b6a4106a485ce74f4499fc2"
     ]
    },
    "id": "vCbsriF6X0u9",
    "outputId": "cc2c1606-b874-4d79-a027-923e8fb525ef"
   },
   "outputs": [
    {
     "name": "stderr",
     "output_type": "stream",
     "text": [
      "Using a slow image processor as `use_fast` is unset and a slow processor was saved with this model. `use_fast=True` will be the default behavior in v4.52, even if the model was saved with a slow processor. This will result in minor differences in outputs. You'll still be able to use a slow processor with `use_fast=False`.\n"
     ]
    }
   ],
   "source": [
    "model = UperNetForSemanticSegmentation.from_pretrained(\n",
    "    \"openmmlab/upernet-swin-base\"\n",
    ")\n",
    "\n",
    "processor = AutoImageProcessor.from_pretrained(\"openmmlab/upernet-swin-base\")"
   ]
  },
  {
   "cell_type": "code",
   "execution_count": 11,
   "metadata": {
    "colab": {
     "base_uri": "https://localhost:8080/"
    },
    "id": "8fEvsbuJvDmU",
    "outputId": "22aef392-c67a-43b9-c527-183afea3dbe0"
   },
   "outputs": [
    {
     "data": {
      "text/plain": [
       "===================================================================================================================\n",
       "Layer (type:depth-idx)                                            Output Shape              Param #\n",
       "===================================================================================================================\n",
       "UperNetForSemanticSegmentation                                    [8, 150, 512, 512]        --\n",
       "├─SwinBackbone: 1-1                                               [8, 128, 128, 128]        --\n",
       "│    └─SwinEmbeddings: 2-1                                        [8, 16384, 128]           --\n",
       "│    │    └─SwinPatchEmbeddings: 3-1                              [8, 16384, 128]           6,272\n",
       "│    │    └─LayerNorm: 3-2                                        [8, 16384, 128]           256\n",
       "│    │    └─Dropout: 3-3                                          [8, 16384, 128]           --\n",
       "│    └─SwinEncoder: 2-2                                           [8, 128, 128, 128]        --\n",
       "│    │    └─ModuleList: 3-4                                       --                        86,870,008\n",
       "│    └─ModuleDict: 2-3                                            --                        --\n",
       "│    │    └─LayerNorm: 3-5                                        [8, 16384, 128]           256\n",
       "│    │    └─LayerNorm: 3-6                                        [8, 4096, 256]            512\n",
       "│    │    └─LayerNorm: 3-7                                        [8, 1024, 512]            1,024\n",
       "│    │    └─LayerNorm: 3-8                                        [8, 256, 1024]            2,048\n",
       "├─UperNetHead: 1-2                                                [8, 150, 128, 128]        --\n",
       "│    └─ModuleList: 2-4                                            --                        --\n",
       "│    │    └─UperNetConvModule: 3-9                                [8, 512, 128, 128]        66,560\n",
       "│    │    └─UperNetConvModule: 3-10                               [8, 512, 64, 64]          132,096\n",
       "│    │    └─UperNetConvModule: 3-11                               [8, 512, 32, 32]          263,168\n",
       "│    └─UperNetPyramidPoolingModule: 2-5                           [8, 512, 16, 16]          --\n",
       "│    │    └─UperNetPyramidPoolingBlock: 3-12                      [8, 512, 1, 1]            525,312\n",
       "│    │    └─UperNetPyramidPoolingBlock: 3-13                      [8, 512, 2, 2]            525,312\n",
       "│    │    └─UperNetPyramidPoolingBlock: 3-14                      [8, 512, 3, 3]            525,312\n",
       "│    │    └─UperNetPyramidPoolingBlock: 3-15                      [8, 512, 6, 6]            525,312\n",
       "│    └─UperNetConvModule: 2-6                                     [8, 512, 16, 16]          --\n",
       "│    │    └─Conv2d: 3-16                                          [8, 512, 16, 16]          14,155,776\n",
       "│    │    └─BatchNorm2d: 3-17                                     [8, 512, 16, 16]          1,024\n",
       "│    │    └─ReLU: 3-18                                            [8, 512, 16, 16]          --\n",
       "│    └─ModuleList: 2-7                                            --                        --\n",
       "│    │    └─UperNetConvModule: 3-19                               [8, 512, 128, 128]        2,360,320\n",
       "│    │    └─UperNetConvModule: 3-20                               [8, 512, 64, 64]          2,360,320\n",
       "│    │    └─UperNetConvModule: 3-21                               [8, 512, 32, 32]          2,360,320\n",
       "│    └─UperNetConvModule: 2-8                                     [8, 512, 128, 128]        --\n",
       "│    │    └─Conv2d: 3-22                                          [8, 512, 128, 128]        9,437,184\n",
       "│    │    └─BatchNorm2d: 3-23                                     [8, 512, 128, 128]        1,024\n",
       "│    │    └─ReLU: 3-24                                            [8, 512, 128, 128]        --\n",
       "│    └─Conv2d: 2-9                                                [8, 150, 128, 128]        76,950\n",
       "├─UperNetFCNHead: 1-3                                             [8, 150, 32, 32]          --\n",
       "│    └─Sequential: 2-10                                           [8, 256, 32, 32]          --\n",
       "│    │    └─UperNetConvModule: 3-25                               [8, 256, 32, 32]          1,180,160\n",
       "│    └─Conv2d: 2-11                                               [8, 150, 32, 32]          38,550\n",
       "===================================================================================================================\n",
       "Total params: 121,415,076\n",
       "Trainable params: 121,415,076\n",
       "Non-trainable params: 0\n",
       "Total mult-adds (T): 1.71\n",
       "===================================================================================================================\n",
       "Input size (MB): 25.17\n",
       "Forward/backward pass size (MB): 17447.78\n",
       "Params size (MB): 484.86\n",
       "Estimated Total Size (MB): 17957.81\n",
       "==================================================================================================================="
      ]
     },
     "execution_count": 11,
     "metadata": {},
     "output_type": "execute_result"
    }
   ],
   "source": [
    "summary(model, input_size=(8, 3, 512, 512))  # (B,C,H,W)"
   ]
  },
  {
   "cell_type": "code",
   "execution_count": 12,
   "metadata": {
    "id": "WxE3ZTVjmMdv"
   },
   "outputs": [],
   "source": [
    "num_classes = 2\n",
    "\n",
    "# Replace the final classifier\n",
    "model.decode_head.classifier = nn.Conv2d(\n",
    "    in_channels=model.decode_head.classifier.in_channels,\n",
    "    out_channels=num_classes,\n",
    "    kernel_size=1\n",
    ")\n",
    "\n",
    "model.to(device);\n",
    "#summary(model, input_size=(8, 3, 224, 224))\n",
    "\n",
    "# REMEMBER: UperNetHead is the actual head, UperNetFCNHead is used only during training\n",
    "# to check whether compression is working"
   ]
  },
  {
   "cell_type": "code",
   "execution_count": 13,
   "metadata": {
    "id": "vu5_FLm9CdfQ"
   },
   "outputs": [],
   "source": [
    "def new_forward(self, pixel_values=None, output_hidden_states=None, return_dict=True, **kwargs):\n",
    "    # get input shape\n",
    "    input_shape = pixel_values.shape if pixel_values is not None else None\n",
    "    # run backbone + head\n",
    "    outputs = self.backbone(pixel_values)\n",
    "    feats = outputs.feature_maps\n",
    "\n",
    "    logits = self.decode_head(feats)\n",
    "\n",
    "\n",
    "    # fix interpolation: only use H, W\n",
    "    if input_shape is not None:\n",
    "        h, w = input_shape[-2:]\n",
    "        logits = F.interpolate(logits, size=(h, w),\n",
    "                               mode=\"bilinear\", align_corners=False)\n",
    "    return SemanticSegmenterOutput(logits=logits)\n",
    "\n",
    "model.forward = types.MethodType(new_forward, model)\n"
   ]
  },
  {
   "cell_type": "code",
   "execution_count": 14,
   "metadata": {
    "id": "rILj7Itjczm-"
   },
   "outputs": [],
   "source": [
    "img3d, mask3d = create_test_image_3d(64, 64, 64, num_seg_classes=2, channel_dim=0)\n",
    "\n",
    "img3d = torch.tensor(img3d)   # [1, 64, 64, 64]\n",
    "mask3d = torch.tensor(mask3d)\n",
    "\n",
    "slice_idx = 32\n",
    "img2d = img3d[0, slice_idx].unsqueeze(-1).repeat(1, 1, 3).numpy()  # duplicates the last dimension 3 times -> fake RGB\n",
    "# because UPerNet expects a 3-channel RGB input"
   ]
  },
  {
   "cell_type": "code",
   "execution_count": 15,
   "metadata": {
    "colab": {
     "base_uri": "https://localhost:8080/",
     "height": 428
    },
    "id": "0_Noa2abdqTE",
    "outputId": "dcc19949-576c-4425-a71f-4ef8cbec9bb5"
   },
   "outputs": [
    {
     "data": {
      "image/png": "[encoded data removed]",
      "text/plain": [
       "<Figure size 640x480 with 1 Axes>"
      ]
     },
     "metadata": {},
     "output_type": "display_data"
    }
   ],
   "source": [
    "plt.imshow(img2d.astype(\"float32\"), cmap=\"gray\")  # or just plt.imshow(img2d) since it's RGB\n",
    "plt.title(\"Dummy 2D slice\")\n",
    "plt.axis(\"off\")\n",
    "plt.show()"
   ]
  },
  {
   "cell_type": "code",
   "execution_count": 16,
   "metadata": {
    "id": "Z2pNKMLhf2Ql"
   },
   "outputs": [],
   "source": [
    "mask2d = mask3d[0, slice_idx].unsqueeze(-1).repeat(1, 1, 3).numpy()"
   ]
  },
  {
   "cell_type": "code",
   "execution_count": 17,
   "metadata": {
    "colab": {
     "base_uri": "https://localhost:8080/",
     "height": 465
    },
    "id": "JNmU0wOlfxie",
    "outputId": "0185cb4a-b012-43c5-bc7a-baf6737e8783"
   },
   "outputs": [
    {
     "name": "stderr",
     "output_type": "stream",
     "text": [
      "Clipping input data to the valid range for imshow with RGB data ([0..1] for floats or [0..255] for integers).\n"
     ]
    },
    {
     "data": {
      "image/png": "[encoded data removed]",
      "text/plain": [
       "<Figure size 640x480 with 1 Axes>"
      ]
     },
     "metadata": {},
     "output_type": "display_data"
    }
   ],
   "source": [
    "plt.imshow(mask2d.astype(\"float32\"), cmap=\"gray\")\n",
    "plt.title(\"Dummy 2D slice\")\n",
    "plt.axis(\"off\")\n",
    "plt.show()"
   ]
  },
  {
   "cell_type": "code",
   "execution_count": 18,
   "metadata": {
    "id": "ORcTIFEod1vC"
   },
   "outputs": [
    {
     "name": "stderr",
     "output_type": "stream",
     "text": [
      "It looks like you are trying to rescale already rescaled images. If the input images have pixel values between 0 and 1, set `do_rescale=False` to avoid rescaling them again.\n"
     ]
    }
   ],
   "source": [
    "# pre-process into the tensor-shape and normalization that the model expects\n",
    "inputs = processor(images=img2d, return_tensors=\"pt\")"
   ]
  },
  {
   "cell_type": "code",
   "execution_count": 19,
   "metadata": {
    "colab": {
     "base_uri": "https://localhost:8080/"
    },
    "id": "WoovlfWp7UeG",
    "outputId": "53f84a33-2f64-47a9-ef26-5d59d0979f47"
   },
   "outputs": [
    {
     "data": {
      "text/plain": [
       "torch.Size([1, 3, 512, 512])"
      ]
     },
     "execution_count": 19,
     "metadata": {},
     "output_type": "execute_result"
    }
   ],
   "source": [
    "inputs['pixel_values'].shape"
   ]
  },
  {
   "cell_type": "code",
   "execution_count": 20,
   "metadata": {
    "id": "WSvmLQCWEyXp"
   },
   "outputs": [],
   "source": [
    "device = torch.device(\"cuda\" if torch.cuda.is_available() else \"cpu\")\n",
    "inputs.to(device);"
   ]
  },
  {
   "cell_type": "code",
   "execution_count": 21,
   "metadata": {
    "colab": {
     "base_uri": "https://localhost:8080/"
    },
    "id": "lLG6NFhlv7cD",
    "outputId": "a0bf2231-ca9e-4422-ba59-ce4f885a218f"
   },
   "outputs": [],
   "source": [
    "model.to(device)  # moves all params/buffers\n",
    "\n",
    "with torch.no_grad():\n",
    "    outputs = model(**inputs)\n",
    "\n",
    "logits = outputs.logits  # [1, num_classes, H', W']"
   ]
  },
  {
   "cell_type": "code",
   "execution_count": 22,
   "metadata": {
    "id": "FlgOZxnoeGP-"
   },
   "outputs": [],
   "source": [
    "# 6. Resize back to original size\n",
    "seg = processor.post_process_semantic_segmentation(outputs, target_sizes=[img2d.shape[:2]])\n",
    "seg = seg[0].cpu().numpy()"
   ]
  },
  {
   "cell_type": "code",
   "execution_count": 23,
   "metadata": {
    "colab": {
     "base_uri": "https://localhost:8080/",
     "height": 308
    },
    "id": "jLEe_k6IeKEh",
    "outputId": "4f85fcb5-fa78-428a-de4b-acf2417a9068"
   },
   "outputs": [
    {
     "data": {
      "image/png": "[encoded data removed]",
      "text/plain": [
       "<Figure size 640x480 with 2 Axes>"
      ]
     },
     "metadata": {},
     "output_type": "display_data"
    }
   ],
   "source": [
    "# 7. Visualize\n",
    "plt.subplot(1,2,1)\n",
    "plt.imshow(img2d); plt.title(\"Input slice\")\n",
    "plt.subplot(1,2,2)\n",
    "plt.imshow(seg, cmap=\"viridis\"); plt.title(\"Predicted segmentation\")\n",
    "plt.show()"
   ]
  },
  {
   "cell_type": "code",
   "execution_count": 24,
   "metadata": {
    "colab": {
     "base_uri": "https://localhost:8080/"
    },
    "id": "fxSQ1nj_eLxb",
    "outputId": "483bd5b5-80f5-4b37-e5a9-a9a99d6a649a"
   },
   "outputs": [
    {
     "name": "stdout",
     "output_type": "stream",
     "text": [
      "SwinEmbeddings(\n",
      "  (patch_embeddings): SwinPatchEmbeddings(\n",
      "    (projection): Conv2d(3, 128, kernel_size=(4, 4), stride=(4, 4))\n",
      "  )\n",
      "  (norm): LayerNorm((128,), eps=1e-05, elementwise_affine=True)\n",
      "  (dropout): Dropout(p=0.0, inplace=False)\n",
      ")\n"
     ]
    }
   ],
   "source": [
    "# Access backbone\n",
    "backbone = model.backbone  # this is SwinModel\n",
    "\n",
    "# Access patch embedding\n",
    "print(backbone.embeddings)"
   ]
  },
  {
   "cell_type": "code",
   "execution_count": 25,
   "metadata": {
    "colab": {
     "base_uri": "https://localhost:8080/",
     "height": 203
    },
    "id": "kX0blnonzVgy",
    "outputId": "6851b3d4-840a-4a62-8666-d80f98d0bb67"
   },
   "outputs": [
    {
     "data": {
      "text/plain": [
       "transformers.image_processing_base.BatchFeature"
      ]
     },
     "execution_count": 25,
     "metadata": {},
     "output_type": "execute_result"
    }
   ],
   "source": [
    "type(inputs)"
   ]
  },
  {
   "cell_type": "markdown",
   "metadata": {},
   "source": [
    "### Modify to 3D input"
   ]
  },
  {
   "cell_type": "code",
   "execution_count": 26,
   "metadata": {
    "id": "vfhCglJyzWMC"
   },
   "outputs": [],
   "source": [
    "def preprocess_3d_volume(volume, depth_size=5, stride=1, mean=None, std=None):\n",
    "    \"\"\"\n",
    "    volume: torch.Tensor [C,D,H,W] or [D,H,W] if single-channel\n",
    "    depth_size: number of slices per window\n",
    "    stride: step along depth\n",
    "    \"\"\"\n",
    "    if volume.ndim == 3:\n",
    "        volume = volume.unsqueeze(0)  # [1,D,H,W]\n",
    "\n",
    "    C, D, H, W = volume.shape\n",
    "    windows = []\n",
    "    for start in range(0, D - depth_size + 1, stride):\n",
    "        clip = volume[:, start:start+depth_size, :, :]  # [C, depth_size, H, W]\n",
    "\n",
    "        # normalize like processor (ImageNet mean/std per channel)\n",
    "        if mean is not None and std is not None:\n",
    "            for c in range(C):\n",
    "                clip[c] = (clip[c] - mean[c]) / std[c]\n",
    "\n",
    "        windows.append(clip)\n",
    "\n",
    "    # [num_windows, C, depth_size, H, W]\n",
    "    return torch.stack(windows)\n"
   ]
  },
  {
   "cell_type": "code",
   "execution_count": 27,
   "metadata": {
    "colab": {
     "base_uri": "https://localhost:8080/"
    },
    "id": "x2IDUyAf0CWo",
    "outputId": "590fa2b4-ed4e-4c39-ad96-95dd8a315b82"
   },
   "outputs": [
    {
     "name": "stdout",
     "output_type": "stream",
     "text": [
      "torch.Size([4, 1, 5, 224, 224])\n"
     ]
    }
   ],
   "source": [
    "vol = torch.randn(1, 20, 224, 224)  # [C=1, D=20, H,W]\n",
    "windows = preprocess_3d_volume(vol, depth_size=5, stride=5)\n",
    "print(windows.shape)  # [num_windows, 1, 5, 224, 224]\n",
    "# non-overlapping windows due to stride = depth_size"
   ]
  },
  {
   "cell_type": "code",
   "execution_count": 28,
   "metadata": {
    "id": "OoenqpukDk7U"
   },
   "outputs": [],
   "source": [
    "class Conv3dPatchEmbed(nn.Module):\n",
    "    def __init__(self, in_chans=1, embed_dim=128,\n",
    "                 kernel_size=(5,4,4), stride=(5,4,4), pretrained_weights = None, pretrained_bias = None):\n",
    "        super().__init__()\n",
    "        self.proj = nn.Conv3d(in_chans, embed_dim,\n",
    "                              kernel_size=kernel_size,\n",
    "                              stride=stride)\n",
    "        nn.init.zeros_(self.proj.weight)\n",
    "        middle_layer = kernel_size[0] // 2\n",
    "        self.proj.weight.data[:, 0, middle_layer, :, :] = pretrained_weights[:, 0, :, :] + pretrained_weights[:, 1, :, :] + pretrained_weights[:, 2, :, :]\n",
    "\n",
    "        self.proj.bias.data = pretrained_bias.clone()\n",
    "\n",
    "\n",
    "    def forward(self, x):                     # x: [B,C,D,H,W]\n",
    "        x = self.proj(x)                      # [B,embed_dim,D',H',W']\n",
    "        # IMPORTANT: UPerNet/Swin is 2D downstream. Ensure D'==1, then squeeze.\n",
    "        if x.shape[2] != 1:\n",
    "            raise ValueError(f\"Depth after Conv3d must be 1 to squeeze, got {x.shape[2]}. \"\n",
    "                             \"Fix kernel/stride/padding or handle 3D downstream.\")\n",
    "        x = x[:, :, 0, :, :]                  # [B,embed_dim,H',W']\n",
    "        return x"
   ]
  },
  {
   "cell_type": "code",
   "execution_count": 29,
   "metadata": {
    "id": "bYWr6stzDwS7"
   },
   "outputs": [],
   "source": [
    "def make_patch_embeddings_3d(embeddings: nn.Module, conv3d_embedder: nn.Module):\n",
    "    # Create a weak reference (non-owning) to the parent embeddings object\n",
    "    # This avoids circular references and ensures `embeddings` is not kept alive\n",
    "    parent_ref = weakref.proxy(embeddings)\n",
    "\n",
    "    # Access the original patch embedding layer from the parent (e.g., SwinEmbeddings.patch_embeddings)\n",
    "    base = embeddings.patch_embeddings\n",
    "\n",
    "    # Extract the patch_size attribute if it exists, otherwise default to (4,4)\n",
    "    # Note: only primitives like tuples/ints are copied, not layers\n",
    "    patch_size = getattr(base, \"patch_size\", (4,4))\n",
    "\n",
    "    # Define a nested class to replace the original patch embedding with a 3D version\n",
    "    class PatchEmbeddings3D(nn.Module):\n",
    "        def __init__(self):\n",
    "            super().__init__()\n",
    "            # Register the custom 3D convolutional embedder (the actual learnable child module)\n",
    "            self.conv3d = conv3d_embedder\n",
    "\n",
    "            # Keep track of patch size as a primitive attribute (safe to copy)\n",
    "            self.patch_size = patch_size\n",
    "\n",
    "        def forward(self, pixel_values_5d: torch.Tensor):\n",
    "            # Enforce 5D input: [Batch, Channels, Depth, Height, Width]\n",
    "            if pixel_values_5d.ndim != 5:\n",
    "                raise ValueError(f\"Expected [B,C,D,H,W], got {tuple(pixel_values_5d.shape)}\")\n",
    "\n",
    "            # Apply the 3D convolution to produce embeddings\n",
    "            # Output shape will be [B, C, H', W'] (depth collapsed by conv stride/kernel)\n",
    "            x = self.conv3d(pixel_values_5d)\n",
    "            B, C, H, W = x.shape\n",
    "\n",
    "            # If the parent embeddings module has a normalization layer, apply it\n",
    "            # Hugging Face convention: flatten spatial dims, apply LN(C), then reshape\n",
    "            if getattr(parent_ref, \"norm\", None) is not None:\n",
    "                x_flat = x.flatten(2).transpose(1, 2)   # [B, H'*W', C]\n",
    "                x_flat = parent_ref.norm(x_flat)        # apply LayerNorm on channel dim\n",
    "                # Optionally could reshape back to [B, C, H', W'], but here kept flattened\n",
    "                x = x_flat\n",
    "\n",
    "            # Return embeddings and the resulting spatial resolution (H', W')\n",
    "            return x, (H, W)\n",
    "\n",
    "    # Instantiate and return the new PatchEmbeddings3D module\n",
    "    return PatchEmbeddings3D()\n"
   ]
  },
  {
   "cell_type": "code",
   "execution_count": 30,
   "metadata": {},
   "outputs": [],
   "source": [
    "conv2d = model.backbone.embeddings.patch_embeddings.projection\n",
    "W2d = conv2d.weight.data\n",
    "b2d = conv2d.bias.data"
   ]
  },
  {
   "cell_type": "code",
   "execution_count": 31,
   "metadata": {
    "id": "HdhnOPcyDy5k"
   },
   "outputs": [],
   "source": [
    "conv3d_embed = Conv3dPatchEmbed(\n",
    "    in_chans=1,\n",
    "    embed_dim=128,         # must match Swin config\n",
    "    kernel_size=(5,4,4),\n",
    "    stride=(5,4,4),\n",
    "    pretrained_weights=W2d,\n",
    "    pretrained_bias=b2d\n",
    ")"
   ]
  },
  {
   "cell_type": "code",
   "execution_count": 32,
   "metadata": {
    "id": "y7SRWah4D1Nw"
   },
   "outputs": [],
   "source": [
    "# Replace the entire patch_embeddings module with the 3D-aware wrapper\n",
    "model.backbone.embeddings.patch_embeddings = make_patch_embeddings_3d(\n",
    "    model.backbone.embeddings,\n",
    "    conv3d_embed\n",
    ")"
   ]
  },
  {
   "cell_type": "code",
   "execution_count": 33,
   "metadata": {
    "colab": {
     "base_uri": "https://localhost:8080/"
    },
    "id": "jGA8Sl0Ygv0q",
    "outputId": "9172ec20-073e-4773-e78c-fba2b6286efa"
   },
   "outputs": [
    {
     "data": {
      "text/plain": [
       "SwinEmbeddings(\n",
       "  (patch_embeddings): PatchEmbeddings3D(\n",
       "    (conv3d): Conv3dPatchEmbed(\n",
       "      (proj): Conv3d(1, 128, kernel_size=(5, 4, 4), stride=(5, 4, 4))\n",
       "    )\n",
       "  )\n",
       "  (norm): LayerNorm((128,), eps=1e-05, elementwise_affine=True)\n",
       "  (dropout): Dropout(p=0.0, inplace=False)\n",
       ")"
      ]
     },
     "execution_count": 33,
     "metadata": {},
     "output_type": "execute_result"
    }
   ],
   "source": [
    "model.backbone.embeddings"
   ]
  },
  {
   "cell_type": "code",
   "execution_count": 34,
   "metadata": {
    "colab": {
     "base_uri": "https://localhost:8080/"
    },
    "id": "GvrKgy4OD3ez",
    "outputId": "3d1a8036-3ba0-4a09-9440-bae1bc97d15c"
   },
   "outputs": [
    {
     "name": "stdout",
     "output_type": "stream",
     "text": [
      "torch.Size([2, 3136, 128]) (56, 56)\n"
     ]
    }
   ],
   "source": [
    "# 4) Test\n",
    "x = torch.randn(2, 1, 5, 224, 224).to(device)  # [B,C,D,H,W]; D=5 fits kernel=(5,...) with stride=(5,...)\n",
    "model.to(device)\n",
    "tokens, (H, W) = model.backbone.embeddings.patch_embeddings(x)\n",
    "print(tokens.shape, (H, W))\n",
    "# Expected: tokens -> [B, embed_dim, H', W'], (H', W') consistent with stride"
   ]
  },
  {
   "cell_type": "code",
   "execution_count": 35,
   "metadata": {
    "colab": {
     "base_uri": "https://localhost:8080/"
    },
    "id": "h2MjaJ7SO4s_",
    "outputId": "4c894e5b-fa9d-4e16-d3ec-5b776e716367"
   },
   "outputs": [
    {
     "data": {
      "text/plain": [
       "tensor([[[[ 0.0000,  0.0000,  0.0000,  0.0000],\n",
       "          [ 0.0000,  0.0000,  0.0000,  0.0000],\n",
       "          [ 0.0000,  0.0000,  0.0000,  0.0000],\n",
       "          [ 0.0000,  0.0000,  0.0000,  0.0000]],\n",
       "\n",
       "         [[ 0.0000,  0.0000,  0.0000,  0.0000],\n",
       "          [ 0.0000,  0.0000,  0.0000,  0.0000],\n",
       "          [ 0.0000,  0.0000,  0.0000,  0.0000],\n",
       "          [ 0.0000,  0.0000,  0.0000,  0.0000]],\n",
       "\n",
       "         [[ 0.0010,  0.0752, -0.1624, -0.2067],\n",
       "          [ 0.0497,  0.2111,  0.0617,  0.1348],\n",
       "          [-0.0512, -0.0140,  0.0711,  0.0239],\n",
       "          [-0.1518, -0.0956, -0.0805,  0.0813]],\n",
       "\n",
       "         [[ 0.0000,  0.0000,  0.0000,  0.0000],\n",
       "          [ 0.0000,  0.0000,  0.0000,  0.0000],\n",
       "          [ 0.0000,  0.0000,  0.0000,  0.0000],\n",
       "          [ 0.0000,  0.0000,  0.0000,  0.0000]],\n",
       "\n",
       "         [[ 0.0000,  0.0000,  0.0000,  0.0000],\n",
       "          [ 0.0000,  0.0000,  0.0000,  0.0000],\n",
       "          [ 0.0000,  0.0000,  0.0000,  0.0000],\n",
       "          [ 0.0000,  0.0000,  0.0000,  0.0000]]]], device='cuda:0',\n",
       "       grad_fn=<SelectBackward0>)"
      ]
     },
     "execution_count": 35,
     "metadata": {},
     "output_type": "execute_result"
    }
   ],
   "source": [
    "model.backbone.embeddings.patch_embeddings.conv3d.proj.weight[0]"
   ]
  },
  {
   "cell_type": "code",
   "execution_count": 36,
   "metadata": {
    "id": "EeUZ3hHwPSMZ"
   },
   "outputs": [],
   "source": [
    "x = torch.randn(2, 1, 5, 224, 224).to(device)  # [B,C,D,H,W]\n",
    "tokens, (H, W) = model.backbone.embeddings.patch_embeddings(x)\n",
    "normalized_tokens = model.backbone.embeddings.norm(tokens)\n",
    "dropout_tokens = model.backbone.embeddings.dropout(normalized_tokens)"
   ]
  },
  {
   "cell_type": "code",
   "execution_count": 37,
   "metadata": {
    "id": "BLtKsnkbiY8q"
   },
   "outputs": [],
   "source": [
    "class SwinEmbeddings3D(nn.Module):\n",
    "    def __init__(self, patch_embeddings3d, embed_dim, p_drop=0.0):\n",
    "        super().__init__()\n",
    "        self.patch_embeddings = patch_embeddings3d     # your Conv3dPatchEmbed\n",
    "        self.norm = nn.LayerNorm(embed_dim)\n",
    "        self.dropout = nn.Dropout(p_drop)\n",
    "\n",
    "    def forward(self, x):                              # x: [B,C,D,H,W]\n",
    "        if x.ndim != 5:\n",
    "            raise ValueError(f\"Expected 5D, got {x.shape}\")\n",
    "        tokens, (H, W) = self.patch_embeddings(x)   # tokens: [B, N, C], N=D*H*W\n",
    "        tokens = self.norm(tokens)\n",
    "        tokens = self.dropout(tokens)\n",
    "        return tokens, (H, W)\n",
    "\n",
    "emb3d = SwinEmbeddings3D(\n",
    "    patch_embeddings3d=model.backbone.embeddings.patch_embeddings,  # your Conv3d block\n",
    "    embed_dim=128,\n",
    "    p_drop=0.0,\n",
    ")\n",
    "model.backbone.embeddings = emb3d"
   ]
  },
  {
   "cell_type": "code",
   "execution_count": 38,
   "metadata": {
    "colab": {
     "base_uri": "https://localhost:8080/"
    },
    "id": "LShr7xpJicgg",
    "outputId": "88b5386d-2a74-4b36-aff8-77fd15ba741a"
   },
   "outputs": [
    {
     "data": {
      "text/plain": [
       "SwinEmbeddings3D(\n",
       "  (patch_embeddings): PatchEmbeddings3D(\n",
       "    (conv3d): Conv3dPatchEmbed(\n",
       "      (proj): Conv3d(1, 128, kernel_size=(5, 4, 4), stride=(5, 4, 4))\n",
       "    )\n",
       "  )\n",
       "  (norm): LayerNorm((128,), eps=1e-05, elementwise_affine=True)\n",
       "  (dropout): Dropout(p=0.0, inplace=False)\n",
       ")"
      ]
     },
     "execution_count": 38,
     "metadata": {},
     "output_type": "execute_result"
    }
   ],
   "source": [
    "model.backbone.embeddings"
   ]
  },
  {
   "cell_type": "code",
   "execution_count": 39,
   "metadata": {
    "id": "4LYysD5EidaH"
   },
   "outputs": [],
   "source": [
    "x = torch.randn(2, 1, 5, 224, 224).to(device)  # [B,C,D,H,W]\n",
    "model.to(device)\n",
    "embedded = model.backbone.embeddings(x) # where embedded[0] is the actual embeddings, embedded[1] is (#patches_x, #patches_y)"
   ]
  },
  {
   "cell_type": "code",
   "execution_count": 40,
   "metadata": {
    "colab": {
     "base_uri": "https://localhost:8080/"
    },
    "id": "y-WrBfyBj3-7",
    "outputId": "6cdc1ed1-9b9a-4329-91d1-d26c34ca689b"
   },
   "outputs": [
    {
     "data": {
      "text/plain": [
       "(torch.Size([2, 3136, 128]), (56, 56))"
      ]
     },
     "execution_count": 40,
     "metadata": {},
     "output_type": "execute_result"
    }
   ],
   "source": [
    "embedded[0].shape, embedded[1]"
   ]
  },
  {
   "cell_type": "code",
   "execution_count": 41,
   "metadata": {
    "id": "Gglf3-oTlX9h"
   },
   "outputs": [],
   "source": [
    "x = torch.randn(1, 1, 5, 512, 512).to(device)  # [B,C,D,H,W]\n",
    "tokens, (H, W) = model.backbone.embeddings(x)  # embedding returns both"
   ]
  },
  {
   "cell_type": "code",
   "execution_count": 42,
   "metadata": {
    "colab": {
     "base_uri": "https://localhost:8080/"
    },
    "id": "uNl2sKUu0oui",
    "outputId": "3290c2c1-d260-453c-cc79-c99f42c413d8"
   },
   "outputs": [
    {
     "data": {
      "text/plain": [
       "torch.Size([1, 16384, 128])"
      ]
     },
     "execution_count": 42,
     "metadata": {},
     "output_type": "execute_result"
    }
   ],
   "source": [
    "tokens.shape"
   ]
  },
  {
   "cell_type": "code",
   "execution_count": 43,
   "metadata": {
    "colab": {
     "base_uri": "https://localhost:8080/"
    },
    "id": "aGB059nWffTq",
    "outputId": "0d71c910-d310-41bd-d4e8-7a1b131c5a64"
   },
   "outputs": [
    {
     "name": "stdout",
     "output_type": "stream",
     "text": [
      "torch.Size([1, 16384, 128]) 128 128\n"
     ]
    }
   ],
   "source": [
    "print(tokens.shape, H , W)"
   ]
  },
  {
   "cell_type": "code",
   "execution_count": 44,
   "metadata": {
    "id": "3rZT-Qad0oaw"
   },
   "outputs": [],
   "source": [
    "encoded = model.backbone.encoder(tokens, (H, W))"
   ]
  },
  {
   "cell_type": "code",
   "execution_count": 45,
   "metadata": {
    "id": "eHRAtC357uhN"
   },
   "outputs": [],
   "source": [
    "bb_out = model.backbone(pixel_values=x)     # ← correct entry point\n",
    "feats = bb_out.feature_maps"
   ]
  },
  {
   "cell_type": "code",
   "execution_count": 46,
   "metadata": {
    "colab": {
     "base_uri": "https://localhost:8080/"
    },
    "id": "B8_X7LAX8_qW",
    "outputId": "8eef8f35-d1d7-4f84-89a4-f83590b800d7"
   },
   "outputs": [
    {
     "data": {
      "text/plain": [
       "4"
      ]
     },
     "execution_count": 46,
     "metadata": {},
     "output_type": "execute_result"
    }
   ],
   "source": [
    "len(feats)"
   ]
  },
  {
   "cell_type": "code",
   "execution_count": 47,
   "metadata": {
    "colab": {
     "base_uri": "https://localhost:8080/"
    },
    "id": "xE7vyRwf-Kwl",
    "outputId": "e714ae5b-0abf-49b1-d6c9-f5efdb485e66"
   },
   "outputs": [
    {
     "data": {
      "text/plain": [
       "UperNetHead(\n",
       "  (classifier): Conv2d(512, 2, kernel_size=(1, 1), stride=(1, 1))\n",
       "  (psp_modules): UperNetPyramidPoolingModule(\n",
       "    (0): UperNetPyramidPoolingBlock(\n",
       "      (0): AdaptiveAvgPool2d(output_size=1)\n",
       "      (1): UperNetConvModule(\n",
       "        (conv): Conv2d(1024, 512, kernel_size=(1, 1), stride=(1, 1), bias=False)\n",
       "        (batch_norm): BatchNorm2d(512, eps=1e-05, momentum=0.1, affine=True, track_running_stats=True)\n",
       "        (activation): ReLU()\n",
       "      )\n",
       "    )\n",
       "    (1): UperNetPyramidPoolingBlock(\n",
       "      (0): AdaptiveAvgPool2d(output_size=2)\n",
       "      (1): UperNetConvModule(\n",
       "        (conv): Conv2d(1024, 512, kernel_size=(1, 1), stride=(1, 1), bias=False)\n",
       "        (batch_norm): BatchNorm2d(512, eps=1e-05, momentum=0.1, affine=True, track_running_stats=True)\n",
       "        (activation): ReLU()\n",
       "      )\n",
       "    )\n",
       "    (2): UperNetPyramidPoolingBlock(\n",
       "      (0): AdaptiveAvgPool2d(output_size=3)\n",
       "      (1): UperNetConvModule(\n",
       "        (conv): Conv2d(1024, 512, kernel_size=(1, 1), stride=(1, 1), bias=False)\n",
       "        (batch_norm): BatchNorm2d(512, eps=1e-05, momentum=0.1, affine=True, track_running_stats=True)\n",
       "        (activation): ReLU()\n",
       "      )\n",
       "    )\n",
       "    (3): UperNetPyramidPoolingBlock(\n",
       "      (0): AdaptiveAvgPool2d(output_size=6)\n",
       "      (1): UperNetConvModule(\n",
       "        (conv): Conv2d(1024, 512, kernel_size=(1, 1), stride=(1, 1), bias=False)\n",
       "        (batch_norm): BatchNorm2d(512, eps=1e-05, momentum=0.1, affine=True, track_running_stats=True)\n",
       "        (activation): ReLU()\n",
       "      )\n",
       "    )\n",
       "  )\n",
       "  (bottleneck): UperNetConvModule(\n",
       "    (conv): Conv2d(3072, 512, kernel_size=(3, 3), stride=(1, 1), padding=(1, 1), bias=False)\n",
       "    (batch_norm): BatchNorm2d(512, eps=1e-05, momentum=0.1, affine=True, track_running_stats=True)\n",
       "    (activation): ReLU()\n",
       "  )\n",
       "  (lateral_convs): ModuleList(\n",
       "    (0): UperNetConvModule(\n",
       "      (conv): Conv2d(128, 512, kernel_size=(1, 1), stride=(1, 1), bias=False)\n",
       "      (batch_norm): BatchNorm2d(512, eps=1e-05, momentum=0.1, affine=True, track_running_stats=True)\n",
       "      (activation): ReLU()\n",
       "    )\n",
       "    (1): UperNetConvModule(\n",
       "      (conv): Conv2d(256, 512, kernel_size=(1, 1), stride=(1, 1), bias=False)\n",
       "      (batch_norm): BatchNorm2d(512, eps=1e-05, momentum=0.1, affine=True, track_running_stats=True)\n",
       "      (activation): ReLU()\n",
       "    )\n",
       "    (2): UperNetConvModule(\n",
       "      (conv): Conv2d(512, 512, kernel_size=(1, 1), stride=(1, 1), bias=False)\n",
       "      (batch_norm): BatchNorm2d(512, eps=1e-05, momentum=0.1, affine=True, track_running_stats=True)\n",
       "      (activation): ReLU()\n",
       "    )\n",
       "  )\n",
       "  (fpn_convs): ModuleList(\n",
       "    (0-2): 3 x UperNetConvModule(\n",
       "      (conv): Conv2d(512, 512, kernel_size=(3, 3), stride=(1, 1), padding=(1, 1), bias=False)\n",
       "      (batch_norm): BatchNorm2d(512, eps=1e-05, momentum=0.1, affine=True, track_running_stats=True)\n",
       "      (activation): ReLU()\n",
       "    )\n",
       "  )\n",
       "  (fpn_bottleneck): UperNetConvModule(\n",
       "    (conv): Conv2d(2048, 512, kernel_size=(3, 3), stride=(1, 1), padding=(1, 1), bias=False)\n",
       "    (batch_norm): BatchNorm2d(512, eps=1e-05, momentum=0.1, affine=True, track_running_stats=True)\n",
       "    (activation): ReLU()\n",
       "  )\n",
       ")"
      ]
     },
     "execution_count": 47,
     "metadata": {},
     "output_type": "execute_result"
    }
   ],
   "source": [
    "model.decode_head"
   ]
  },
  {
   "cell_type": "code",
   "execution_count": 48,
   "metadata": {
    "colab": {
     "base_uri": "https://localhost:8080/"
    },
    "id": "A5T-hz4T9AeY",
    "outputId": "2de0107a-008f-4e0d-ec9c-7133e3d838ff"
   },
   "outputs": [
    {
     "name": "stdout",
     "output_type": "stream",
     "text": [
      "torch.Size([1, 2, 128, 128])\n",
      "torch.Size([1, 2, 512, 512])\n"
     ]
    }
   ],
   "source": [
    "logits = model.decode_head(feats)\n",
    "print(logits.shape)\n",
    "logits = F.interpolate(logits, size=x.shape[-2:], mode=\"bilinear\", align_corners=False)\n",
    "print(logits.shape)"
   ]
  },
  {
   "cell_type": "code",
   "execution_count": 49,
   "metadata": {
    "colab": {
     "base_uri": "https://localhost:8080/"
    },
    "id": "Tvvtc_Uz9Oxp",
    "outputId": "99429b32-72de-426e-a9d5-4e7d06f6bb64"
   },
   "outputs": [
    {
     "data": {
      "text/plain": [
       "UperNetFCNHead(\n",
       "  (convs): Sequential(\n",
       "    (0): UperNetConvModule(\n",
       "      (conv): Conv2d(512, 256, kernel_size=(3, 3), stride=(1, 1), padding=(1, 1), bias=False)\n",
       "      (batch_norm): BatchNorm2d(256, eps=1e-05, momentum=0.1, affine=True, track_running_stats=True)\n",
       "      (activation): ReLU()\n",
       "    )\n",
       "  )\n",
       "  (classifier): Conv2d(256, 150, kernel_size=(1, 1), stride=(1, 1))\n",
       ")"
      ]
     },
     "execution_count": 49,
     "metadata": {},
     "output_type": "execute_result"
    }
   ],
   "source": [
    "model.auxiliary_head"
   ]
  },
  {
   "cell_type": "code",
   "execution_count": 50,
   "metadata": {
    "id": "FHkuTKSb9S-_"
   },
   "outputs": [],
   "source": [
    "logits_aux = model.auxiliary_head(feats)"
   ]
  },
  {
   "cell_type": "code",
   "execution_count": 51,
   "metadata": {
    "colab": {
     "base_uri": "https://localhost:8080/"
    },
    "id": "PUxADbZf_9k3",
    "outputId": "2f77f09f-9cad-47c8-8dd9-ed4d6650042c"
   },
   "outputs": [
    {
     "data": {
      "text/plain": [
       "torch.Size([1, 150, 32, 32])"
      ]
     },
     "execution_count": 51,
     "metadata": {},
     "output_type": "execute_result"
    }
   ],
   "source": [
    "logits_aux.shape"
   ]
  },
  {
   "cell_type": "markdown",
   "metadata": {
    "id": "t3OEgqwv_dHc"
   },
   "source": [
    "### Normalization"
   ]
  },
  {
   "cell_type": "code",
   "execution_count": 87,
   "metadata": {
    "colab": {
     "base_uri": "https://localhost:8080/"
    },
    "id": "SdlyHROJ_fUK",
    "outputId": "fc0fa6dc-b608-44c3-991f-7610f397f651"
   },
   "outputs": [],
   "source": [
    "\"\"\"\n",
    "Windowed 3D preprocessing exactly like the paper:\n",
    "- Build K-slice windows (e.g., K=5) along depth\n",
    "- Apply ONE set of spatial augments jointly to all K slices\n",
    "- CT normalization: clip [-175,250] -> scale to [-1,1]\n",
    "- Return tensors shaped [B, 1, K, 512, 512] (B handled by DataLoader)\n",
    "- Target is the CENTER slice mask only\n",
    "\"\"\"\n",
    "\n",
    "from typing import List, Tuple, Optional\n",
    "import torchvision.transforms.functional as TF\n",
    "\n",
    "# -----------------------\n",
    "# Utility: normalization\n",
    "# -----------------------\n",
    "def normalize_ct_window(x: torch.Tensor, clip_min=-175.0, clip_max=250.0) -> torch.Tensor:\n",
    "    \"\"\"\n",
    "    x: float tensor [K,H,W] (values in HU)\n",
    "    -> clip to [clip_min, clip_max], map to [-1,1]\n",
    "    \"\"\"\n",
    "    x = x.clamp_(clip_min, clip_max)\n",
    "    x = (x - clip_min) / (clip_max - clip_min)  # [0,1]\n",
    "    x = x * 2.0 - 1.0                           # [-1,1]\n",
    "    return x\n",
    "\n",
    "def normalize_mri_window(x: torch.Tensor) -> torch.Tensor:\n",
    "    \"\"\"\n",
    "    x: float tensor [K,H,W] (non-negative)\n",
    "    -> map [0, max] to [-1,1]\n",
    "\n",
    "    \n",
    "    Normalize MRI intensities to [-1, 1].\n",
    "\n",
    "    Assumes non-negative input. Scales values relative to the maximum\n",
    "    intensity found in the window.\n",
    "\n",
    "    Args:\n",
    "        x (torch.Tensor): Input tensor of shape [K, H, W] representing\n",
    "            a stack of K slices from an MRI scan (float, non-negative).\n",
    "\n",
    "    Returns:\n",
    "        torch.Tensor: Normalized tensor with same shape [K, H, W],\n",
    "        values in [-1, 1].\n",
    "    \"\"\"\n",
    "    maxval = x.max().clamp(min=1e-6)\n",
    "    x = x / maxval * 2.0 - 1.0\n",
    "    return x\n",
    "\n",
    "# -----------------------\n",
    "# Utility: spatial ops (shared params for all K slices + center mask)\n",
    "# -----------------------\n",
    "def random_zoom_crop_pad(\n",
    "    imgK: torch.Tensor,          # [K,H,W], float\n",
    "    msk: Optional[torch.Tensor], # [H,W] or None\n",
    "    out_hw: Tuple[int,int]=(512, 512),\n",
    "    zoom_range: Tuple[float,float]=(0.5, 2.8),  # allow zoom > 2.133 so cropping is possible for 240->512\n",
    "    p_crop: float = 0.5,         # probability to *aim* for a crop (zoom-in)\n",
    "    p_apply: float = 1.0,\n",
    "    rng: Optional[random.Random] = None,\n",
    "    visualization: bool = False,\n",
    "):\n",
    "    \"\"\"\n",
    "    Returns: (imgK_out[K,512,512], msk_out[512,512] or None), guaranteeing 512x512 output.\n",
    "    \"\"\"\n",
    "    if rng is None:\n",
    "        rng = random\n",
    "\n",
    "    H, W = imgK.shape[-2:]\n",
    "    outH, outW = out_hw\n",
    "\n",
    "    if rng.random() > p_apply:\n",
    "        # Deterministic resize to target size\n",
    "        imgK = TF.resize(imgK, out_hw, interpolation=TF.InterpolationMode.BILINEAR, antialias=True)\n",
    "        if msk is not None:\n",
    "            msk = TF.resize(msk.unsqueeze(0).float(), out_hw, interpolation=TF.InterpolationMode.NEAREST).squeeze(0).long()\n",
    "        return imgK, msk\n",
    "\n",
    "    # min zoom that enables cropping to out_hw\n",
    "    z_needed = max(outH / H, outW / W)  # e.g., 512/240 ≈ 2.133\n",
    "\n",
    "    z_lo, z_hi = zoom_range\n",
    "    if rng.random() < p_crop:\n",
    "        # Force zoom-in region so crop is possible\n",
    "        z = rng.uniform(max(z_lo, z_needed), max(z_hi, z_needed * 1.1))\n",
    "    else:\n",
    "        # Stay below crop threshold to trigger pad\n",
    "        upper = min(z_hi, max(1.0, z_needed) - 1e-6)\n",
    "        lower = min(z_lo, upper)\n",
    "        if lower >= upper:         # fallback if originals already big\n",
    "            lower, upper = z_lo, min(z_hi, 1.0)\n",
    "        z = rng.uniform(lower, upper)\n",
    "\n",
    "    newH, newW = max(1, int(round(H * z))), max(1, int(round(W * z)))\n",
    "\n",
    "    # Resize\n",
    "    imgK = TF.resize(imgK, (newH, newW), interpolation=TF.InterpolationMode.BILINEAR, antialias=True)\n",
    "    if msk is not None:\n",
    "        msk = TF.resize(msk.unsqueeze(0).float(), (newH, newW), interpolation=TF.InterpolationMode.NEAREST).squeeze(0).long()\n",
    "\n",
    "    # Crop or pad, but output is ALWAYS 512x512\n",
    "    if newH >= outH and newW >= outW:\n",
    "        # Random crop\n",
    "        print('CROP')\n",
    "        if visualization: print(f\"CROP z={z:.3f}: {newH}x{newW} -> {outH}x{outW}\")\n",
    "        i = rng.randint(0, newH - outH)\n",
    "        j = rng.randint(0, newW - outW)\n",
    "        imgK = imgK[:, i:i+outH, j:j+outW]\n",
    "        if msk is not None:\n",
    "            msk = msk[i:i+outH, j:j+outW]\n",
    "    else:\n",
    "        # Center pad\n",
    "        if visualization: print(f\"PAD  z={z:.3f}: {newH}x{newW} -> {outH}x{outW}\")\n",
    "        pt = max(0, (outH - newH) // 2); pb = max(0, outH - newH - pt)\n",
    "        pl = max(0, (outW - newW) // 2); pr = max(0, outW - newW - pl)\n",
    "        # Fill with a low percentile to avoid bright borders\n",
    "        flat = imgK.flatten()\n",
    "        k = max(0, int(0.01 * flat.numel()))\n",
    "        fill_val = flat.kthvalue(k+1).values.item() if flat.numel() else 0.0\n",
    "        imgK = F.pad(imgK, (pl, pr, pt, pb), mode=\"constant\", value=float(fill_val))\n",
    "        if msk is not None:\n",
    "            msk = F.pad(msk, (pl, pr, pt, pb), mode=\"constant\", value=0)\n",
    "\n",
    "    # Final assert (optional)\n",
    "    # imgK.shape == [K, 512, 512]; msk == [512, 512] or None\n",
    "    return imgK, msk\n",
    "\n",
    "def random_flip_rotate(\n",
    "    imgK: torch.Tensor,          # [K,H,W]\n",
    "    msk: Optional[torch.Tensor], # [H,W]\n",
    "    p_flip=0.1,\n",
    "    p_rot=0.1,\n",
    "    max_degrees=10.0,\n",
    "    rng: Optional[random.Random] = None,\n",
    "    visualization: bool = False\n",
    "):\n",
    "    \"\"\"\n",
    "    Apply random horizontal/vertical flips and small rotations.\n",
    "\n",
    "    Args:\n",
    "        imgK (torch.Tensor): Tensor of shape [K, H, W], float, image slices.\n",
    "        msk (Optional[torch.Tensor]): Center-slice mask [1, H, W] or None.\n",
    "        p_flip (float): Probability of applying horizontal/vertical flip. Default 0.1.\n",
    "        p_rot (float): Probability of applying rotation. Default 0.1.\n",
    "        max_degrees (float): Maximum rotation angle in degrees. Default 10.0.\n",
    "        rng (Optional[random.Random]): RNG instance. Default: Python `random`.\n",
    "\n",
    "    Returns:\n",
    "        Tuple[torch.Tensor, Optional[torch.Tensor]]:\n",
    "            - Flipped/rotated image [K, H, W]\n",
    "            - Flipped/rotated mask [H, W] or None\n",
    "    \"\"\"\n",
    "\n",
    "    augmentations_applied = []\n",
    "\n",
    "    if rng is None:\n",
    "        rng = random\n",
    "\n",
    "    # Horizontal flip\n",
    "    if rng.random() < p_flip:\n",
    "        augmentations_applied.append('horizontal flip')\n",
    "        imgK = TF.hflip(imgK)\n",
    "        if msk is not None:\n",
    "            msk = TF.hflip(msk)\n",
    "\n",
    "    # Vertical flip\n",
    "    if rng.random() < p_flip:\n",
    "        augmentations_applied.append('vertical flip')\n",
    "        imgK = TF.vflip(imgK)\n",
    "        if msk is not None:\n",
    "            msk = TF.vflip(msk)\n",
    "\n",
    "    # Small rotation\n",
    "    if rng.random() < p_rot:\n",
    "        angle = rng.uniform(-max_degrees, max_degrees)\n",
    "        augmentations_applied.append(f'rotation {angle:.1f} deg')\n",
    "        flat = imgK.flatten()\n",
    "        k = max(0, int(0.01 * flat.numel()) - 1)\n",
    "        fill_val = flat.kthvalue(k+1).values  # kthvalue is 1-indexed\n",
    "        imgK = TF.rotate(imgK, angle=angle, interpolation=TF.InterpolationMode.BILINEAR, fill=float(fill_val))\n",
    "        if msk is not None:\n",
    "            msk = TF.rotate(msk.unsqueeze(0), angle=angle, interpolation=TF.InterpolationMode.NEAREST, fill=0).squeeze(0)\n",
    "\n",
    "    joint_str = ', '.join(augmentations_applied) if augmentations_applied else None\n",
    "    if joint_str is not None and visualization:\n",
    "        print(f'Augmentation applied: {joint_str}')\n",
    "\n",
    "    return imgK, msk\n",
    "\n",
    "\n",
    "def random_intensity_shift(\n",
    "    imgK: torch.Tensor,  # [K,H,W], in [-1,1]\n",
    "    p=0.5,\n",
    "    magnitude=0.1,\n",
    "    rng: Optional[random.Random] = None,\n",
    "    visualization: bool = False\n",
    "):\n",
    "    \"\"\"\n",
    "    Apply random additive intensity shift to [-1, 1]-normalized image window.\n",
    "\n",
    "    Args:\n",
    "        imgK (torch.Tensor): Input tensor [K, H, W], float, values in [-1, 1].\n",
    "        p (float): Probability of applying shift. Default 0.5.\n",
    "        magnitude (float): Maximum absolute shift. Default 0.1.\n",
    "        rng (Optional[random.Random]): RNG instance. Default: Python `random`.\n",
    "\n",
    "    Returns:\n",
    "        torch.Tensor: Shifted tensor, clamped back to [-1, 1].\n",
    "    \"\"\"\n",
    "    if rng is None:\n",
    "        rng = random\n",
    "    if rng.random() < p:\n",
    "        delta = rng.uniform(-magnitude, magnitude)\n",
    "        if visualization: print(f'Intensity shift applied: {delta:.3f}')\n",
    "        imgK = (imgK + delta).clamp_(-1.0, 1.0)\n",
    "    return imgK\n"
   ]
  },
  {
   "cell_type": "markdown",
   "metadata": {},
   "source": [
    "### Dataset"
   ]
  },
  {
   "cell_type": "code",
   "execution_count": 61,
   "metadata": {},
   "outputs": [],
   "source": [
    "from typing import Dict, List, Any\n",
    "\n",
    "def sample_per_slice(data_to_iterate: Dict[Any, List[Any]], k_shot: int) -> List[Any]:\n",
    "    \"\"\"\n",
    "    Randomly samples `k_shot` elements from each list of values contained in a dictionary.\n",
    "\n",
    "    For every key in `data_to_iterate`, this function draws `k_shot` random, non-repeating\n",
    "    samples from the list associated with that key and concatenates all samples into a\n",
    "    single output list. If any list contains fewer than `k_shot` elements, a ValueError\n",
    "    is raised.\n",
    "\n",
    "    Parameters\n",
    "    ----------\n",
    "    data_to_iterate : dict[Any, list[Any]]\n",
    "        A dictionary where each key maps to a list (or iterable) of sampleable elements.\n",
    "    k_shot : int\n",
    "        Number of elements to randomly sample from each list.\n",
    "\n",
    "    Returns\n",
    "    -------\n",
    "    list[Any]\n",
    "        A flattened list containing all sampled elements across all keys.\n",
    "\n",
    "    Raises\n",
    "    ------\n",
    "    ValueError\n",
    "        If any list under a given key has fewer than `k_shot` elements.\n",
    "    \"\"\"\n",
    "    for key in data_to_iterate.keys():\n",
    "        values = data_to_iterate[key]\n",
    "        if len(values) < k_shot:\n",
    "            raise ValueError(f\"Not enough elements to sample {k_shot} from key {key}\")\n",
    "        data_to_iterate[key] = random.sample(values, k_shot)\n",
    "    return data_to_iterate"
   ]
  },
  {
   "cell_type": "code",
   "execution_count": 62,
   "metadata": {},
   "outputs": [],
   "source": [
    "%matplotlib inline"
   ]
  },
  {
   "cell_type": "code",
   "execution_count": 63,
   "metadata": {},
   "outputs": [],
   "source": [
    "def plot_augmentations(\n",
    "    image: torch.Tensor,          # [H,W]\n",
    "    middle_mask: torch.Tensor, # [H,W]\n",
    "):\n",
    "    fig, axes = plt.subplots(1, 3, figsize=(12, 4))\n",
    "\n",
    "    # Left: original image\n",
    "    axes[0].imshow(image)\n",
    "    axes[0].set_title(\"Image\")\n",
    "    axes[0].axis(\"off\")\n",
    "\n",
    "    # Right: corresponding mask\n",
    "    axes[1].imshow(middle_mask.cpu().numpy(), cmap=\"gray\", interpolation=\"nearest\")\n",
    "    axes[1].set_title(f\"Mask (max={middle_mask.max().item()} min={middle_mask.min().item()})\")\n",
    "    axes[1].axis(\"off\")\n",
    "\n",
    "    axes[2].imshow(image)\n",
    "    axes[2].imshow(middle_mask.cpu().numpy(), cmap=\"jet\", alpha=0.4)\n",
    "    axes[2].set_title(\"Image + Mask overlay\")\n",
    "    axes[2].axis(\"off\")\n",
    "\n",
    "    plt.tight_layout()\n",
    "    plt.show()"
   ]
  },
  {
   "cell_type": "code",
   "execution_count": 80,
   "metadata": {},
   "outputs": [],
   "source": [
    "class BratsDataset(data.Dataset):\n",
    "    def __init__(\n",
    "            self, \n",
    "            args, \n",
    "            root,\n",
    "            mode='test',\n",
    "            save_dir='fewshot',\n",
    "            k_shot=0,\n",
    "            seed=None,\n",
    "            visualization=False,\n",
    "    ):\n",
    "        self.args = args\n",
    "        self.root = root\n",
    "        self.mode = mode\n",
    "        self.__image_path_key = (\n",
    "            \"img_path\" if args.train_dataset == \"brats-met\" else \"filename\"\n",
    "        )\n",
    "        self.k_shot = k_shot\n",
    "        #self.train_size = int(k_shot) * int((args.END_ID - args.START_ID)/args.distance_per_slice)\n",
    "        meta_info = self._get_meta_info(mode, k_shot)\n",
    "        self.data_all = self._load_slices(meta_info, mode, save_dir, k_shot)\n",
    "        self.length = len(self.data_all)\n",
    "        self.rng = random.Random(seed) if seed is not None else random\n",
    "        self.visualization = visualization\n",
    "        \n",
    "    def __len__(self):\n",
    "        return self.length\n",
    "\n",
    "    def __getitem__(self, index):\n",
    "\n",
    "        img_paths = self.data_all[index] \n",
    "        images = []\n",
    "        mid = len(img_paths)//2\n",
    "\n",
    "        if len(img_paths) != self.args.distance_per_slice:\n",
    "            raise ValueError(f\"Expected {self.args.distance_per_slice} slices, got {len(img_paths)}\")\n",
    "        \n",
    "        mid_path = img_paths[mid]\n",
    "        if self.args.train_dataset != 'brats-met':\n",
    "            mid_path = os.path.join(self.root, \"images\", mid_path)\n",
    "        else:\n",
    "            mid_path = os.path.join(self.root, self.mode, mid_path)\n",
    "        mask_path = mid_path.replace(\"t2w\", \"seg\")\n",
    "        middle_mask = torch.from_numpy(self.read_mask(mask_path))\n",
    "        \n",
    "        for img_path in img_paths:\n",
    "            if self.args.train_dataset != 'brats-met':\n",
    "                img_path = os.path.join(self.root, \"images\", img_path)\n",
    "            else:\n",
    "                img_path = os.path.join(self.root, self.mode, img_path)\n",
    "            image = self.read_image(img_path)\n",
    "            images.append(image)\n",
    "\n",
    "            \n",
    "            if img_path == img_paths[mid] and self.visualization:\n",
    "                plot_augmentations(image, middle_mask)\n",
    "        \n",
    "        #images = self.transform(images = images, return_tensors='pt')\n",
    "        # the processor’s mean/std normalization (used for ImageNet) is meant to map pixel values from [0, 255] → roughly \n",
    "        # [-2, +2] by subtracting mean=[0.485,0.456,0.406] and dividing by std=[0.229,0.224,0.225]\n",
    "        # that’s a color-based normalization for RGB natural images — not relevant for single-channel MRI\n",
    "        images = [TF.to_tensor(img) for img in images]  # type(img) np.array \n",
    "        images = torch.stack(images, dim=0) # [K, 1, H, W]\n",
    "        #print(f\"Stacked image tensor shape {images.shape}, dtype {images.dtype}, min {images.min().item()}, max {images.max().item()}\")\n",
    "        images = images[:, 0, :, :] # exp. shape [D, H, W]\n",
    "        print(f\"Stacked image tensor shape {images.shape}, dtype {images.dtype}, min {images.min().item()}, max {images.max().item()}\")\n",
    "        if self.mode == 'train':\n",
    "            win_t, cen_t = random_zoom_crop_pad(images, middle_mask, out_hw=(512, 512), rng=self.rng, visualization=self.visualization)\n",
    "            win_t, cen_t = random_flip_rotate(win_t, cen_t, rng=self.rng, visualization=self.visualization)\n",
    "            #print(f\"cen_t shape after flip rotate {cen_t.shape}\")   \n",
    "        else:\n",
    "            # Deterministic resize only\n",
    "            win_t = TF.resize(images, (512, 512), interpolation=TF.InterpolationMode.BILINEAR, antialias=True)\n",
    "            cen_t = TF.resize(middle_mask.unsqueeze(0).float(), (512, 512), interpolation=TF.InterpolationMode.NEAREST).squeeze(0).long()\n",
    "\n",
    "        win_t = normalize_mri_window(win_t) # assuming we only have MRIs and not CTs\n",
    "\n",
    "        # Optional intensity jitter\n",
    "        if self.mode == 'train':\n",
    "            win_t = random_intensity_shift(win_t, rng=self.rng, visualization=self.visualization)\n",
    "\n",
    "        # Stack to [1,K,H,W] for 3D patch-embed\n",
    "        images = {\"pixel_values\": win_t.unsqueeze(0)}\n",
    "        \n",
    "        #print(f\"Final image tensor shape {images['pixel_values'].shape}, dtype {images['pixel_values'].dtype}, min {images['pixel_values'].min().item()}, max {images['pixel_values'].max().item()}\")\n",
    "        if self.visualization:\n",
    "            plot_augmentations(win_t[mid], cen_t)\n",
    "            print('-'*40)\n",
    "        \n",
    "        return {\"images\": images, \"mask\": cen_t}\n",
    "\n",
    "\n",
    "    def _get_meta_info(self, mode, k_shot):\n",
    "        if self.args.train_dataset == \"brats-met\":\n",
    "\n",
    "            STEP = self.args.distance_per_slice\n",
    "            MIN_WINDOW = 2                   # skip 1-slice windows (your original intent)\n",
    "\n",
    "            if mode != 'train':\n",
    "                meta_path = Path(self.root) / mode / \"meta.json\"\n",
    "            else:\n",
    "                meta_path = Path(self.root) / \"train\" / \"meta_all.json\"\n",
    "\n",
    "            with meta_path.open(\"r\") as f:\n",
    "                meta_info = json.load(f)\n",
    "            if mode == 'validation':\n",
    "                mode = 'val'  # meta.json uses 'val' instead of 'validation'\n",
    "            \n",
    "            brain = meta_info[mode][\"brain\"]\n",
    "            # brain.sort(key=lambda x: int(x['img_path'].split('/')[-3]+x['img_path'].split('/')[-1]]))\n",
    "\n",
    "            num_patients = len(brain) // self.args.SLICES_PER_PATIENT \n",
    "            # num_patients is useful since k_shot gives #patients in the training set,\n",
    "            # so num_patients-k_shot gives #patients in the validation set\n",
    "\n",
    "            buckets = defaultdict(list)\n",
    "            # iterate through patients\n",
    "            current_depth = []\n",
    "            for i, slice in enumerate(meta_info[mode]['brain']):\n",
    "                id = i % 155 # i is in [0, 154*#patients] and id in [0, 154]\n",
    "                if id < 120 and id >= 80: # exclude 120 otherwise we get a single slice\n",
    "                    if id % self.args.distance_per_slice == 0 and i > 0:\n",
    "                        #if current_depth[2].get('anomaly')==0:\n",
    "                        if len(current_depth)>0: buckets[id].append(current_depth)\n",
    "                        current_depth = [slice]\n",
    "                    else:\n",
    "                        current_depth.append(slice)\n",
    "\n",
    "            #if mode == 'train':\n",
    "            #    buckets = sample_per_slice(buckets, k_shot)\n",
    "            \n",
    "            #for key in list(buckets.keys()):\n",
    "            #    print(f\"key {key} has {len(buckets[key])} samples\")\n",
    "\n",
    "            data_to_iterate = []\n",
    "            for i in range(num_patients-1):\n",
    "            # for simplicity, skip the last slice corresponding to each index\n",
    "                for key in sorted(buckets.keys()):\n",
    "                    data_to_iterate.append(buckets[key][i])\n",
    "\n",
    "            #data_to_iterate = [item for values in buckets.values() for item in values]\n",
    "\n",
    "        else:\n",
    "            data_to_iterate = []\n",
    "            with open(os.path.join(self.root, \"samples\", f\"{mode}.json\"), \"r\") as f_r:\n",
    "                for line in f_r:\n",
    "                    meta = json.loads(line)\n",
    "                    data_to_iterate.append(meta)\n",
    "            if k_shot != -1:\n",
    "                data_to_iterate = random.sample(data_to_iterate, k_shot)\n",
    "\n",
    "        return data_to_iterate\n",
    "    \n",
    "    def _get_cls_names(self, save_dir):\n",
    "        # check in MediCLIP if we want to have more classes (e.g., edema, tumor core, enhancing tumor)\n",
    "        cls_names = [\"brain\"]\n",
    "        Path(save_dir).mkdir(exist_ok=True)\n",
    "        save_dir = os.path.join(save_dir, \"k_shot.txt\")\n",
    "        \n",
    "        return cls_names, save_dir\n",
    "    \n",
    "    def _load_slices(self, meta_info, mode, save_dir, k_shot):\n",
    "        self.cls_names, save_dir = self._get_cls_names(save_dir)\n",
    "        data_all = []\n",
    "        for cls_name in self.cls_names:\n",
    "            # Clean the file before writing\n",
    "            with open(save_dir, \"w\"): pass\n",
    "            patients = set()\n",
    "            for images in meta_info:\n",
    "                image_path_keys = []\n",
    "                patient = images[0]['img_path'].split('/')[0]\n",
    "                patients.add(patient)\n",
    "                #patient = images[self.__image_path_key].split('/')[0] if self.args.train_dataset == \"brats-met\" else images[self.__image_path_key].split('_')[0]\n",
    "                for image in images:\n",
    "                    # image_path = {self.__image_path_key: image[self.__image_path_key]}\n",
    "                    image_path_keys.append(image[self.__image_path_key])\n",
    "                    with open(save_dir, \"a\") as f:  \n",
    "                        # Write the image path of the selected samples to a file\n",
    "                        f.write(image[self.__image_path_key] + \"\\n\")\n",
    "                        # This creates a file with the paths of the selected samples, useful for reproducibility\n",
    "            \n",
    "                data_all.append(image_path_keys)\n",
    "        return data_all\n",
    "    \n",
    "    def read_image(self, path):\n",
    "        image = (\n",
    "            Image.open(path).convert(\"L\")\n",
    "        )\n",
    "        image = np.array(image).astype(np.uint8) \n",
    "        return image\n",
    "    \n",
    "    def read_mask(self, path):\n",
    "        mask = np.array(\n",
    "            Image.open(path).convert(\"L\")\n",
    "        )\n",
    "        mask = (mask > 100).astype(np.int64)\n",
    "        return mask\n"
   ]
  },
  {
   "cell_type": "markdown",
   "metadata": {},
   "source": [
    "### train_one_epoch"
   ]
  },
  {
   "cell_type": "code",
   "execution_count": 65,
   "metadata": {},
   "outputs": [],
   "source": [
    "def train_one_epoch(\n",
    "    args,\n",
    "    train_dataloader,\n",
    "    optimizer,\n",
    "    epoch,\n",
    "    start_iter,\n",
    "    logger,\n",
    "    model,\n",
    "    scheduler,\n",
    "):\n",
    "    \n",
    "    model.train()\n",
    "    loss_meter = AverageMeter(args.config.print_freq_step)\n",
    "    # todo: check if the original model predicts logits or probabilities \n",
    "    focal_criterion = FocalLoss()\n",
    "    dice_criterion = BinaryDiceLoss()\n",
    "    for i, input in enumerate(train_dataloader):\n",
    "\n",
    "        curr_step = start_iter + i\n",
    "        if curr_step >= args.config.total_steps:\n",
    "            break\n",
    "        \n",
    "        images = input[\"images\"][\"pixel_values\"].to(model.device) # [16, 1, 5, 512, 512]\n",
    "        gt_mask = input[\"mask\"].to(model.device).long()\n",
    "\n",
    "        #print(f\"images shape is {images['pixel_values'].shape}\")\n",
    "        #print(f\"gt mask shape is {gt_mask.shape}\")\n",
    "        #1, 1, 5, 512, 512\n",
    "\n",
    "        #with torch.no_grad(): \n",
    "        # don't run inference mode nowhere, since the gradient has to reach the beginning\n",
    "        # instead torch.no_grad() cuts the gradient path in the place it's applied\n",
    "        bb_out = model.backbone(pixel_values=images)     \n",
    "        feats = bb_out.feature_maps\n",
    "        logits = model.decode_head(feats)\n",
    "        logits_up = F.interpolate(logits, size=gt_mask.shape[-2:], mode=\"bilinear\", align_corners=False)\n",
    "        anomaly_map = torch.softmax(logits_up, dim=1)\n",
    "        \n",
    "        loss_list = []\n",
    "        # S_n and S_a have shapes [B, H, W]\n",
    "        # then anomaly_map has shape [B, 2, H, W] where [0] is S_n and [1] is S_a\n",
    "        \"\"\"function applies a softmax across the class dimension (dim=1) to turn \n",
    "        the [B, 2, H, W] into probabilities per class per pixel.\n",
    "        Then, for each pixel:\n",
    "            It extracts the probability for the true class (using gt_mask)\n",
    "        \"\"\"\n",
    "        # at the beginning the weights are around 0, hence the model almost always predicts 0\n",
    "        # since a mask is almost all 0s, the error is already low\n",
    "        # build losses for this batch\n",
    "        loss_list.append(dice_criterion(anomaly_map[:, 1, :, :], gt_mask))\n",
    "        \"\"\"Unlike Focal Loss or CrossEntropyLoss, which operate on probabilities \n",
    "        (and therefore penalize over- or under-confidence), Dice Loss works on \n",
    "        soft masks and is focused on overlap between prediction and ground truth.\n",
    "        It doesn't care that much about the confidence:\n",
    "            - In CrossEntropy/Focal Loss, confidence hugely change the loss depending \n",
    "            on how close they are to the target (e.g., log(0.95) vs log(0.55) is very different).\n",
    "            - In Dice Loss, it just gets multiplied by the ground truth and added up\n",
    "        \"\"\"\n",
    "        \n",
    "        # e.g., focal on logits (or add your other terms)\n",
    "        loss_list.append(focal_criterion(anomaly_map, gt_mask))\n",
    "        # reduce to a single scalar tensor (preserves graph)\n",
    "        loss = torch.stack(loss_list).sum()\n",
    "        # backward + step\n",
    "        optimizer.zero_grad(set_to_none=True)\n",
    "        loss.backward()\n",
    "        optimizer.step()\n",
    "        scheduler.step() # must be called after optimizer.step() to update the lr correctly\n",
    "\n",
    "        # logging (safe: don't overwrite `loss`)\n",
    "        loss_meter.update(loss.detach().item())\n",
    "\n",
    "        if curr_step % 100 == 0:\n",
    "            current_lr = scheduler.get_last_lr()[0]\n",
    "            print(f\"Step {curr_step}: LR = {current_lr:.6f}\")\n",
    "\n",
    "        if (curr_step + 1) % args.config.print_freq_step == 0:\n",
    "            logger.info(\n",
    "                \"Epoch: [{0}/{1}]\\t\"\n",
    "                \"Iter: [{2}/{3}]\\t\"\n",
    "                \"Loss {loss.val:.5f} ({loss.avg:.5f})\\t\".format(\n",
    "                    epoch + 1,\n",
    "                    args.config.epoch,\n",
    "                    curr_step + 1,\n",
    "                    len(train_dataloader) * args.config.epoch if len(train_dataloader) * args.config.epoch < args.config.total_steps else args.config.total_steps,\n",
    "                    loss=loss_meter,\n",
    "                )\n",
    "            )"
   ]
  },
  {
   "cell_type": "markdown",
   "metadata": {},
   "source": [
    "### visualize augmentations"
   ]
  },
  {
   "cell_type": "code",
   "execution_count": 59,
   "metadata": {},
   "outputs": [],
   "source": [
    "def short_train_one_epoch(\n",
    "    args,\n",
    "    train_dataloader,\n",
    "    optimizer,\n",
    "    epoch,\n",
    "    start_iter,\n",
    "    logger,\n",
    "    model,\n",
    "    scheduler,\n",
    "):\n",
    "    \n",
    "    model.train()\n",
    "    loss_meter = AverageMeter(args.config.print_freq_step)\n",
    "    focal_criterion = FocalLoss()\n",
    "    dice_criterion = BinaryDiceLoss()\n",
    "    for i, input in enumerate(train_dataloader):\n",
    "\n",
    "        curr_step = start_iter + i\n",
    "        if curr_step >= args.config.total_steps:\n",
    "            break\n",
    "        \n",
    "        images = input[\"images\"][\"pixel_values\"].to(model.device) # [16, 1, 5, 512, 512]\n",
    "        gt_mask = input[\"mask\"].to(model.device).long()\n",
    "        if i > 10: break"
   ]
  },
  {
   "cell_type": "code",
   "execution_count": 60,
   "metadata": {},
   "outputs": [],
   "source": [
    "def short_main(args):\n",
    "    device = \"cuda\" if torch.cuda.is_available() else \"cpu\"\n",
    "\n",
    "    with open(args.config_path) as f:\n",
    "        args.config = EasyDict(yaml.load(f, Loader=yaml.FullLoader))\n",
    "\n",
    "    set_seed(seed=args.config.random_seed)\n",
    "\n",
    "    source = os.path.join(args.config.data_root, args.config.train_dataset)\n",
    "\n",
    "    full_dataset = BratsDataset(\n",
    "        args=args.config,\n",
    "        root=source,\n",
    "        mode=\"train\",\n",
    "        k_shot=args.k_shot,\n",
    "        visualization=True,\n",
    "    )\n",
    "    train_size = int(args.k_shot) * int((args.config.END_ID - args.config.START_ID)/args.config.distance_per_slice)\n",
    "    val_size = len(full_dataset) - train_size\n",
    "\n",
    "    train_indices = list(range(0, train_size))\n",
    "    val_indices = list(range(train_size, len(full_dataset)))\n",
    "\n",
    "    train_dataset = Subset(full_dataset, train_indices)\n",
    "    val_dataset = Subset(full_dataset, val_indices)\n",
    "    \n",
    "\n",
    "    train_dataloader = DataLoader(\n",
    "        train_dataset,\n",
    "        batch_size=args.config.batch_size,\n",
    "        shuffle=True,\n",
    "        num_workers=0,\n",
    "        persistent_workers=False\n",
    "    )\n",
    "\n",
    "    val_dataloader = DataLoader(\n",
    "        val_dataset,\n",
    "        batch_size=(args.config.batch_size*2), # potentially increase batch size for validation\n",
    "        shuffle=False,\n",
    "        num_workers=0,\n",
    "    )\n",
    "\n",
    "    test_dataloaders = {}\n",
    "    best_record = {}\n",
    "    for test_dataset_name in args.config.test_datasets:\n",
    "        test_dataloaders[test_dataset_name] = val_dataloader\n",
    "        best_record[test_dataset_name] = None\n",
    "\n",
    "\n",
    "    for param in model.parameters():\n",
    "        param.requires_grad = False\n",
    "\n",
    "    for param in model.decode_head.classifier.parameters():\n",
    "        param.requires_grad = True\n",
    "\n",
    "    for param in model.backbone.embeddings.patch_embeddings.conv3d.proj.parameters():\n",
    "        param.requires_grad = True\n",
    "\n",
    "    optimizer = torch.optim.AdamW(\n",
    "        [\n",
    "            {'params': model.decode_head.classifier.parameters(),\n",
    "            'lr': float(args.config.learning_rate),\n",
    "            'weight_decay': float(args.config.weight_decay)},\n",
    "\n",
    "            {'params': model.backbone.embeddings.patch_embeddings.conv3d.proj.parameters(),\n",
    "            'lr': float(args.config.learning_rate),\n",
    "            'weight_decay': float(args.config.weight_decay)},\n",
    "        ],\n",
    "        betas=(0.9, 0.999) # how much to keep of the past gradients\n",
    "    )\n",
    "\n",
    "    def slanted_triangular_lr(step):\n",
    "        if step < args.config.warmup_steps:\n",
    "            return step / args.config.warmup_steps\n",
    "        else:\n",
    "            return max(0.0, (args.config.total_steps - step) / (args.config.total_steps - args.config.warmup_steps))\n",
    "\n",
    "    scheduler = torch.optim.lr_scheduler.LambdaLR(optimizer, lr_lambda=slanted_triangular_lr)\n",
    "\n",
    "    logger = create_logger(\"logger\", os.path.join(args.config.save_root, \"logger.log\"))\n",
    "\n",
    "    for epoch in range(0, args.config.epoch):\n",
    "\n",
    "        last_iter = epoch * len(train_dataloader)\n",
    "\n",
    "        if last_iter >= args.config.total_steps: break\n",
    "        \n",
    "        short_train_one_epoch(\n",
    "            args,\n",
    "            train_dataloader,\n",
    "            optimizer,\n",
    "            epoch,\n",
    "            last_iter,\n",
    "            logger,\n",
    "            model,\n",
    "            scheduler,\n",
    "        )\n",
    "\n",
    "        break\n",
    "        "
   ]
  },
  {
   "cell_type": "code",
   "execution_count": 61,
   "metadata": {},
   "outputs": [
    {
     "name": "stdout",
     "output_type": "stream",
     "text": [
      "Loading metadata from /home/nicoc/data/Brats2D/brats-met/train/meta.json for mode train\n"
     ]
    },
    {
     "ename": "FileNotFoundError",
     "evalue": "[Errno 2] No such file or directory: '/home/nicoc/data/Brats2D/brats-met/train/meta.json'",
     "output_type": "error",
     "traceback": [
      "\u001b[0;31m---------------------------------------------------------------------------\u001b[0m",
      "\u001b[0;31mFileNotFoundError\u001b[0m                         Traceback (most recent call last)",
      "Cell \u001b[0;32mIn[61], line 16\u001b[0m\n\u001b[1;32m     14\u001b[0m args, unknown \u001b[38;5;241m=\u001b[39m parser\u001b[38;5;241m.\u001b[39mparse_known_args()\n\u001b[1;32m     15\u001b[0m \u001b[38;5;66;03m#torch.multiprocessing.set_start_method(\"spawn\")\u001b[39;00m\n\u001b[0;32m---> 16\u001b[0m \u001b[43mshort_main\u001b[49m\u001b[43m(\u001b[49m\u001b[43margs\u001b[49m\u001b[43m)\u001b[49m\n",
      "Cell \u001b[0;32mIn[60], line 11\u001b[0m, in \u001b[0;36mshort_main\u001b[0;34m(args)\u001b[0m\n\u001b[1;32m      7\u001b[0m set_seed(seed\u001b[38;5;241m=\u001b[39margs\u001b[38;5;241m.\u001b[39mconfig\u001b[38;5;241m.\u001b[39mrandom_seed)\n\u001b[1;32m      9\u001b[0m source \u001b[38;5;241m=\u001b[39m os\u001b[38;5;241m.\u001b[39mpath\u001b[38;5;241m.\u001b[39mjoin(args\u001b[38;5;241m.\u001b[39mconfig\u001b[38;5;241m.\u001b[39mdata_root, args\u001b[38;5;241m.\u001b[39mconfig\u001b[38;5;241m.\u001b[39mtrain_dataset)\n\u001b[0;32m---> 11\u001b[0m full_dataset \u001b[38;5;241m=\u001b[39m \u001b[43mBratsDataset\u001b[49m\u001b[43m(\u001b[49m\n\u001b[1;32m     12\u001b[0m \u001b[43m    \u001b[49m\u001b[43margs\u001b[49m\u001b[38;5;241;43m=\u001b[39;49m\u001b[43margs\u001b[49m\u001b[38;5;241;43m.\u001b[39;49m\u001b[43mconfig\u001b[49m\u001b[43m,\u001b[49m\n\u001b[1;32m     13\u001b[0m \u001b[43m    \u001b[49m\u001b[43mroot\u001b[49m\u001b[38;5;241;43m=\u001b[39;49m\u001b[43msource\u001b[49m\u001b[43m,\u001b[49m\n\u001b[1;32m     14\u001b[0m \u001b[43m    \u001b[49m\u001b[43mmode\u001b[49m\u001b[38;5;241;43m=\u001b[39;49m\u001b[38;5;124;43m\"\u001b[39;49m\u001b[38;5;124;43mtrain\u001b[39;49m\u001b[38;5;124;43m\"\u001b[39;49m\u001b[43m,\u001b[49m\n\u001b[1;32m     15\u001b[0m \u001b[43m    \u001b[49m\u001b[43mk_shot\u001b[49m\u001b[38;5;241;43m=\u001b[39;49m\u001b[43margs\u001b[49m\u001b[38;5;241;43m.\u001b[39;49m\u001b[43mk_shot\u001b[49m\u001b[43m,\u001b[49m\n\u001b[1;32m     16\u001b[0m \u001b[43m    \u001b[49m\u001b[43mvisualization\u001b[49m\u001b[38;5;241;43m=\u001b[39;49m\u001b[38;5;28;43;01mTrue\u001b[39;49;00m\u001b[43m,\u001b[49m\n\u001b[1;32m     17\u001b[0m \u001b[43m\u001b[49m\u001b[43m)\u001b[49m\n\u001b[1;32m     18\u001b[0m train_size \u001b[38;5;241m=\u001b[39m \u001b[38;5;28mint\u001b[39m(args\u001b[38;5;241m.\u001b[39mk_shot) \u001b[38;5;241m*\u001b[39m \u001b[38;5;28mint\u001b[39m((args\u001b[38;5;241m.\u001b[39mconfig\u001b[38;5;241m.\u001b[39mEND_ID \u001b[38;5;241m-\u001b[39m args\u001b[38;5;241m.\u001b[39mconfig\u001b[38;5;241m.\u001b[39mSTART_ID)\u001b[38;5;241m/\u001b[39margs\u001b[38;5;241m.\u001b[39mconfig\u001b[38;5;241m.\u001b[39mdistance_per_slice)\n\u001b[1;32m     19\u001b[0m val_size \u001b[38;5;241m=\u001b[39m \u001b[38;5;28mlen\u001b[39m(full_dataset) \u001b[38;5;241m-\u001b[39m train_size\n",
      "Cell \u001b[0;32mIn[54], line 21\u001b[0m, in \u001b[0;36mBratsDataset.__init__\u001b[0;34m(self, args, root, mode, save_dir, k_shot, seed, visualization)\u001b[0m\n\u001b[1;32m     18\u001b[0m \u001b[38;5;28mself\u001b[39m\u001b[38;5;241m.\u001b[39mk_shot \u001b[38;5;241m=\u001b[39m k_shot\n\u001b[1;32m     19\u001b[0m \u001b[38;5;28mself\u001b[39m\u001b[38;5;241m.\u001b[39mtrain_size \u001b[38;5;241m=\u001b[39m \u001b[38;5;28mint\u001b[39m(k_shot) \u001b[38;5;241m*\u001b[39m \u001b[38;5;28mint\u001b[39m((args\u001b[38;5;241m.\u001b[39mEND_ID \u001b[38;5;241m-\u001b[39m args\u001b[38;5;241m.\u001b[39mSTART_ID)\u001b[38;5;241m/\u001b[39margs\u001b[38;5;241m.\u001b[39mdistance_per_slice)\n\u001b[0;32m---> 21\u001b[0m meta_info \u001b[38;5;241m=\u001b[39m \u001b[38;5;28;43mself\u001b[39;49m\u001b[38;5;241;43m.\u001b[39;49m\u001b[43m_get_meta_info\u001b[49m\u001b[43m(\u001b[49m\u001b[43mmode\u001b[49m\u001b[43m,\u001b[49m\u001b[43m \u001b[49m\u001b[43mk_shot\u001b[49m\u001b[43m)\u001b[49m\n\u001b[1;32m     22\u001b[0m \u001b[38;5;28mself\u001b[39m\u001b[38;5;241m.\u001b[39mdata_all \u001b[38;5;241m=\u001b[39m \u001b[38;5;28mself\u001b[39m\u001b[38;5;241m.\u001b[39m_load_slices(meta_info, mode, save_dir, k_shot)\n\u001b[1;32m     24\u001b[0m \u001b[38;5;28mself\u001b[39m\u001b[38;5;241m.\u001b[39mlength \u001b[38;5;241m=\u001b[39m \u001b[38;5;28mlen\u001b[39m(\u001b[38;5;28mself\u001b[39m\u001b[38;5;241m.\u001b[39mdata_all)\n",
      "Cell \u001b[0;32mIn[54], line 102\u001b[0m, in \u001b[0;36mBratsDataset._get_meta_info\u001b[0;34m(self, mode, k_shot)\u001b[0m\n\u001b[1;32m     99\u001b[0m meta_path \u001b[38;5;241m=\u001b[39m Path(\u001b[38;5;28mself\u001b[39m\u001b[38;5;241m.\u001b[39mroot) \u001b[38;5;241m/\u001b[39m mode \u001b[38;5;241m/\u001b[39m \u001b[38;5;124m\"\u001b[39m\u001b[38;5;124mmeta.json\u001b[39m\u001b[38;5;124m\"\u001b[39m\n\u001b[1;32m    100\u001b[0m \u001b[38;5;28mprint\u001b[39m(\u001b[38;5;124mf\u001b[39m\u001b[38;5;124m\"\u001b[39m\u001b[38;5;124mLoading metadata from \u001b[39m\u001b[38;5;132;01m{\u001b[39;00mmeta_path\u001b[38;5;132;01m}\u001b[39;00m\u001b[38;5;124m for mode \u001b[39m\u001b[38;5;132;01m{\u001b[39;00mmode\u001b[38;5;132;01m}\u001b[39;00m\u001b[38;5;124m\"\u001b[39m)\n\u001b[0;32m--> 102\u001b[0m \u001b[38;5;28;01mwith\u001b[39;00m \u001b[43mmeta_path\u001b[49m\u001b[38;5;241;43m.\u001b[39;49m\u001b[43mopen\u001b[49m\u001b[43m(\u001b[49m\u001b[38;5;124;43m\"\u001b[39;49m\u001b[38;5;124;43mr\u001b[39;49m\u001b[38;5;124;43m\"\u001b[39;49m\u001b[43m)\u001b[49m \u001b[38;5;28;01mas\u001b[39;00m f:\n\u001b[1;32m    103\u001b[0m     meta_info \u001b[38;5;241m=\u001b[39m json\u001b[38;5;241m.\u001b[39mload(f)\n\u001b[1;32m    104\u001b[0m \u001b[38;5;28mprint\u001b[39m(\u001b[38;5;28mlen\u001b[39m(meta_info[mode][\u001b[38;5;124m\"\u001b[39m\u001b[38;5;124mbrain\u001b[39m\u001b[38;5;124m\"\u001b[39m]), \u001b[38;5;124m\"\u001b[39m\u001b[38;5;124mslices found\u001b[39m\u001b[38;5;124m\"\u001b[39m)\n",
      "File \u001b[0;32m/opt/conda/lib/python3.10/pathlib.py:1119\u001b[0m, in \u001b[0;36mPath.open\u001b[0;34m(self, mode, buffering, encoding, errors, newline)\u001b[0m\n\u001b[1;32m   1117\u001b[0m \u001b[38;5;28;01mif\u001b[39;00m \u001b[38;5;124m\"\u001b[39m\u001b[38;5;124mb\u001b[39m\u001b[38;5;124m\"\u001b[39m \u001b[38;5;129;01mnot\u001b[39;00m \u001b[38;5;129;01min\u001b[39;00m mode:\n\u001b[1;32m   1118\u001b[0m     encoding \u001b[38;5;241m=\u001b[39m io\u001b[38;5;241m.\u001b[39mtext_encoding(encoding)\n\u001b[0;32m-> 1119\u001b[0m \u001b[38;5;28;01mreturn\u001b[39;00m \u001b[38;5;28;43mself\u001b[39;49m\u001b[38;5;241;43m.\u001b[39;49m\u001b[43m_accessor\u001b[49m\u001b[38;5;241;43m.\u001b[39;49m\u001b[43mopen\u001b[49m\u001b[43m(\u001b[49m\u001b[38;5;28;43mself\u001b[39;49m\u001b[43m,\u001b[49m\u001b[43m \u001b[49m\u001b[43mmode\u001b[49m\u001b[43m,\u001b[49m\u001b[43m \u001b[49m\u001b[43mbuffering\u001b[49m\u001b[43m,\u001b[49m\u001b[43m \u001b[49m\u001b[43mencoding\u001b[49m\u001b[43m,\u001b[49m\u001b[43m \u001b[49m\u001b[43merrors\u001b[49m\u001b[43m,\u001b[49m\n\u001b[1;32m   1120\u001b[0m \u001b[43m                           \u001b[49m\u001b[43mnewline\u001b[49m\u001b[43m)\u001b[49m\n",
      "\u001b[0;31mFileNotFoundError\u001b[0m: [Errno 2] No such file or directory: '/home/nicoc/data/Brats2D/brats-met/train/meta.json'"
     ]
    }
   ],
   "source": [
    "parser = argparse.ArgumentParser(description=\"Train MediCLIP\")\n",
    "parser.add_argument(\n",
    "    \"--config_path\", type=str, default=\"config/brats-met.yaml\", help=\"model configs\"\n",
    ")\n",
    "parser.add_argument(\"--k_shot\", type=int, default=16, help=\"normal image number\")\n",
    "parser.add_argument(\n",
    "    \"--patients\",\n",
    "    type=bool,\n",
    "    default=False,\n",
    "    help=\"whether to k-shot refers to patients\",\n",
    ")\n",
    "parser.add_argument(\"--checkpoint_path\", type=str, help=\"the checkpoint path\", default=None)\n",
    "parser.add_argument('--pmc', type=bool, help = 'use pmc as backbone', default=True) \n",
    "args, unknown = parser.parse_known_args()\n",
    "#torch.multiprocessing.set_start_method(\"spawn\")\n",
    "short_main(args)"
   ]
  },
  {
   "cell_type": "markdown",
   "metadata": {},
   "source": [
    "### validate"
   ]
  },
  {
   "cell_type": "code",
   "execution_count": 66,
   "metadata": {},
   "outputs": [],
   "source": [
    "def validate(\n",
    "   test_dataloaders, model, \n",
    "):\n",
    "    model.eval()\n",
    "    results = {}\n",
    "    focal_criterion = FocalLoss()\n",
    "    dice_criterion = BinaryDiceLoss()\n",
    "    \n",
    "    for test_dataset_name in test_dataloaders:\n",
    "        test_dataloader = test_dataloaders[test_dataset_name]\n",
    "        anomaly_maps = []\n",
    "        anomaly_gts = []\n",
    "\n",
    "        image_scores = []\n",
    "        image_labels = []\n",
    "\n",
    "        val_loss = 0.0\n",
    "\n",
    "        with torch.no_grad():\n",
    "            for i, input in enumerate(tqdm(test_dataloader, desc=test_dataset_name)):\n",
    "                loss_list = []\n",
    "                images = input[\"images\"][\"pixel_values\"].to(model.device)\n",
    "                anomaly_gt = input[\"mask\"].to(model.device).long()\n",
    "\n",
    "                bb_out = model.backbone(pixel_values=images)\n",
    "                feats = bb_out.feature_maps\n",
    "                logits = model.decode_head(feats)\n",
    "                logits_up = F.interpolate(logits, size=anomaly_gt.shape[-2:], mode=\"bilinear\", align_corners=False)\n",
    "                anomaly_map = torch.softmax(logits_up, dim=1)\n",
    "\n",
    "                loss_list.append(dice_criterion(anomaly_map[:, 1, :, :], anomaly_gt))\n",
    "                loss_list.append(focal_criterion(anomaly_map, anomaly_gt))\n",
    "                loss = torch.stack(loss_list).sum()\n",
    "                val_loss += loss.item()\n",
    "                B, _, H, W = anomaly_map.shape\n",
    "\n",
    "                anomaly_map = anomaly_map[:, 1, :, :]\n",
    "                \n",
    "                anomaly_maps.append(anomaly_map.cpu().numpy())\n",
    "                anomaly_gts.append(anomaly_gt.cpu().numpy())\n",
    "\n",
    "                anomaly_scores, _ = torch.max(anomaly_map.view((B, H * W)), dim=-1)\n",
    "\n",
    "                image_scores.extend(anomaly_scores.cpu().numpy().tolist())\n",
    "                 \n",
    "                #image_labels.extend(input[\"is_anomaly\"].cpu().numpy().tolist())\n",
    "                for mask in anomaly_gt:\n",
    "                    num_ones = (mask == 1).sum().item()\n",
    "                    image_labels.append(1 if num_ones > 10 else 0)\n",
    "\n",
    "        metric = compute_imagewise_metrics(image_scores, image_labels)\n",
    "        metric.update(compute_pixelwise_metrics(anomaly_maps, anomaly_gts))\n",
    "        results[test_dataset_name] = metric\n",
    "        val_loss /= len(test_dataloader)\n",
    "\n",
    "    return results, val_loss"
   ]
  },
  {
   "cell_type": "markdown",
   "metadata": {},
   "source": [
    "### early stop"
   ]
  },
  {
   "cell_type": "code",
   "execution_count": 67,
   "metadata": {},
   "outputs": [],
   "source": [
    "class EarlyStopping:\n",
    "    \"\"\"\n",
    "    Early stop training when the monitored metric stops improving.\n",
    "\n",
    "    Args:\n",
    "        mode: \"min\" (e.g., val_loss) or \"max\" (e.g., val_dice)\n",
    "        patience: epochs to wait after last improvement\n",
    "        delta: minimum change to qualify as an improvement\n",
    "        verbose: print when improvement happens\n",
    "    \"\"\"\n",
    "    def __init__(self, mode=\"min\", patience=10, delta=0.0, verbose=True):\n",
    "        assert mode in {\"min\", \"max\"}\n",
    "        self.mode = mode\n",
    "        self.patience = patience\n",
    "        self.delta = delta\n",
    "        self.verbose = verbose\n",
    "\n",
    "        self.best = math.inf if mode == \"min\" else -math.inf\n",
    "        self.num_bad_epochs = 0\n",
    "        self.should_stop = False\n",
    "\n",
    "    def _is_improvement(self, score):\n",
    "        if self.mode == \"min\":\n",
    "            return score < (self.best - self.delta)\n",
    "        else:  # \"max\"\n",
    "            return score > (self.best + self.delta)\n",
    "\n",
    "    def step(self, score, model=None):\n",
    "        \"\"\"\n",
    "        Update with the latest validation score.\n",
    "        Returns True if you should stop training.\n",
    "        If a model is provided, saves the best checkpoint on improvement.\n",
    "        \"\"\"\n",
    "        if self._is_improvement(score):\n",
    "            self.best = score\n",
    "            self.num_bad_epochs = 0\n",
    "            if self.verbose:\n",
    "                print(f\"[EarlyStopping] New best: {score:.6f}\")\n",
    "        else:\n",
    "            self.num_bad_epochs += 1\n",
    "            if self.verbose:\n",
    "                print(f\"[EarlyStopping] No improv ({self.num_bad_epochs}/{self.patience})\")\n",
    "            if self.num_bad_epochs >= self.patience:\n",
    "                self.should_stop = True\n",
    "        return self.should_stop\n"
   ]
  },
  {
   "cell_type": "markdown",
   "metadata": {},
   "source": [
    "### main"
   ]
  },
  {
   "cell_type": "code",
   "execution_count": 68,
   "metadata": {},
   "outputs": [],
   "source": [
    "def main(args):\n",
    "    device = \"cuda\" if torch.cuda.is_available() else \"cpu\"\n",
    "\n",
    "    with open(args.config_path) as f:\n",
    "        args.config = EasyDict(yaml.load(f, Loader=yaml.FullLoader))\n",
    "\n",
    "    set_seed(seed=args.config.random_seed)\n",
    "\n",
    "    \"\"\"\n",
    "\n",
    "    num_classes = 2\n",
    "\n",
    "    # Replace the final classifier\n",
    "    model.decode_head.classifier = nn.Conv2d(\n",
    "        in_channels=model.decode_head.classifier.in_channels,\n",
    "        out_channels=num_classes,\n",
    "        kernel_size=1\n",
    "    )\n",
    "\n",
    "    conv3d_embed = Conv3dPatchEmbed(\n",
    "        in_chans=1,\n",
    "        embed_dim=128,         # must match Swin config\n",
    "        kernel_size=(5,4,4),\n",
    "        stride=(5,4,4),\n",
    "        pretrained_weights=W2d,\n",
    "        pretrained_bias=b2d\n",
    "    )\n",
    "\n",
    "\n",
    "    # Replace the entire patch_embeddings module with the 3D-aware wrapper\n",
    "    model.backbone.embeddings.patch_embeddings = make_patch_embeddings_3d(\n",
    "        model.backbone.embeddings,\n",
    "        conv3d_embed\n",
    "    )\n",
    "\n",
    "    model.to(device);\"\"\"\n",
    "\n",
    "    #source = os.path.join(args.config.data_root, args.config.train_dataset)\n",
    "    source = args.config.data_root\n",
    "\n",
    "    full_dataset = BratsDataset(\n",
    "        args=args.config,\n",
    "        root=source,\n",
    "        mode=\"train\",\n",
    "        k_shot=args.k_shot,\n",
    "    )\n",
    "\n",
    "    print(f\"Total training dataset size before split: {len(full_dataset)}\")\n",
    "\n",
    "    admitted_slices = int((args.config.END_ID - args.config.START_ID)/args.config.distance_per_slice)\n",
    "    samples_per_slice = len(full_dataset) // admitted_slices\n",
    "    if args.k_shot == -1:\n",
    "        args.k_shot = int(0.8 * samples_per_slice)\n",
    "    train_size = int(args.k_shot) * admitted_slices\n",
    "    print(f\"Using {train_size} samples for training with {args.k_shot} shots and {admitted_slices} slices per patient\")\n",
    "    # to ensure that the validation set remains the same across different k-shot runs, we will use the same split\n",
    "    # for a fair comparison across k-shot experiments\n",
    "\n",
    "    # option 1 - fixed split\n",
    "    #val_size = len(full_dataset) - (int(0.8 * samples_per_slice) * admitted_slices)\n",
    "    # option 2 - separate dataset for validation\n",
    "    val_dataset = BratsDataset(\n",
    "        args=args.config,\n",
    "        root=source,\n",
    "        mode=\"validation\",\n",
    "        k_shot=args.k_shot,\n",
    "    )\n",
    "    print(f\"Using {len(val_dataset)} samples for validation\")\n",
    "\n",
    "    train_indices = list(range(0, train_size))\n",
    "    #val_indices = list(range((int(0.8 * samples_per_slice) * admitted_slices), len(full_dataset)))\n",
    "\n",
    "    train_dataset = Subset(full_dataset, train_indices)\n",
    "    #val_dataset = Subset(full_dataset, val_indices)\n",
    "\n",
    "    # option 3 - random split\n",
    "    #train_size = int(0.67 * len(train_dataset))\n",
    "    #validation_size = len(train_dataset) - train_size\n",
    "    #train_dataset, val_dataset = random_split(train_dataset, [train_size, validation_size])\n",
    "\n",
    "    train_dataloader = DataLoader(\n",
    "        train_dataset,\n",
    "        batch_size=args.config.batch_size,\n",
    "        shuffle=True,\n",
    "        num_workers=num_workers,\n",
    "    )\n",
    "\n",
    "    val_dataloader = DataLoader(\n",
    "        val_dataset,\n",
    "        batch_size=(args.config.batch_size*2), # potentially increase batch size for validation\n",
    "        shuffle=False,\n",
    "        num_workers=num_workers,\n",
    "    )\n",
    "\n",
    "    test_dataloaders = {}\n",
    "    best_record = {}\n",
    "    for test_dataset_name in args.config.test_datasets:\n",
    "        test_dataloaders[test_dataset_name] = val_dataloader\n",
    "        best_record[test_dataset_name] = None\n",
    "\n",
    "\n",
    "    for param in model.parameters():\n",
    "        param.requires_grad = False\n",
    "\n",
    "    for param in model.decode_head.classifier.parameters():\n",
    "        param.requires_grad = True\n",
    "\n",
    "    for param in model.backbone.embeddings.patch_embeddings.conv3d.proj.parameters():\n",
    "        param.requires_grad = True\n",
    "\n",
    "    optimizer = torch.optim.AdamW(\n",
    "        [\n",
    "            {'params': model.decode_head.classifier.parameters(),\n",
    "            'lr': float(args.config.learning_rate),\n",
    "            'weight_decay': float(args.config.weight_decay)},\n",
    "\n",
    "            {'params': model.backbone.embeddings.patch_embeddings.conv3d.proj.parameters(),\n",
    "            'lr': float(args.config.learning_rate),\n",
    "            'weight_decay': float(args.config.weight_decay)},\n",
    "        ],\n",
    "        betas=(0.9, 0.999) # how much to keep of the past gradients\n",
    "    )\n",
    "\n",
    "    def slanted_triangular_lr(step):\n",
    "        if step < args.config.warmup_steps:\n",
    "            return step / args.config.warmup_steps\n",
    "        else:\n",
    "            return max(0.0, (args.config.total_steps - step) / (args.config.total_steps - args.config.warmup_steps))\n",
    "\n",
    "    scheduler = torch.optim.lr_scheduler.LambdaLR(optimizer, lr_lambda=slanted_triangular_lr)\n",
    "\n",
    "\n",
    "    log_path = Path(args.config.save_root, str(args.k_shot), 'logger.log')\n",
    "    log_path.parent.mkdir(parents=True, exist_ok=True)\n",
    "    logger = create_logger(f\"logger_{args.k_shot}\", log_path)\n",
    "\n",
    "    early = EarlyStopping(mode=\"max\", patience=25, delta=1e-3)\n",
    "\n",
    "    for epoch in range(0, args.config.epoch):\n",
    "\n",
    "        last_iter = epoch * len(train_dataloader)\n",
    "\n",
    "        if last_iter >= args.config.total_steps: break\n",
    "        \n",
    "        train_one_epoch(\n",
    "            args,\n",
    "            train_dataloader,\n",
    "            optimizer,\n",
    "            epoch,\n",
    "            last_iter,\n",
    "            logger,\n",
    "            model,\n",
    "            scheduler,\n",
    "        )\n",
    "\n",
    "        if (epoch+1) % args.config.val_freq_epoch == 0:\n",
    "            results, val_loss = validate(\n",
    "                test_dataloaders,\n",
    "                model,\n",
    "            )\n",
    "            save_flag = False\n",
    "            stop = early.step(results[test_dataset_name][\"image-auroc\"]+results[test_dataset_name][\"pixel-auroc\"], model)  # for loss (mode=\"min\")\n",
    "            \n",
    "            if stop:\n",
    "                print(\"Early stopping triggered.\")\n",
    "                break\n",
    "\n",
    "            for test_dataset_name in results:\n",
    "                if best_record[test_dataset_name] is None:\n",
    "                    best_record[test_dataset_name] = [\n",
    "                        results[test_dataset_name][\"image-auroc\"],\n",
    "                        results[test_dataset_name][\"pixel-auroc\"],\n",
    "                    ]\n",
    "                    \n",
    "                    save_flag = True\n",
    "                else:\n",
    "                    if np.mean(\n",
    "                        [\n",
    "                            results[test_dataset_name][key]\n",
    "                            for key in results[test_dataset_name]\n",
    "                        ]\n",
    "                    ) > np.mean(best_record[test_dataset_name]):\n",
    "\n",
    "                        best_record[test_dataset_name] = [\n",
    "                            results[test_dataset_name][\"image-auroc\"],\n",
    "                            results[test_dataset_name][\"pixel-auroc\"],\n",
    "                        ]\n",
    "                        \n",
    "                        save_flag = True\n",
    "\n",
    "                logger.info(\n",
    "                    \"({}): Epoch: {}, image auroc: {:.4f}, pixel_auroc: {:.4f}, val_loss: {:.4f}\".format(\n",
    "                        test_dataset_name,\n",
    "                        epoch + 1,\n",
    "                        results[test_dataset_name][\"image-auroc\"],\n",
    "                        results[test_dataset_name][\"pixel-auroc\"],\n",
    "                        val_loss\n",
    "                    )\n",
    "                )\n",
    "\n",
    "            for test_dataset_name in results:\n",
    "                logger.info(\n",
    "                    \"({} best): image auroc: {:.4f}, pixel auroc: {:.4f},\".format(\n",
    "                        test_dataset_name,\n",
    "                        best_record[test_dataset_name][0],\n",
    "                        best_record[test_dataset_name][1],\n",
    "                    )\n",
    "                )\n",
    "               \n",
    "                if save_flag:\n",
    "                    logger.info(f\"Saving checkpoints at epoch {epoch + 1}\")\n",
    "                    torch.save(\n",
    "                        {\n",
    "                            \"decode_head_classifier\": model.decode_head.classifier.state_dict(),\n",
    "                            \"patch_embed_conv3d_proj\": model.backbone.embeddings.state_dict(),\n",
    "                        },\n",
    "                        os.path.join(\n",
    "                            args.config.save_root, str(args.k_shot), f\"checkpoints_{epoch + 1}.pkl\"\n",
    "                        ),\n",
    "                    )\n"
   ]
  },
  {
   "cell_type": "markdown",
   "metadata": {},
   "source": [
    "### free RAM"
   ]
  },
  {
   "cell_type": "code",
   "execution_count": 91,
   "metadata": {},
   "outputs": [],
   "source": [
    "def free_ram():\n",
    "    gc.collect()                     # free Python refs\n",
    "    torch.cuda.empty_cache()         # release cached blocks to the driver\n",
    "    torch.cuda.ipc_collect()         # collect inter-process memory (if any)\n",
    "\n",
    "    allocated = torch.cuda.memory_allocated(device) / 1024**2  # in MB\n",
    "    reserved  = torch.cuda.memory_reserved(device)  / 1024**2\n",
    "\n",
    "    print(f\"CUDA memory allocated: {allocated:.2f} MB\")\n",
    "    print(f\"CUDA memory reserved:  {reserved:.2f} MB\")\n",
    "\n",
    "    print(torch.cuda.memory_summary(device=None, abbreviated=True))\n"
   ]
  },
  {
   "cell_type": "code",
   "execution_count": 92,
   "metadata": {},
   "outputs": [
    {
     "name": "stdout",
     "output_type": "stream",
     "text": [
      "CUDA memory allocated: 16689.97 MB\n",
      "CUDA memory reserved:  20692.00 MB\n",
      "|===========================================================================|\n",
      "|                  PyTorch CUDA memory summary, device ID 0                 |\n",
      "|---------------------------------------------------------------------------|\n",
      "|            CUDA OOMs: 3            |        cudaMalloc retries: 5         |\n",
      "|===========================================================================|\n",
      "|        Metric         | Cur Usage  | Peak Usage | Tot Alloc  | Tot Freed  |\n",
      "|---------------------------------------------------------------------------|\n",
      "| Allocated memory      |  16689 MiB |  38001 MiB |   6195 GiB |   6178 GiB |\n",
      "|---------------------------------------------------------------------------|\n",
      "| Active memory         |  16689 MiB |  38001 MiB |   6195 GiB |   6178 GiB |\n",
      "|---------------------------------------------------------------------------|\n",
      "| Requested memory      |  16656 MiB |  37967 MiB |   6193 GiB |   6177 GiB |\n",
      "|---------------------------------------------------------------------------|\n",
      "| GPU reserved memory   |  20692 MiB |  39714 MiB | 127708 MiB | 107016 MiB |\n",
      "|---------------------------------------------------------------------------|\n",
      "| Non-releasable memory |   4002 MiB |  18939 MiB |   4424 GiB |   4421 GiB |\n",
      "|---------------------------------------------------------------------------|\n",
      "| Allocations           |    1596    |    1971    |   93556    |   91960    |\n",
      "|---------------------------------------------------------------------------|\n",
      "| Active allocs         |    1596    |    1971    |   93556    |   91960    |\n",
      "|---------------------------------------------------------------------------|\n",
      "| GPU reserved segments |     181    |     277    |     577    |     396    |\n",
      "|---------------------------------------------------------------------------|\n",
      "| Non-releasable allocs |     188    |     266    |   50164    |   49976    |\n",
      "|---------------------------------------------------------------------------|\n",
      "| Oversize allocations  |       0    |       0    |       0    |       0    |\n",
      "|---------------------------------------------------------------------------|\n",
      "| Oversize GPU segments |       0    |       0    |       0    |       0    |\n",
      "|===========================================================================|\n",
      "\n"
     ]
    }
   ],
   "source": [
    "free_ram()"
   ]
  },
  {
   "cell_type": "markdown",
   "metadata": {},
   "source": [
    "### call main"
   ]
  },
  {
   "cell_type": "code",
   "execution_count": 83,
   "metadata": {},
   "outputs": [],
   "source": [
    "parser = argparse.ArgumentParser(description=\"Train MediCLIP\")\n",
    "parser.add_argument(\n",
    "    \"--config_path\", type=str, default=\"config/brats-met.yaml\", help=\"model configs\"\n",
    ")\n",
    "parser.add_argument(\"--k_shot\", type=int, default=1, help=\"normal image number\") \n",
    "parser.add_argument(\n",
    "    \"--patients\",\n",
    "    type=bool,\n",
    "    default=False,\n",
    "    help=\"whether to k-shot refers to patients\",\n",
    ")\n",
    "parser.add_argument(\"--checkpoint_path\", type=str, help=\"the checkpoint path\", default=None)\n",
    "parser.add_argument('--pmc', type=bool, help = 'use pmc as backbone', default=True) \n",
    "args, unknown = parser.parse_known_args()"
   ]
  },
  {
   "cell_type": "markdown",
   "metadata": {},
   "source": [
    "full dataset trained in 3 hours "
   ]
  },
  {
   "cell_type": "code",
   "execution_count": null,
   "metadata": {},
   "outputs": [],
   "source": [
    "#TODO: check that the zoom is done sometimes"
   ]
  },
  {
   "cell_type": "code",
   "execution_count": 90,
   "metadata": {},
   "outputs": [
    {
     "name": "stdout",
     "output_type": "stream",
     "text": [
      "Running -1-shot experiment\n",
      "Total training dataset size before split: 912\n",
      "Using 728 samples for training with 91 shots and 8 slices per patient\n",
      "Using 72 samples for validation\n",
      "Stacked image tensor shape torch.Size([5, 240, 240]), dtype torch.float32, min 0.0, max 1.0Stacked image tensor shape torch.Size([5, 240, 240]), dtype torch.float32, min 0.0, max 1.0Stacked image tensor shape torch.Size([5, 240, 240]), dtype torch.float32, min 0.0, max 1.0Stacked image tensor shape torch.Size([5, 240, 240]), dtype torch.float32, min 0.0, max 1.0Stacked image tensor shape torch.Size([5, 240, 240]), dtype torch.float32, min 0.0, max 1.0Stacked image tensor shape torch.Size([5, 240, 240]), dtype torch.float32, min 0.0, max 1.0Stacked image tensor shape torch.Size([5, 240, 240]), dtype torch.float32, min 0.0, max 1.0\n",
      "\n",
      "\n",
      "\n",
      "\n",
      "Stacked image tensor shape torch.Size([5, 240, 240]), dtype torch.float32, min 0.0, max 1.0\n",
      "Stacked image tensor shape torch.Size([5, 240, 240]), dtype torch.float32, min 0.0, max 1.0\n",
      "Stacked image tensor shape torch.Size([5, 240, 240]), dtype torch.float32, min 0.0, max 1.0Stacked image tensor shape torch.Size([5, 240, 240]), dtype torch.float32, min 0.0, max 1.0\n",
      "\n",
      "\n",
      "\n",
      "CROP\n",
      "CROPCROP\n",
      "CROP\n",
      "Stacked image tensor shape torch.Size([5, 240, 240]), dtype torch.float32, min 0.0, max 1.0\n",
      "Stacked image tensor shape torch.Size([5, 240, 240]), dtype torch.float32, min 0.0, max 1.0Stacked image tensor shape torch.Size([5, 240, 240]), dtype torch.float32, min 0.0, max 1.0Stacked image tensor shape torch.Size([5, 240, 240]), dtype torch.float32, min 0.0, max 1.0\n",
      "\n",
      "\n",
      "Stacked image tensor shape torch.Size([5, 240, 240]), dtype torch.float32, min 0.0, max 1.0Stacked image tensor shape torch.Size([5, 240, 240]), dtype torch.float32, min 0.0, max 1.0\n",
      "\n",
      "Stacked image tensor shape torch.Size([5, 240, 240]), dtype torch.float32, min 0.0, max 1.0\n",
      "Stacked image tensor shape torch.Size([5, 240, 240]), dtype torch.float32, min 0.0, max 1.0\n",
      "\n",
      "Stacked image tensor shape torch.Size([5, 240, 240]), dtype torch.float32, min 0.0, max 1.0Stacked image tensor shape torch.Size([5, 240, 240]), dtype torch.float32, min 0.0, max 1.0CROP\n",
      "\n",
      "\n",
      "CROPStacked image tensor shape torch.Size([5, 240, 240]), dtype torch.float32, min 0.0, max 1.0Stacked image tensor shape torch.Size([5, 240, 240]), dtype torch.float32, min 0.0, max 1.0Stacked image tensor shape torch.Size([5, 240, 240]), dtype torch.float32, min 0.0, max 1.0\n",
      "\n",
      "\n",
      "\n",
      "Stacked image tensor shape torch.Size([5, 240, 240]), dtype torch.float32, min 0.0, max 1.0\n",
      "Stacked image tensor shape torch.Size([5, 240, 240]), dtype torch.float32, min 0.0, max 1.0Stacked image tensor shape torch.Size([5, 240, 240]), dtype torch.float32, min 0.0, max 1.0CROPStacked image tensor shape torch.Size([5, 240, 240]), dtype torch.float32, min 0.0, max 1.0\n",
      "\n",
      "\n",
      "\n",
      "CROP\n",
      "Stacked image tensor shape torch.Size([5, 240, 240]), dtype torch.float32, min 0.0, max 1.0\n",
      "Stacked image tensor shape torch.Size([5, 240, 240]), dtype torch.float32, min 0.0, max 1.0Stacked image tensor shape torch.Size([5, 240, 240]), dtype torch.float32, min 0.0, max 1.0\n",
      "CROPCROP\n",
      "\n",
      "Stacked image tensor shape torch.Size([5, 240, 240]), dtype torch.float32, min 0.0, max 1.0Stacked image tensor shape torch.Size([5, 240, 240]), dtype torch.float32, min 0.0, max 1.0\n",
      "\n",
      "CROPCROP\n",
      "CROPStacked image tensor shape torch.Size([5, 240, 240]), dtype torch.float32, min 0.0, max 1.0\n",
      "\n",
      "\n",
      "Stacked image tensor shape torch.Size([5, 240, 240]), dtype torch.float32, min 0.0, max 1.0\n",
      "\n",
      "Stacked image tensor shape torch.Size([5, 240, 240]), dtype torch.float32, min 0.0, max 1.0Stacked image tensor shape torch.Size([5, 240, 240]), dtype torch.float32, min 0.0, max 1.0Stacked image tensor shape torch.Size([5, 240, 240]), dtype torch.float32, min 0.0, max 1.0CROP\n",
      "\n",
      "Stacked image tensor shape torch.Size([5, 240, 240]), dtype torch.float32, min 0.0, max 1.0Stacked image tensor shape torch.Size([5, 240, 240]), dtype torch.float32, min 0.0, max 1.0\n",
      "\n",
      "Stacked image tensor shape torch.Size([5, 240, 240]), dtype torch.float32, min 0.0, max 1.0\n",
      "CROP\n",
      "\n",
      "Stacked image tensor shape torch.Size([5, 240, 240]), dtype torch.float32, min 0.0, max 1.0\n",
      "Stacked image tensor shape torch.Size([5, 240, 240]), dtype torch.float32, min 0.0, max 1.0\n",
      "CROPStacked image tensor shape torch.Size([5, 240, 240]), dtype torch.float32, min 0.0, max 1.0\n",
      "Stacked image tensor shape torch.Size([5, 240, 240]), dtype torch.float32, min 0.0, max 1.0Stacked image tensor shape torch.Size([5, 240, 240]), dtype torch.float32, min 0.0, max 1.0\n",
      "Stacked image tensor shape torch.Size([5, 240, 240]), dtype torch.float32, min 0.0, max 1.0\n",
      "Stacked image tensor shape torch.Size([5, 240, 240]), dtype torch.float32, min 0.0, max 1.0\n",
      "\n",
      "\n",
      "CROP\n",
      "Stacked image tensor shape torch.Size([5, 240, 240]), dtype torch.float32, min 0.0, max 1.0CROP\n",
      "\n",
      "Stacked image tensor shape torch.Size([5, 240, 240]), dtype torch.float32, min 0.0, max 1.0\n",
      "CROPStacked image tensor shape torch.Size([5, 240, 240]), dtype torch.float32, min 0.0, max 1.0Stacked image tensor shape torch.Size([5, 240, 240]), dtype torch.float32, min 0.0, max 1.0\n",
      "\n",
      "\n",
      "Stacked image tensor shape torch.Size([5, 240, 240]), dtype torch.float32, min 0.0, max 1.0Stacked image tensor shape torch.Size([5, 240, 240]), dtype torch.float32, min 0.0, max 1.0\n",
      "\n",
      "Stacked image tensor shape torch.Size([5, 240, 240]), dtype torch.float32, min 0.0, max 1.0\n",
      "\n",
      "Stacked image tensor shape torch.Size([5, 240, 240]), dtype torch.float32, min 0.0, max 1.0\n",
      "\n",
      "CROPStacked image tensor shape torch.Size([5, 240, 240]), dtype torch.float32, min 0.0, max 1.0\n",
      "CROPCROP\n",
      "\n",
      "Stacked image tensor shape torch.Size([5, 240, 240]), dtype torch.float32, min 0.0, max 1.0CROP\n",
      "\n",
      "Stacked image tensor shape torch.Size([5, 240, 240]), dtype torch.float32, min 0.0, max 1.0Stacked image tensor shape torch.Size([5, 240, 240]), dtype torch.float32, min 0.0, max 1.0Stacked image tensor shape torch.Size([5, 240, 240]), dtype torch.float32, min 0.0, max 1.0\n",
      "Stacked image tensor shape torch.Size([5, 240, 240]), dtype torch.float32, min 0.0, max 1.0\n",
      "Stacked image tensor shape torch.Size([5, 240, 240]), dtype torch.float32, min 0.0, max 1.0Stacked image tensor shape torch.Size([5, 240, 240]), dtype torch.float32, min 0.0, max 1.0\n",
      "Stacked image tensor shape torch.Size([5, 240, 240]), dtype torch.float32, min 0.0, max 1.0Stacked image tensor shape torch.Size([5, 240, 240]), dtype torch.float32, min 0.0, max 1.0\n",
      "Stacked image tensor shape torch.Size([5, 240, 240]), dtype torch.float32, min 0.0, max 1.0\n",
      "\n",
      "\n",
      "\n",
      "Stacked image tensor shape torch.Size([5, 240, 240]), dtype torch.float32, min 0.0, max 1.0\n",
      "\n",
      "CROPStacked image tensor shape torch.Size([5, 240, 240]), dtype torch.float32, min 0.0, max 1.0\n",
      "Stacked image tensor shape torch.Size([5, 240, 240]), dtype torch.float32, min 0.0, max 1.0CROPStacked image tensor shape torch.Size([5, 240, 240]), dtype torch.float32, min 0.0, max 1.0Stacked image tensor shape torch.Size([5, 240, 240]), dtype torch.float32, min 0.0, max 1.0\n",
      "\n",
      "\n",
      "\n",
      "Stacked image tensor shape torch.Size([5, 240, 240]), dtype torch.float32, min 0.0, max 1.0\n",
      "Stacked image tensor shape torch.Size([5, 240, 240]), dtype torch.float32, min 0.0, max 1.0CROPStacked image tensor shape torch.Size([5, 240, 240]), dtype torch.float32, min 0.0, max 1.0\n",
      "\n",
      "CROPCROPStacked image tensor shape torch.Size([5, 240, 240]), dtype torch.float32, min 0.0, max 1.0Stacked image tensor shape torch.Size([5, 240, 240]), dtype torch.float32, min 0.0, max 1.0\n",
      "\n",
      "\n",
      "Stacked image tensor shape torch.Size([5, 240, 240]), dtype torch.float32, min 0.0, max 1.0Stacked image tensor shape torch.Size([5, 240, 240]), dtype torch.float32, min 0.0, max 1.0CROP\n",
      "\n",
      "\n",
      "\n",
      "CROP\n",
      "Stacked image tensor shape torch.Size([5, 240, 240]), dtype torch.float32, min 0.0, max 1.0\n",
      "Stacked image tensor shape torch.Size([5, 240, 240]), dtype torch.float32, min 0.0, max 1.0\n",
      "\n",
      "\n",
      "Stacked image tensor shape torch.Size([5, 240, 240]), dtype torch.float32, min 0.0, max 1.0\n",
      "Stacked image tensor shape torch.Size([5, 240, 240]), dtype torch.float32, min 0.0, max 1.0CROP\n",
      "\n",
      "CROPCROP\n",
      "Stacked image tensor shape torch.Size([5, 240, 240]), dtype torch.float32, min 0.0, max 1.0Stacked image tensor shape torch.Size([5, 240, 240]), dtype torch.float32, min 0.0, max 1.0Stacked image tensor shape torch.Size([5, 240, 240]), dtype torch.float32, min 0.0, max 1.0Stacked image tensor shape torch.Size([5, 240, 240]), dtype torch.float32, min 0.0, max 1.0\n",
      "\n",
      "\n",
      "Stacked image tensor shape torch.Size([5, 240, 240]), dtype torch.float32, min 0.0, max 1.0CROP\n",
      "\n",
      "Stacked image tensor shape torch.Size([5, 240, 240]), dtype torch.float32, min 0.0, max 1.0\n",
      "\n",
      "Stacked image tensor shape torch.Size([5, 240, 240]), dtype torch.float32, min 0.0, max 1.0Stacked image tensor shape torch.Size([5, 240, 240]), dtype torch.float32, min 0.0, max 1.0CROPCROP\n",
      "Stacked image tensor shape torch.Size([5, 240, 240]), dtype torch.float32, min 0.0, max 1.0\n",
      "\n",
      "\n",
      "Stacked image tensor shape torch.Size([5, 240, 240]), dtype torch.float32, min 0.0, max 1.0CROP\n",
      "\n",
      "\n",
      "CROPStacked image tensor shape torch.Size([5, 240, 240]), dtype torch.float32, min 0.0, max 1.0Stacked image tensor shape torch.Size([5, 240, 240]), dtype torch.float32, min 0.0, max 1.0\n",
      "\n",
      "Stacked image tensor shape torch.Size([5, 240, 240]), dtype torch.float32, min 0.0, max 1.0Stacked image tensor shape torch.Size([5, 240, 240]), dtype torch.float32, min 0.0, max 1.0CROP\n",
      "\n",
      "\n",
      "\n",
      "Stacked image tensor shape torch.Size([5, 240, 240]), dtype torch.float32, min 0.0, max 1.0\n",
      "CROP\n",
      "Stacked image tensor shape torch.Size([5, 240, 240]), dtype torch.float32, min 0.0, max 1.0Stacked image tensor shape torch.Size([5, 240, 240]), dtype torch.float32, min 0.0, max 1.0\n",
      "CROP\n",
      "CROPStacked image tensor shape torch.Size([5, 240, 240]), dtype torch.float32, min 0.0, max 1.0\n",
      "\n",
      "Stacked image tensor shape torch.Size([5, 240, 240]), dtype torch.float32, min 0.0, max 1.0\n",
      "Stacked image tensor shape torch.Size([5, 240, 240]), dtype torch.float32, min 0.0, max 1.0\n",
      "\n",
      "Stacked image tensor shape torch.Size([5, 240, 240]), dtype torch.float32, min 0.0, max 1.0CROPCROP\n",
      "CROPStacked image tensor shape torch.Size([5, 240, 240]), dtype torch.float32, min 0.0, max 1.0CROP\n",
      "\n",
      "Stacked image tensor shape torch.Size([5, 240, 240]), dtype torch.float32, min 0.0, max 1.0\n",
      "\n",
      "\n",
      "\n",
      "Stacked image tensor shape torch.Size([5, 240, 240]), dtype torch.float32, min 0.0, max 1.0\n",
      "CROP\n",
      "Stacked image tensor shape torch.Size([5, 240, 240]), dtype torch.float32, min 0.0, max 1.0Stacked image tensor shape torch.Size([5, 240, 240]), dtype torch.float32, min 0.0, max 1.0Stacked image tensor shape torch.Size([5, 240, 240]), dtype torch.float32, min 0.0, max 1.0\n",
      "Stacked image tensor shape torch.Size([5, 240, 240]), dtype torch.float32, min 0.0, max 1.0\n",
      "\n",
      "\n",
      "CROPStacked image tensor shape torch.Size([5, 240, 240]), dtype torch.float32, min 0.0, max 1.0CROP\n",
      "Stacked image tensor shape torch.Size([5, 240, 240]), dtype torch.float32, min 0.0, max 1.0\n",
      "\n",
      "Stacked image tensor shape torch.Size([5, 240, 240]), dtype torch.float32, min 0.0, max 1.0\n",
      "\n",
      "Stacked image tensor shape torch.Size([5, 240, 240]), dtype torch.float32, min 0.0, max 1.0Stacked image tensor shape torch.Size([5, 240, 240]), dtype torch.float32, min 0.0, max 1.0CROPStacked image tensor shape torch.Size([5, 240, 240]), dtype torch.float32, min 0.0, max 1.0CROP\n",
      "CROP\n",
      "\n",
      "\n",
      "CROP\n",
      "Stacked image tensor shape torch.Size([5, 240, 240]), dtype torch.float32, min 0.0, max 1.0\n",
      "\n",
      "\n",
      "CROP\n",
      "Stacked image tensor shape torch.Size([5, 240, 240]), dtype torch.float32, min 0.0, max 1.0\n",
      "CROP\n",
      "Stacked image tensor shape torch.Size([5, 240, 240]), dtype torch.float32, min 0.0, max 1.0\n",
      "CROP\n",
      "\n",
      "CROPStacked image tensor shape torch.Size([5, 240, 240]), dtype torch.float32, min 0.0, max 1.0\n",
      "\n",
      "Stacked image tensor shape torch.Size([5, 240, 240]), dtype torch.float32, min 0.0, max 1.0\n",
      "Stacked image tensor shape torch.Size([5, 240, 240]), dtype torch.float32, min 0.0, max 1.0Stacked image tensor shape torch.Size([5, 240, 240]), dtype torch.float32, min 0.0, max 1.0\n",
      "Stacked image tensor shape torch.Size([5, 240, 240]), dtype torch.float32, min 0.0, max 1.0Stacked image tensor shape torch.Size([5, 240, 240]), dtype torch.float32, min 0.0, max 1.0\n",
      "Stacked image tensor shape torch.Size([5, 240, 240]), dtype torch.float32, min 0.0, max 1.0\n",
      "\n",
      "Stacked image tensor shape torch.Size([5, 240, 240]), dtype torch.float32, min 0.0, max 1.0Stacked image tensor shape torch.Size([5, 240, 240]), dtype torch.float32, min 0.0, max 1.0CROP\n",
      "CROP\n",
      "\n",
      "CROPStacked image tensor shape torch.Size([5, 240, 240]), dtype torch.float32, min 0.0, max 1.0\n",
      "CROPStacked image tensor shape torch.Size([5, 240, 240]), dtype torch.float32, min 0.0, max 1.0CROP\n",
      "\n",
      "\n",
      "\n",
      "Stacked image tensor shape torch.Size([5, 240, 240]), dtype torch.float32, min 0.0, max 1.0\n",
      "Stacked image tensor shape torch.Size([5, 240, 240]), dtype torch.float32, min 0.0, max 1.0\n",
      "\n",
      "\n",
      "Stacked image tensor shape torch.Size([5, 240, 240]), dtype torch.float32, min 0.0, max 1.0\n",
      "Stacked image tensor shape torch.Size([5, 240, 240]), dtype torch.float32, min 0.0, max 1.0Stacked image tensor shape torch.Size([5, 240, 240]), dtype torch.float32, min 0.0, max 1.0Stacked image tensor shape torch.Size([5, 240, 240]), dtype torch.float32, min 0.0, max 1.0Stacked image tensor shape torch.Size([5, 240, 240]), dtype torch.float32, min 0.0, max 1.0Stacked image tensor shape torch.Size([5, 240, 240]), dtype torch.float32, min 0.0, max 1.0\n",
      "\n",
      "\n",
      "Stacked image tensor shape torch.Size([5, 240, 240]), dtype torch.float32, min 0.0, max 1.0\n",
      "Stacked image tensor shape torch.Size([5, 240, 240]), dtype torch.float32, min 0.0, max 1.0\n",
      "\n",
      "CROP\n",
      "\n",
      "Stacked image tensor shape torch.Size([5, 240, 240]), dtype torch.float32, min 0.0, max 1.0\n",
      "Stacked image tensor shape torch.Size([5, 240, 240]), dtype torch.float32, min 0.0, max 1.0\n",
      "Stacked image tensor shape torch.Size([5, 240, 240]), dtype torch.float32, min 0.0, max 1.0CROP\n",
      "CROP\n",
      "CROP\n",
      "CROPStacked image tensor shape torch.Size([5, 240, 240]), dtype torch.float32, min 0.0, max 1.0\n",
      "\n",
      "\n",
      "CROP\n",
      "CROPCROP\n",
      "Stacked image tensor shape torch.Size([5, 240, 240]), dtype torch.float32, min 0.0, max 1.0\n",
      "Stacked image tensor shape torch.Size([5, 240, 240]), dtype torch.float32, min 0.0, max 1.0\n",
      "Stacked image tensor shape torch.Size([5, 240, 240]), dtype torch.float32, min 0.0, max 1.0Stacked image tensor shape torch.Size([5, 240, 240]), dtype torch.float32, min 0.0, max 1.0Stacked image tensor shape torch.Size([5, 240, 240]), dtype torch.float32, min 0.0, max 1.0Stacked image tensor shape torch.Size([5, 240, 240]), dtype torch.float32, min 0.0, max 1.0\n",
      "\n",
      "\n",
      "\n",
      "CROP\n",
      "\n",
      "CROP\n",
      "Stacked image tensor shape torch.Size([5, 240, 240]), dtype torch.float32, min 0.0, max 1.0\n",
      "CROPStacked image tensor shape torch.Size([5, 240, 240]), dtype torch.float32, min 0.0, max 1.0\n",
      "\n",
      "Stacked image tensor shape torch.Size([5, 240, 240]), dtype torch.float32, min 0.0, max 1.0CROP\n",
      "Stacked image tensor shape torch.Size([5, 240, 240]), dtype torch.float32, min 0.0, max 1.0Stacked image tensor shape torch.Size([5, 240, 240]), dtype torch.float32, min 0.0, max 1.0\n",
      "Stacked image tensor shape torch.Size([5, 240, 240]), dtype torch.float32, min 0.0, max 1.0\n",
      "\n",
      "Stacked image tensor shape torch.Size([5, 240, 240]), dtype torch.float32, min 0.0, max 1.0\n",
      "\n",
      "CROP\n",
      "CROP\n",
      "CROPStacked image tensor shape torch.Size([5, 240, 240]), dtype torch.float32, min 0.0, max 1.0\n",
      "\n",
      "Stacked image tensor shape torch.Size([5, 240, 240]), dtype torch.float32, min 0.0, max 1.0\n",
      "CROPStacked image tensor shape torch.Size([5, 240, 240]), dtype torch.float32, min 0.0, max 1.0\n",
      "Stacked image tensor shape torch.Size([5, 240, 240]), dtype torch.float32, min 0.0, max 1.0\n",
      "Stacked image tensor shape torch.Size([5, 240, 240]), dtype torch.float32, min 0.0, max 1.0Stacked image tensor shape torch.Size([5, 240, 240]), dtype torch.float32, min 0.0, max 1.0\n",
      "\n",
      "\n",
      "Stacked image tensor shape torch.Size([5, 240, 240]), dtype torch.float32, min 0.0, max 1.0\n",
      "CROP\n",
      "CROP\n",
      "Stacked image tensor shape torch.Size([5, 240, 240]), dtype torch.float32, min 0.0, max 1.0Stacked image tensor shape torch.Size([5, 240, 240]), dtype torch.float32, min 0.0, max 1.0\n",
      "Stacked image tensor shape torch.Size([5, 240, 240]), dtype torch.float32, min 0.0, max 1.0\n",
      "CROP\n",
      "\n",
      "Stacked image tensor shape torch.Size([5, 240, 240]), dtype torch.float32, min 0.0, max 1.0\n",
      "Stacked image tensor shape torch.Size([5, 240, 240]), dtype torch.float32, min 0.0, max 1.0\n",
      "Stacked image tensor shape torch.Size([5, 240, 240]), dtype torch.float32, min 0.0, max 1.0Stacked image tensor shape torch.Size([5, 240, 240]), dtype torch.float32, min 0.0, max 1.0CROP\n",
      "\n",
      "\n",
      "CROP\n",
      "Stacked image tensor shape torch.Size([5, 240, 240]), dtype torch.float32, min 0.0, max 1.0CROPStacked image tensor shape torch.Size([5, 240, 240]), dtype torch.float32, min 0.0, max 1.0\n",
      "\n",
      "\n",
      "Stacked image tensor shape torch.Size([5, 240, 240]), dtype torch.float32, min 0.0, max 1.0\n",
      "Stacked image tensor shape torch.Size([5, 240, 240]), dtype torch.float32, min 0.0, max 1.0CROP\n",
      "Stacked image tensor shape torch.Size([5, 240, 240]), dtype torch.float32, min 0.0, max 1.0\n",
      "\n",
      "Stacked image tensor shape torch.Size([5, 240, 240]), dtype torch.float32, min 0.0, max 1.0Stacked image tensor shape torch.Size([5, 240, 240]), dtype torch.float32, min 0.0, max 1.0\n",
      "Stacked image tensor shape torch.Size([5, 240, 240]), dtype torch.float32, min 0.0, max 1.0\n",
      "Stacked image tensor shape torch.Size([5, 240, 240]), dtype torch.float32, min 0.0, max 1.0\n",
      "\n",
      "Stacked image tensor shape torch.Size([5, 240, 240]), dtype torch.float32, min 0.0, max 1.0\n",
      "Stacked image tensor shape torch.Size([5, 240, 240]), dtype torch.float32, min 0.0, max 1.0CROPStacked image tensor shape torch.Size([5, 240, 240]), dtype torch.float32, min 0.0, max 1.0Stacked image tensor shape torch.Size([5, 240, 240]), dtype torch.float32, min 0.0, max 1.0\n",
      "\n",
      "\n",
      "\n",
      "CROPStacked image tensor shape torch.Size([5, 240, 240]), dtype torch.float32, min 0.0, max 1.0\n",
      "Stacked image tensor shape torch.Size([5, 240, 240]), dtype torch.float32, min 0.0, max 1.0CROP\n",
      "Stacked image tensor shape torch.Size([5, 240, 240]), dtype torch.float32, min 0.0, max 1.0\n",
      "Stacked image tensor shape torch.Size([5, 240, 240]), dtype torch.float32, min 0.0, max 1.0Stacked image tensor shape torch.Size([5, 240, 240]), dtype torch.float32, min 0.0, max 1.0\n",
      "\n",
      "\n",
      "Stacked image tensor shape torch.Size([5, 240, 240]), dtype torch.float32, min 0.0, max 1.0\n",
      "\n",
      "CROPStacked image tensor shape torch.Size([5, 240, 240]), dtype torch.float32, min 0.0, max 1.0\n",
      "\n",
      "Stacked image tensor shape torch.Size([5, 240, 240]), dtype torch.float32, min 0.0, max 1.0CROPCROPCROP\n",
      "\n",
      "\n",
      "CROPStacked image tensor shape torch.Size([5, 240, 240]), dtype torch.float32, min 0.0, max 1.0Stacked image tensor shape torch.Size([5, 240, 240]), dtype torch.float32, min 0.0, max 1.0\n",
      "\n",
      "\n",
      "Stacked image tensor shape torch.Size([5, 240, 240]), dtype torch.float32, min 0.0, max 1.0\n",
      "\n",
      "Stacked image tensor shape torch.Size([5, 240, 240]), dtype torch.float32, min 0.0, max 1.0Stacked image tensor shape torch.Size([5, 240, 240]), dtype torch.float32, min 0.0, max 1.0\n",
      "Stacked image tensor shape torch.Size([5, 240, 240]), dtype torch.float32, min 0.0, max 1.0\n",
      "\n",
      "Stacked image tensor shape torch.Size([5, 240, 240]), dtype torch.float32, min 0.0, max 1.0\n",
      "CROP\n",
      "Stacked image tensor shape torch.Size([5, 240, 240]), dtype torch.float32, min 0.0, max 1.0CROP\n",
      "\n",
      "CROP\n",
      "CROPCROPStacked image tensor shape torch.Size([5, 240, 240]), dtype torch.float32, min 0.0, max 1.0CROP\n",
      "\n",
      "\n",
      "Stacked image tensor shape torch.Size([5, 240, 240]), dtype torch.float32, min 0.0, max 1.0Stacked image tensor shape torch.Size([5, 240, 240]), dtype torch.float32, min 0.0, max 1.0\n",
      "\n",
      "\n",
      "Stacked image tensor shape torch.Size([5, 240, 240]), dtype torch.float32, min 0.0, max 1.0\n",
      "Stacked image tensor shape torch.Size([5, 240, 240]), dtype torch.float32, min 0.0, max 1.0\n",
      "Stacked image tensor shape torch.Size([5, 240, 240]), dtype torch.float32, min 0.0, max 1.0\n",
      "Stacked image tensor shape torch.Size([5, 240, 240]), dtype torch.float32, min 0.0, max 1.0\n",
      "Stacked image tensor shape torch.Size([5, 240, 240]), dtype torch.float32, min 0.0, max 1.0\n",
      "CROPStacked image tensor shape torch.Size([5, 240, 240]), dtype torch.float32, min 0.0, max 1.0Stacked image tensor shape torch.Size([5, 240, 240]), dtype torch.float32, min 0.0, max 1.0CROPStacked image tensor shape torch.Size([5, 240, 240]), dtype torch.float32, min 0.0, max 1.0\n",
      "\n",
      "CROP\n",
      "Stacked image tensor shape torch.Size([5, 240, 240]), dtype torch.float32, min 0.0, max 1.0\n",
      "\n",
      "Stacked image tensor shape torch.Size([5, 240, 240]), dtype torch.float32, min 0.0, max 1.0\n",
      "CROPCROP\n",
      "\n",
      "Stacked image tensor shape torch.Size([5, 240, 240]), dtype torch.float32, min 0.0, max 1.0Stacked image tensor shape torch.Size([5, 240, 240]), dtype torch.float32, min 0.0, max 1.0Stacked image tensor shape torch.Size([5, 240, 240]), dtype torch.float32, min 0.0, max 1.0\n",
      "CROP\n",
      "\n",
      "Stacked image tensor shape torch.Size([5, 240, 240]), dtype torch.float32, min 0.0, max 1.0CROP\n",
      "\n",
      "\n",
      "\n",
      "\n",
      "Stacked image tensor shape torch.Size([5, 240, 240]), dtype torch.float32, min 0.0, max 1.0Stacked image tensor shape torch.Size([5, 240, 240]), dtype torch.float32, min 0.0, max 0.9960784316062927\n",
      "\n",
      "CROP\n",
      "CROP\n",
      "Stacked image tensor shape torch.Size([5, 240, 240]), dtype torch.float32, min 0.0, max 1.0CROP\n",
      "Stacked image tensor shape torch.Size([5, 240, 240]), dtype torch.float32, min 0.0, max 1.0\n",
      "Stacked image tensor shape torch.Size([5, 240, 240]), dtype torch.float32, min 0.0, max 1.0Stacked image tensor shape torch.Size([5, 240, 240]), dtype torch.float32, min 0.0, max 1.0\n",
      "\n",
      "Stacked image tensor shape torch.Size([5, 240, 240]), dtype torch.float32, min 0.0, max 1.0\n",
      "CROP\n",
      "\n",
      "CROPCROPStacked image tensor shape torch.Size([5, 240, 240]), dtype torch.float32, min 0.0, max 1.0\n",
      "\n",
      "Stacked image tensor shape torch.Size([5, 240, 240]), dtype torch.float32, min 0.0, max 1.0\n",
      "Stacked image tensor shape torch.Size([5, 240, 240]), dtype torch.float32, min 0.0, max 1.0Stacked image tensor shape torch.Size([5, 240, 240]), dtype torch.float32, min 0.0, max 1.0\n",
      "Stacked image tensor shape torch.Size([5, 240, 240]), dtype torch.float32, min 0.0, max 1.0\n",
      "Stacked image tensor shape torch.Size([5, 240, 240]), dtype torch.float32, min 0.0, max 1.0Stacked image tensor shape torch.Size([5, 240, 240]), dtype torch.float32, min 0.0, max 1.0\n",
      "\n",
      "Stacked image tensor shape torch.Size([5, 240, 240]), dtype torch.float32, min 0.0, max 1.0\n",
      "\n",
      "Stacked image tensor shape torch.Size([5, 240, 240]), dtype torch.float32, min 0.0, max 1.0\n",
      "\n",
      "Stacked image tensor shape torch.Size([5, 240, 240]), dtype torch.float32, min 0.0, max 1.0\n",
      "CROP\n",
      "Stacked image tensor shape torch.Size([5, 240, 240]), dtype torch.float32, min 0.0, max 1.0Stacked image tensor shape torch.Size([5, 240, 240]), dtype torch.float32, min 0.0, max 1.0\n",
      "\n",
      "Stacked image tensor shape torch.Size([5, 240, 240]), dtype torch.float32, min 0.0, max 1.0\n",
      "CROPStacked image tensor shape torch.Size([5, 240, 240]), dtype torch.float32, min 0.0, max 1.0CROPStacked image tensor shape torch.Size([5, 240, 240]), dtype torch.float32, min 0.0, max 1.0CROP\n",
      "\n",
      "Stacked image tensor shape torch.Size([5, 240, 240]), dtype torch.float32, min 0.0, max 1.0\n",
      "\n",
      "CROP\n",
      "\n",
      "Stacked image tensor shape torch.Size([5, 240, 240]), dtype torch.float32, min 0.0, max 1.0\n",
      "Stacked image tensor shape torch.Size([5, 240, 240]), dtype torch.float32, min 0.0, max 1.0Stacked image tensor shape torch.Size([5, 240, 240]), dtype torch.float32, min 0.0, max 1.0Stacked image tensor shape torch.Size([5, 240, 240]), dtype torch.float32, min 0.0, max 1.0\n",
      "\n",
      "CROP\n",
      "\n",
      "\n",
      "Stacked image tensor shape torch.Size([5, 240, 240]), dtype torch.float32, min 0.0, max 1.0\n",
      "Stacked image tensor shape torch.Size([5, 240, 240]), dtype torch.float32, min 0.0, max 1.0Stacked image tensor shape torch.Size([5, 240, 240]), dtype torch.float32, min 0.0, max 1.0\n",
      "Stacked image tensor shape torch.Size([5, 240, 240]), dtype torch.float32, min 0.0, max 1.0Stacked image tensor shape torch.Size([5, 240, 240]), dtype torch.float32, min 0.0, max 1.0\n",
      "Stacked image tensor shape torch.Size([5, 240, 240]), dtype torch.float32, min 0.0, max 1.0Stacked image tensor shape torch.Size([5, 240, 240]), dtype torch.float32, min 0.0, max 1.0\n",
      "\n",
      "\n",
      "CROP\n",
      "\n",
      "Stacked image tensor shape torch.Size([5, 240, 240]), dtype torch.float32, min 0.0, max 1.0\n",
      "Stacked image tensor shape torch.Size([5, 240, 240]), dtype torch.float32, min 0.0, max 1.0\n",
      "CROPStacked image tensor shape torch.Size([5, 240, 240]), dtype torch.float32, min 0.0, max 1.0CROP\n",
      "\n",
      "CROPStacked image tensor shape torch.Size([5, 240, 240]), dtype torch.float32, min 0.0, max 1.0\n",
      "\n",
      "CROP\n",
      "Stacked image tensor shape torch.Size([5, 240, 240]), dtype torch.float32, min 0.0, max 1.0Stacked image tensor shape torch.Size([5, 240, 240]), dtype torch.float32, min 0.0, max 1.0Stacked image tensor shape torch.Size([5, 240, 240]), dtype torch.float32, min 0.0, max 1.0\n",
      "Stacked image tensor shape torch.Size([5, 240, 240]), dtype torch.float32, min 0.0, max 1.0\n",
      "\n",
      "\n",
      "Stacked image tensor shape torch.Size([5, 240, 240]), dtype torch.float32, min 0.0, max 1.0\n",
      "CROPCROP\n",
      "\n",
      "Stacked image tensor shape torch.Size([5, 240, 240]), dtype torch.float32, min 0.0, max 1.0CROPStacked image tensor shape torch.Size([5, 240, 240]), dtype torch.float32, min 0.0, max 1.0CROPStacked image tensor shape torch.Size([5, 240, 240]), dtype torch.float32, min 0.0, max 1.0\n",
      "\n",
      "Stacked image tensor shape torch.Size([5, 240, 240]), dtype torch.float32, min 0.0, max 1.0\n",
      "Stacked image tensor shape torch.Size([5, 240, 240]), dtype torch.float32, min 0.0, max 1.0\n",
      "\n",
      "\n",
      "Stacked image tensor shape torch.Size([5, 240, 240]), dtype torch.float32, min 0.0, max 1.0\n",
      "\n",
      "\n",
      "Stacked image tensor shape torch.Size([5, 240, 240]), dtype torch.float32, min 0.0, max 1.0CROP\n",
      "Stacked image tensor shape torch.Size([5, 240, 240]), dtype torch.float32, min 0.0, max 1.0CROPStacked image tensor shape torch.Size([5, 240, 240]), dtype torch.float32, min 0.0, max 1.0\n",
      "\n",
      "\n",
      "CROP\n",
      "Stacked image tensor shape torch.Size([5, 240, 240]), dtype torch.float32, min 0.0, max 1.0\n",
      "\n",
      "Stacked image tensor shape torch.Size([5, 240, 240]), dtype torch.float32, min 0.0, max 1.0CROPStacked image tensor shape torch.Size([5, 240, 240]), dtype torch.float32, min 0.0, max 1.0\n",
      "\n",
      "CROP\n",
      "CROPStacked image tensor shape torch.Size([5, 240, 240]), dtype torch.float32, min 0.0, max 1.0\n",
      "\n",
      "\n",
      "Stacked image tensor shape torch.Size([5, 240, 240]), dtype torch.float32, min 0.0, max 1.0Stacked image tensor shape torch.Size([5, 240, 240]), dtype torch.float32, min 0.0, max 1.0Stacked image tensor shape torch.Size([5, 240, 240]), dtype torch.float32, min 0.0, max 1.0\n",
      "\n",
      "Stacked image tensor shape torch.Size([5, 240, 240]), dtype torch.float32, min 0.0, max 1.0CROPStacked image tensor shape torch.Size([5, 240, 240]), dtype torch.float32, min 0.0, max 1.0\n",
      "\n",
      "\n",
      "\n",
      "Stacked image tensor shape torch.Size([5, 240, 240]), dtype torch.float32, min 0.0, max 1.0Stacked image tensor shape torch.Size([5, 240, 240]), dtype torch.float32, min 0.0, max 1.0Stacked image tensor shape torch.Size([5, 240, 240]), dtype torch.float32, min 0.0, max 1.0\n",
      "CROP\n",
      "\n",
      "CROPStacked image tensor shape torch.Size([5, 240, 240]), dtype torch.float32, min 0.0, max 1.0CROP\n",
      "\n",
      "\n",
      "CROP\n",
      "\n",
      "Stacked image tensor shape torch.Size([5, 240, 240]), dtype torch.float32, min 0.0, max 1.0\n",
      "Stacked image tensor shape torch.Size([5, 240, 240]), dtype torch.float32, min 0.0, max 1.0Stacked image tensor shape torch.Size([5, 240, 240]), dtype torch.float32, min 0.0, max 1.0\n",
      "Stacked image tensor shape torch.Size([5, 240, 240]), dtype torch.float32, min 0.0, max 1.0\n",
      "\n",
      "CROPCROP\n",
      "CROP\n",
      "CROPStacked image tensor shape torch.Size([5, 240, 240]), dtype torch.float32, min 0.0, max 1.0\n",
      "\n",
      "\n",
      "Stacked image tensor shape torch.Size([5, 240, 240]), dtype torch.float32, min 0.0, max 1.0Stacked image tensor shape torch.Size([5, 240, 240]), dtype torch.float32, min 0.0, max 1.0\n",
      "Stacked image tensor shape torch.Size([5, 240, 240]), dtype torch.float32, min 0.0, max 1.0Stacked image tensor shape torch.Size([5, 240, 240]), dtype torch.float32, min 0.0, max 1.0\n",
      "Stacked image tensor shape torch.Size([5, 240, 240]), dtype torch.float32, min 0.0, max 1.0Stacked image tensor shape torch.Size([5, 240, 240]), dtype torch.float32, min 0.0, max 0.9960784316062927\n",
      "\n",
      "Stacked image tensor shape torch.Size([5, 240, 240]), dtype torch.float32, min 0.0, max 1.0\n",
      "\n",
      "Stacked image tensor shape torch.Size([5, 240, 240]), dtype torch.float32, min 0.0, max 1.0Stacked image tensor shape torch.Size([5, 240, 240]), dtype torch.float32, min 0.0, max 1.0\n",
      "Stacked image tensor shape torch.Size([5, 240, 240]), dtype torch.float32, min 0.0, max 1.0\n",
      "\n",
      "CROP\n",
      "CROP\n",
      "Stacked image tensor shape torch.Size([5, 240, 240]), dtype torch.float32, min 0.0, max 1.0\n",
      "\n",
      "Stacked image tensor shape torch.Size([5, 240, 240]), dtype torch.float32, min 0.0, max 1.0Stacked image tensor shape torch.Size([5, 240, 240]), dtype torch.float32, min 0.0, max 1.0\n",
      "Stacked image tensor shape torch.Size([5, 240, 240]), dtype torch.float32, min 0.0, max 1.0\n",
      "\n",
      "CROPCROP\n",
      "\n",
      "CROPStacked image tensor shape torch.Size([5, 240, 240]), dtype torch.float32, min 0.0, max 1.0CROP\n",
      "\n",
      "Stacked image tensor shape torch.Size([5, 240, 240]), dtype torch.float32, min 0.0, max 1.0CROP\n",
      "Stacked image tensor shape torch.Size([5, 240, 240]), dtype torch.float32, min 0.0, max 1.0\n",
      "\n",
      "Stacked image tensor shape torch.Size([5, 240, 240]), dtype torch.float32, min 0.0, max 1.0\n",
      "\n",
      "Stacked image tensor shape torch.Size([5, 240, 240]), dtype torch.float32, min 0.0, max 1.0CROP\n",
      "CROP\n",
      "Stacked image tensor shape torch.Size([5, 240, 240]), dtype torch.float32, min 0.0, max 1.0Stacked image tensor shape torch.Size([5, 240, 240]), dtype torch.float32, min 0.0, max 1.0Stacked image tensor shape torch.Size([5, 240, 240]), dtype torch.float32, min 0.0, max 1.0\n",
      "Stacked image tensor shape torch.Size([5, 240, 240]), dtype torch.float32, min 0.0, max 1.0\n",
      "\n",
      "CROPStacked image tensor shape torch.Size([5, 240, 240]), dtype torch.float32, min 0.0, max 1.0\n",
      "\n",
      "Stacked image tensor shape torch.Size([5, 240, 240]), dtype torch.float32, min 0.0, max 1.0\n",
      "Stacked image tensor shape torch.Size([5, 240, 240]), dtype torch.float32, min 0.0, max 1.0\n",
      "\n",
      "\n",
      "CROPStacked image tensor shape torch.Size([5, 240, 240]), dtype torch.float32, min 0.0, max 0.9921568632125854\n",
      "Stacked image tensor shape torch.Size([5, 240, 240]), dtype torch.float32, min 0.0, max 1.0\n",
      "\n",
      "CROP\n",
      "CROPStacked image tensor shape torch.Size([5, 240, 240]), dtype torch.float32, min 0.0, max 1.0\n",
      "CROP\n",
      "\n",
      "Stacked image tensor shape torch.Size([5, 240, 240]), dtype torch.float32, min 0.0, max 1.0Stacked image tensor shape torch.Size([5, 240, 240]), dtype torch.float32, min 0.0, max 1.0\n",
      "\n",
      "CROPStacked image tensor shape torch.Size([5, 240, 240]), dtype torch.float32, min 0.0, max 1.0\n",
      "\n",
      "Stacked image tensor shape torch.Size([5, 240, 240]), dtype torch.float32, min 0.0, max 1.0Stacked image tensor shape torch.Size([5, 240, 240]), dtype torch.float32, min 0.0, max 1.0Stacked image tensor shape torch.Size([5, 240, 240]), dtype torch.float32, min 0.0, max 1.0\n",
      "\n",
      "CROP\n",
      "Stacked image tensor shape torch.Size([5, 240, 240]), dtype torch.float32, min 0.0, max 1.0Stacked image tensor shape torch.Size([5, 240, 240]), dtype torch.float32, min 0.0, max 1.0\n",
      "\n",
      "CROPCROP\n",
      "\n",
      "CROPCROPCROP\n",
      "\n",
      "\n",
      "\n",
      "CROPCROP\n",
      "Stacked image tensor shape torch.Size([5, 240, 240]), dtype torch.float32, min 0.0, max 1.0\n",
      "Stacked image tensor shape torch.Size([5, 240, 240]), dtype torch.float32, min 0.0, max 1.0Stacked image tensor shape torch.Size([5, 240, 240]), dtype torch.float32, min 0.0, max 1.0\n",
      "\n",
      "Stacked image tensor shape torch.Size([5, 240, 240]), dtype torch.float32, min 0.0, max 1.0\n",
      "Stacked image tensor shape torch.Size([5, 240, 240]), dtype torch.float32, min 0.0, max 1.0\n",
      "\n",
      "Stacked image tensor shape torch.Size([5, 240, 240]), dtype torch.float32, min 0.0, max 1.0Stacked image tensor shape torch.Size([5, 240, 240]), dtype torch.float32, min 0.0, max 1.0Stacked image tensor shape torch.Size([5, 240, 240]), dtype torch.float32, min 0.0, max 1.0\n",
      "Stacked image tensor shape torch.Size([5, 240, 240]), dtype torch.float32, min 0.0, max 1.0\n",
      "\n",
      "CROP\n",
      "Stacked image tensor shape torch.Size([5, 240, 240]), dtype torch.float32, min 0.0, max 1.0Stacked image tensor shape torch.Size([5, 240, 240]), dtype torch.float32, min 0.0, max 1.0CROP\n",
      "CROP\n",
      "\n",
      "Stacked image tensor shape torch.Size([5, 240, 240]), dtype torch.float32, min 0.0, max 1.0\n",
      "\n",
      "\n",
      "Stacked image tensor shape torch.Size([5, 240, 240]), dtype torch.float32, min 0.0, max 1.0\n",
      "CROPStacked image tensor shape torch.Size([5, 240, 240]), dtype torch.float32, min 0.0, max 1.0Stacked image tensor shape torch.Size([5, 240, 240]), dtype torch.float32, min 0.0, max 1.0Stacked image tensor shape torch.Size([5, 240, 240]), dtype torch.float32, min 0.0, max 1.0\n",
      "\n",
      "\n",
      "Stacked image tensor shape torch.Size([5, 240, 240]), dtype torch.float32, min 0.0, max 1.0\n",
      "CROP\n",
      "\n",
      "CROPCROPStacked image tensor shape torch.Size([5, 240, 240]), dtype torch.float32, min 0.0, max 1.0\n",
      "\n",
      "\n",
      "Stacked image tensor shape torch.Size([5, 240, 240]), dtype torch.float32, min 0.0, max 1.0\n",
      "CROP\n",
      "Stacked image tensor shape torch.Size([5, 240, 240]), dtype torch.float32, min 0.0, max 1.0\n",
      "Stacked image tensor shape torch.Size([5, 240, 240]), dtype torch.float32, min 0.0, max 1.0\n",
      "Stacked image tensor shape torch.Size([5, 240, 240]), dtype torch.float32, min 0.0, max 1.0\n",
      "Stacked image tensor shape torch.Size([5, 240, 240]), dtype torch.float32, min 0.0, max 1.0Stacked image tensor shape torch.Size([5, 240, 240]), dtype torch.float32, min 0.0, max 1.0\n",
      "\n",
      "CROPCROP\n",
      "\n",
      "Stacked image tensor shape torch.Size([5, 240, 240]), dtype torch.float32, min 0.0, max 1.0\n",
      "Stacked image tensor shape torch.Size([5, 240, 240]), dtype torch.float32, min 0.0, max 1.0\n",
      "CROP\n",
      "Stacked image tensor shape torch.Size([5, 240, 240]), dtype torch.float32, min 0.0, max 1.0\n"
     ]
    },
    {
     "ename": "OutOfMemoryError",
     "evalue": "CUDA out of memory. Tried to allocate 184.00 MiB. GPU 0 has a total capacity of 39.38 GiB of which 86.25 MiB is free. Including non-PyTorch memory, this process has 39.29 GiB memory in use. Of the allocated memory 37.08 GiB is allocated by PyTorch, and 1.70 GiB is reserved by PyTorch but unallocated. If reserved but unallocated memory is large try setting PYTORCH_CUDA_ALLOC_CONF=expandable_segments:True to avoid fragmentation.  See documentation for Memory Management  (https://pytorch.org/docs/stable/notes/cuda.html#environment-variables)",
     "output_type": "error",
     "traceback": [
      "\u001b[0;31m---------------------------------------------------------------------------\u001b[0m",
      "\u001b[0;31mOutOfMemoryError\u001b[0m                          Traceback (most recent call last)",
      "Cell \u001b[0;32mIn[90], line 4\u001b[0m\n\u001b[1;32m      2\u001b[0m args\u001b[38;5;241m.\u001b[39mk_shot \u001b[38;5;241m=\u001b[39m value\n\u001b[1;32m      3\u001b[0m \u001b[38;5;28mprint\u001b[39m(\u001b[38;5;124mf\u001b[39m\u001b[38;5;124m\"\u001b[39m\u001b[38;5;124mRunning \u001b[39m\u001b[38;5;132;01m{\u001b[39;00mvalue\u001b[38;5;132;01m}\u001b[39;00m\u001b[38;5;124m-shot experiment\u001b[39m\u001b[38;5;124m\"\u001b[39m)\n\u001b[0;32m----> 4\u001b[0m \u001b[43mmain\u001b[49m\u001b[43m(\u001b[49m\u001b[43margs\u001b[49m\u001b[43m)\u001b[49m\n\u001b[1;32m      5\u001b[0m free_ram()\n",
      "Cell \u001b[0;32mIn[68], line 145\u001b[0m, in \u001b[0;36mmain\u001b[0;34m(args)\u001b[0m\n\u001b[1;32m    141\u001b[0m last_iter \u001b[38;5;241m=\u001b[39m epoch \u001b[38;5;241m*\u001b[39m \u001b[38;5;28mlen\u001b[39m(train_dataloader)\n\u001b[1;32m    143\u001b[0m \u001b[38;5;28;01mif\u001b[39;00m last_iter \u001b[38;5;241m>\u001b[39m\u001b[38;5;241m=\u001b[39m args\u001b[38;5;241m.\u001b[39mconfig\u001b[38;5;241m.\u001b[39mtotal_steps: \u001b[38;5;28;01mbreak\u001b[39;00m\n\u001b[0;32m--> 145\u001b[0m \u001b[43mtrain_one_epoch\u001b[49m\u001b[43m(\u001b[49m\n\u001b[1;32m    146\u001b[0m \u001b[43m    \u001b[49m\u001b[43margs\u001b[49m\u001b[43m,\u001b[49m\n\u001b[1;32m    147\u001b[0m \u001b[43m    \u001b[49m\u001b[43mtrain_dataloader\u001b[49m\u001b[43m,\u001b[49m\n\u001b[1;32m    148\u001b[0m \u001b[43m    \u001b[49m\u001b[43moptimizer\u001b[49m\u001b[43m,\u001b[49m\n\u001b[1;32m    149\u001b[0m \u001b[43m    \u001b[49m\u001b[43mepoch\u001b[49m\u001b[43m,\u001b[49m\n\u001b[1;32m    150\u001b[0m \u001b[43m    \u001b[49m\u001b[43mlast_iter\u001b[49m\u001b[43m,\u001b[49m\n\u001b[1;32m    151\u001b[0m \u001b[43m    \u001b[49m\u001b[43mlogger\u001b[49m\u001b[43m,\u001b[49m\n\u001b[1;32m    152\u001b[0m \u001b[43m    \u001b[49m\u001b[43mmodel\u001b[49m\u001b[43m,\u001b[49m\n\u001b[1;32m    153\u001b[0m \u001b[43m    \u001b[49m\u001b[43mscheduler\u001b[49m\u001b[43m,\u001b[49m\n\u001b[1;32m    154\u001b[0m \u001b[43m\u001b[49m\u001b[43m)\u001b[49m\n\u001b[1;32m    156\u001b[0m \u001b[38;5;28;01mif\u001b[39;00m (epoch\u001b[38;5;241m+\u001b[39m\u001b[38;5;241m1\u001b[39m) \u001b[38;5;241m%\u001b[39m args\u001b[38;5;241m.\u001b[39mconfig\u001b[38;5;241m.\u001b[39mval_freq_epoch \u001b[38;5;241m==\u001b[39m \u001b[38;5;241m0\u001b[39m:\n\u001b[1;32m    157\u001b[0m     results, val_loss \u001b[38;5;241m=\u001b[39m validate(\n\u001b[1;32m    158\u001b[0m         test_dataloaders,\n\u001b[1;32m    159\u001b[0m         model,\n\u001b[1;32m    160\u001b[0m     )\n",
      "Cell \u001b[0;32mIn[65], line 33\u001b[0m, in \u001b[0;36mtrain_one_epoch\u001b[0;34m(args, train_dataloader, optimizer, epoch, start_iter, logger, model, scheduler)\u001b[0m\n\u001b[1;32m     24\u001b[0m gt_mask \u001b[38;5;241m=\u001b[39m \u001b[38;5;28minput\u001b[39m[\u001b[38;5;124m\"\u001b[39m\u001b[38;5;124mmask\u001b[39m\u001b[38;5;124m\"\u001b[39m]\u001b[38;5;241m.\u001b[39mto(model\u001b[38;5;241m.\u001b[39mdevice)\u001b[38;5;241m.\u001b[39mlong()\n\u001b[1;32m     26\u001b[0m \u001b[38;5;66;03m#print(f\"images shape is {images['pixel_values'].shape}\")\u001b[39;00m\n\u001b[1;32m     27\u001b[0m \u001b[38;5;66;03m#print(f\"gt mask shape is {gt_mask.shape}\")\u001b[39;00m\n\u001b[1;32m     28\u001b[0m \u001b[38;5;66;03m#1, 1, 5, 512, 512\u001b[39;00m\n\u001b[0;32m   (...)\u001b[0m\n\u001b[1;32m     31\u001b[0m \u001b[38;5;66;03m# don't run inference mode nowhere, since the gradient has to reach the beginning\u001b[39;00m\n\u001b[1;32m     32\u001b[0m \u001b[38;5;66;03m# instead torch.no_grad() cuts the gradient path in the place it's applied\u001b[39;00m\n\u001b[0;32m---> 33\u001b[0m bb_out \u001b[38;5;241m=\u001b[39m \u001b[43mmodel\u001b[49m\u001b[38;5;241;43m.\u001b[39;49m\u001b[43mbackbone\u001b[49m\u001b[43m(\u001b[49m\u001b[43mpixel_values\u001b[49m\u001b[38;5;241;43m=\u001b[39;49m\u001b[43mimages\u001b[49m\u001b[43m)\u001b[49m     \n\u001b[1;32m     34\u001b[0m feats \u001b[38;5;241m=\u001b[39m bb_out\u001b[38;5;241m.\u001b[39mfeature_maps\n\u001b[1;32m     35\u001b[0m logits \u001b[38;5;241m=\u001b[39m model\u001b[38;5;241m.\u001b[39mdecode_head(feats)\n",
      "File \u001b[0;32m~/boh/lib/python3.10/site-packages/torch/nn/modules/module.py:1773\u001b[0m, in \u001b[0;36mModule._wrapped_call_impl\u001b[0;34m(self, *args, **kwargs)\u001b[0m\n\u001b[1;32m   1771\u001b[0m     \u001b[38;5;28;01mreturn\u001b[39;00m \u001b[38;5;28mself\u001b[39m\u001b[38;5;241m.\u001b[39m_compiled_call_impl(\u001b[38;5;241m*\u001b[39margs, \u001b[38;5;241m*\u001b[39m\u001b[38;5;241m*\u001b[39mkwargs)  \u001b[38;5;66;03m# type: ignore[misc]\u001b[39;00m\n\u001b[1;32m   1772\u001b[0m \u001b[38;5;28;01melse\u001b[39;00m:\n\u001b[0;32m-> 1773\u001b[0m     \u001b[38;5;28;01mreturn\u001b[39;00m \u001b[38;5;28;43mself\u001b[39;49m\u001b[38;5;241;43m.\u001b[39;49m\u001b[43m_call_impl\u001b[49m\u001b[43m(\u001b[49m\u001b[38;5;241;43m*\u001b[39;49m\u001b[43margs\u001b[49m\u001b[43m,\u001b[49m\u001b[43m \u001b[49m\u001b[38;5;241;43m*\u001b[39;49m\u001b[38;5;241;43m*\u001b[39;49m\u001b[43mkwargs\u001b[49m\u001b[43m)\u001b[49m\n",
      "File \u001b[0;32m~/boh/lib/python3.10/site-packages/torch/nn/modules/module.py:1784\u001b[0m, in \u001b[0;36mModule._call_impl\u001b[0;34m(self, *args, **kwargs)\u001b[0m\n\u001b[1;32m   1779\u001b[0m \u001b[38;5;66;03m# If we don't have any hooks, we want to skip the rest of the logic in\u001b[39;00m\n\u001b[1;32m   1780\u001b[0m \u001b[38;5;66;03m# this function, and just call forward.\u001b[39;00m\n\u001b[1;32m   1781\u001b[0m \u001b[38;5;28;01mif\u001b[39;00m \u001b[38;5;129;01mnot\u001b[39;00m (\u001b[38;5;28mself\u001b[39m\u001b[38;5;241m.\u001b[39m_backward_hooks \u001b[38;5;129;01mor\u001b[39;00m \u001b[38;5;28mself\u001b[39m\u001b[38;5;241m.\u001b[39m_backward_pre_hooks \u001b[38;5;129;01mor\u001b[39;00m \u001b[38;5;28mself\u001b[39m\u001b[38;5;241m.\u001b[39m_forward_hooks \u001b[38;5;129;01mor\u001b[39;00m \u001b[38;5;28mself\u001b[39m\u001b[38;5;241m.\u001b[39m_forward_pre_hooks\n\u001b[1;32m   1782\u001b[0m         \u001b[38;5;129;01mor\u001b[39;00m _global_backward_pre_hooks \u001b[38;5;129;01mor\u001b[39;00m _global_backward_hooks\n\u001b[1;32m   1783\u001b[0m         \u001b[38;5;129;01mor\u001b[39;00m _global_forward_hooks \u001b[38;5;129;01mor\u001b[39;00m _global_forward_pre_hooks):\n\u001b[0;32m-> 1784\u001b[0m     \u001b[38;5;28;01mreturn\u001b[39;00m \u001b[43mforward_call\u001b[49m\u001b[43m(\u001b[49m\u001b[38;5;241;43m*\u001b[39;49m\u001b[43margs\u001b[49m\u001b[43m,\u001b[49m\u001b[43m \u001b[49m\u001b[38;5;241;43m*\u001b[39;49m\u001b[38;5;241;43m*\u001b[39;49m\u001b[43mkwargs\u001b[49m\u001b[43m)\u001b[49m\n\u001b[1;32m   1786\u001b[0m result \u001b[38;5;241m=\u001b[39m \u001b[38;5;28;01mNone\u001b[39;00m\n\u001b[1;32m   1787\u001b[0m called_always_called_hooks \u001b[38;5;241m=\u001b[39m \u001b[38;5;28mset\u001b[39m()\n",
      "File \u001b[0;32m~/boh/lib/python3.10/site-packages/transformers/models/swin/modeling_swin.py:1235\u001b[0m, in \u001b[0;36mSwinBackbone.forward\u001b[0;34m(self, pixel_values, output_hidden_states, output_attentions, return_dict)\u001b[0m\n\u001b[1;32m   1231\u001b[0m output_attentions \u001b[38;5;241m=\u001b[39m output_attentions \u001b[38;5;28;01mif\u001b[39;00m output_attentions \u001b[38;5;129;01mis\u001b[39;00m \u001b[38;5;129;01mnot\u001b[39;00m \u001b[38;5;28;01mNone\u001b[39;00m \u001b[38;5;28;01melse\u001b[39;00m \u001b[38;5;28mself\u001b[39m\u001b[38;5;241m.\u001b[39mconfig\u001b[38;5;241m.\u001b[39moutput_attentions\n\u001b[1;32m   1233\u001b[0m embedding_output, input_dimensions \u001b[38;5;241m=\u001b[39m \u001b[38;5;28mself\u001b[39m\u001b[38;5;241m.\u001b[39membeddings(pixel_values)\n\u001b[0;32m-> 1235\u001b[0m outputs \u001b[38;5;241m=\u001b[39m \u001b[38;5;28;43mself\u001b[39;49m\u001b[38;5;241;43m.\u001b[39;49m\u001b[43mencoder\u001b[49m\u001b[43m(\u001b[49m\n\u001b[1;32m   1236\u001b[0m \u001b[43m    \u001b[49m\u001b[43membedding_output\u001b[49m\u001b[43m,\u001b[49m\n\u001b[1;32m   1237\u001b[0m \u001b[43m    \u001b[49m\u001b[43minput_dimensions\u001b[49m\u001b[43m,\u001b[49m\n\u001b[1;32m   1238\u001b[0m \u001b[43m    \u001b[49m\u001b[43mhead_mask\u001b[49m\u001b[38;5;241;43m=\u001b[39;49m\u001b[38;5;28;43;01mNone\u001b[39;49;00m\u001b[43m,\u001b[49m\n\u001b[1;32m   1239\u001b[0m \u001b[43m    \u001b[49m\u001b[43moutput_attentions\u001b[49m\u001b[38;5;241;43m=\u001b[39;49m\u001b[43moutput_attentions\u001b[49m\u001b[43m,\u001b[49m\n\u001b[1;32m   1240\u001b[0m \u001b[43m    \u001b[49m\u001b[43moutput_hidden_states\u001b[49m\u001b[38;5;241;43m=\u001b[39;49m\u001b[38;5;28;43;01mTrue\u001b[39;49;00m\u001b[43m,\u001b[49m\n\u001b[1;32m   1241\u001b[0m \u001b[43m    \u001b[49m\u001b[43moutput_hidden_states_before_downsampling\u001b[49m\u001b[38;5;241;43m=\u001b[39;49m\u001b[38;5;28;43;01mTrue\u001b[39;49;00m\u001b[43m,\u001b[49m\n\u001b[1;32m   1242\u001b[0m \u001b[43m    \u001b[49m\u001b[43malways_partition\u001b[49m\u001b[38;5;241;43m=\u001b[39;49m\u001b[38;5;28;43;01mTrue\u001b[39;49;00m\u001b[43m,\u001b[49m\n\u001b[1;32m   1243\u001b[0m \u001b[43m    \u001b[49m\u001b[43mreturn_dict\u001b[49m\u001b[38;5;241;43m=\u001b[39;49m\u001b[38;5;28;43;01mTrue\u001b[39;49;00m\u001b[43m,\u001b[49m\n\u001b[1;32m   1244\u001b[0m \u001b[43m\u001b[49m\u001b[43m)\u001b[49m\n\u001b[1;32m   1246\u001b[0m hidden_states \u001b[38;5;241m=\u001b[39m outputs\u001b[38;5;241m.\u001b[39mreshaped_hidden_states\n\u001b[1;32m   1248\u001b[0m feature_maps \u001b[38;5;241m=\u001b[39m ()\n",
      "File \u001b[0;32m~/boh/lib/python3.10/site-packages/torch/nn/modules/module.py:1773\u001b[0m, in \u001b[0;36mModule._wrapped_call_impl\u001b[0;34m(self, *args, **kwargs)\u001b[0m\n\u001b[1;32m   1771\u001b[0m     \u001b[38;5;28;01mreturn\u001b[39;00m \u001b[38;5;28mself\u001b[39m\u001b[38;5;241m.\u001b[39m_compiled_call_impl(\u001b[38;5;241m*\u001b[39margs, \u001b[38;5;241m*\u001b[39m\u001b[38;5;241m*\u001b[39mkwargs)  \u001b[38;5;66;03m# type: ignore[misc]\u001b[39;00m\n\u001b[1;32m   1772\u001b[0m \u001b[38;5;28;01melse\u001b[39;00m:\n\u001b[0;32m-> 1773\u001b[0m     \u001b[38;5;28;01mreturn\u001b[39;00m \u001b[38;5;28;43mself\u001b[39;49m\u001b[38;5;241;43m.\u001b[39;49m\u001b[43m_call_impl\u001b[49m\u001b[43m(\u001b[49m\u001b[38;5;241;43m*\u001b[39;49m\u001b[43margs\u001b[49m\u001b[43m,\u001b[49m\u001b[43m \u001b[49m\u001b[38;5;241;43m*\u001b[39;49m\u001b[38;5;241;43m*\u001b[39;49m\u001b[43mkwargs\u001b[49m\u001b[43m)\u001b[49m\n",
      "File \u001b[0;32m~/boh/lib/python3.10/site-packages/torch/nn/modules/module.py:1784\u001b[0m, in \u001b[0;36mModule._call_impl\u001b[0;34m(self, *args, **kwargs)\u001b[0m\n\u001b[1;32m   1779\u001b[0m \u001b[38;5;66;03m# If we don't have any hooks, we want to skip the rest of the logic in\u001b[39;00m\n\u001b[1;32m   1780\u001b[0m \u001b[38;5;66;03m# this function, and just call forward.\u001b[39;00m\n\u001b[1;32m   1781\u001b[0m \u001b[38;5;28;01mif\u001b[39;00m \u001b[38;5;129;01mnot\u001b[39;00m (\u001b[38;5;28mself\u001b[39m\u001b[38;5;241m.\u001b[39m_backward_hooks \u001b[38;5;129;01mor\u001b[39;00m \u001b[38;5;28mself\u001b[39m\u001b[38;5;241m.\u001b[39m_backward_pre_hooks \u001b[38;5;129;01mor\u001b[39;00m \u001b[38;5;28mself\u001b[39m\u001b[38;5;241m.\u001b[39m_forward_hooks \u001b[38;5;129;01mor\u001b[39;00m \u001b[38;5;28mself\u001b[39m\u001b[38;5;241m.\u001b[39m_forward_pre_hooks\n\u001b[1;32m   1782\u001b[0m         \u001b[38;5;129;01mor\u001b[39;00m _global_backward_pre_hooks \u001b[38;5;129;01mor\u001b[39;00m _global_backward_hooks\n\u001b[1;32m   1783\u001b[0m         \u001b[38;5;129;01mor\u001b[39;00m _global_forward_hooks \u001b[38;5;129;01mor\u001b[39;00m _global_forward_pre_hooks):\n\u001b[0;32m-> 1784\u001b[0m     \u001b[38;5;28;01mreturn\u001b[39;00m \u001b[43mforward_call\u001b[49m\u001b[43m(\u001b[49m\u001b[38;5;241;43m*\u001b[39;49m\u001b[43margs\u001b[49m\u001b[43m,\u001b[49m\u001b[43m \u001b[49m\u001b[38;5;241;43m*\u001b[39;49m\u001b[38;5;241;43m*\u001b[39;49m\u001b[43mkwargs\u001b[49m\u001b[43m)\u001b[49m\n\u001b[1;32m   1786\u001b[0m result \u001b[38;5;241m=\u001b[39m \u001b[38;5;28;01mNone\u001b[39;00m\n\u001b[1;32m   1787\u001b[0m called_always_called_hooks \u001b[38;5;241m=\u001b[39m \u001b[38;5;28mset\u001b[39m()\n",
      "File \u001b[0;32m~/boh/lib/python3.10/site-packages/transformers/models/swin/modeling_swin.py:806\u001b[0m, in \u001b[0;36mSwinEncoder.forward\u001b[0;34m(self, hidden_states, input_dimensions, head_mask, output_attentions, output_hidden_states, output_hidden_states_before_downsampling, always_partition, return_dict)\u001b[0m\n\u001b[1;32m    803\u001b[0m \u001b[38;5;28;01mfor\u001b[39;00m i, layer_module \u001b[38;5;129;01min\u001b[39;00m \u001b[38;5;28menumerate\u001b[39m(\u001b[38;5;28mself\u001b[39m\u001b[38;5;241m.\u001b[39mlayers):\n\u001b[1;32m    804\u001b[0m     layer_head_mask \u001b[38;5;241m=\u001b[39m head_mask[i] \u001b[38;5;28;01mif\u001b[39;00m head_mask \u001b[38;5;129;01mis\u001b[39;00m \u001b[38;5;129;01mnot\u001b[39;00m \u001b[38;5;28;01mNone\u001b[39;00m \u001b[38;5;28;01melse\u001b[39;00m \u001b[38;5;28;01mNone\u001b[39;00m\n\u001b[0;32m--> 806\u001b[0m     layer_outputs \u001b[38;5;241m=\u001b[39m \u001b[43mlayer_module\u001b[49m\u001b[43m(\u001b[49m\n\u001b[1;32m    807\u001b[0m \u001b[43m        \u001b[49m\u001b[43mhidden_states\u001b[49m\u001b[43m,\u001b[49m\u001b[43m \u001b[49m\u001b[43minput_dimensions\u001b[49m\u001b[43m,\u001b[49m\u001b[43m \u001b[49m\u001b[43mlayer_head_mask\u001b[49m\u001b[43m,\u001b[49m\u001b[43m \u001b[49m\u001b[43moutput_attentions\u001b[49m\u001b[43m,\u001b[49m\u001b[43m \u001b[49m\u001b[43malways_partition\u001b[49m\n\u001b[1;32m    808\u001b[0m \u001b[43m    \u001b[49m\u001b[43m)\u001b[49m\n\u001b[1;32m    810\u001b[0m     hidden_states \u001b[38;5;241m=\u001b[39m layer_outputs[\u001b[38;5;241m0\u001b[39m]\n\u001b[1;32m    811\u001b[0m     hidden_states_before_downsampling \u001b[38;5;241m=\u001b[39m layer_outputs[\u001b[38;5;241m1\u001b[39m]\n",
      "File \u001b[0;32m~/boh/lib/python3.10/site-packages/transformers/modeling_layers.py:94\u001b[0m, in \u001b[0;36mGradientCheckpointingLayer.__call__\u001b[0;34m(self, *args, **kwargs)\u001b[0m\n\u001b[1;32m     91\u001b[0m         logger\u001b[38;5;241m.\u001b[39mwarning_once(message)\n\u001b[1;32m     93\u001b[0m     \u001b[38;5;28;01mreturn\u001b[39;00m \u001b[38;5;28mself\u001b[39m\u001b[38;5;241m.\u001b[39m_gradient_checkpointing_func(partial(\u001b[38;5;28msuper\u001b[39m()\u001b[38;5;241m.\u001b[39m\u001b[38;5;21m__call__\u001b[39m, \u001b[38;5;241m*\u001b[39m\u001b[38;5;241m*\u001b[39mkwargs), \u001b[38;5;241m*\u001b[39margs)\n\u001b[0;32m---> 94\u001b[0m \u001b[38;5;28;01mreturn\u001b[39;00m \u001b[38;5;28;43msuper\u001b[39;49m\u001b[43m(\u001b[49m\u001b[43m)\u001b[49m\u001b[38;5;241;43m.\u001b[39;49m\u001b[38;5;21;43m__call__\u001b[39;49m\u001b[43m(\u001b[49m\u001b[38;5;241;43m*\u001b[39;49m\u001b[43margs\u001b[49m\u001b[43m,\u001b[49m\u001b[43m \u001b[49m\u001b[38;5;241;43m*\u001b[39;49m\u001b[38;5;241;43m*\u001b[39;49m\u001b[43mkwargs\u001b[49m\u001b[43m)\u001b[49m\n",
      "File \u001b[0;32m~/boh/lib/python3.10/site-packages/torch/nn/modules/module.py:1773\u001b[0m, in \u001b[0;36mModule._wrapped_call_impl\u001b[0;34m(self, *args, **kwargs)\u001b[0m\n\u001b[1;32m   1771\u001b[0m     \u001b[38;5;28;01mreturn\u001b[39;00m \u001b[38;5;28mself\u001b[39m\u001b[38;5;241m.\u001b[39m_compiled_call_impl(\u001b[38;5;241m*\u001b[39margs, \u001b[38;5;241m*\u001b[39m\u001b[38;5;241m*\u001b[39mkwargs)  \u001b[38;5;66;03m# type: ignore[misc]\u001b[39;00m\n\u001b[1;32m   1772\u001b[0m \u001b[38;5;28;01melse\u001b[39;00m:\n\u001b[0;32m-> 1773\u001b[0m     \u001b[38;5;28;01mreturn\u001b[39;00m \u001b[38;5;28;43mself\u001b[39;49m\u001b[38;5;241;43m.\u001b[39;49m\u001b[43m_call_impl\u001b[49m\u001b[43m(\u001b[49m\u001b[38;5;241;43m*\u001b[39;49m\u001b[43margs\u001b[49m\u001b[43m,\u001b[49m\u001b[43m \u001b[49m\u001b[38;5;241;43m*\u001b[39;49m\u001b[38;5;241;43m*\u001b[39;49m\u001b[43mkwargs\u001b[49m\u001b[43m)\u001b[49m\n",
      "File \u001b[0;32m~/boh/lib/python3.10/site-packages/torch/nn/modules/module.py:1784\u001b[0m, in \u001b[0;36mModule._call_impl\u001b[0;34m(self, *args, **kwargs)\u001b[0m\n\u001b[1;32m   1779\u001b[0m \u001b[38;5;66;03m# If we don't have any hooks, we want to skip the rest of the logic in\u001b[39;00m\n\u001b[1;32m   1780\u001b[0m \u001b[38;5;66;03m# this function, and just call forward.\u001b[39;00m\n\u001b[1;32m   1781\u001b[0m \u001b[38;5;28;01mif\u001b[39;00m \u001b[38;5;129;01mnot\u001b[39;00m (\u001b[38;5;28mself\u001b[39m\u001b[38;5;241m.\u001b[39m_backward_hooks \u001b[38;5;129;01mor\u001b[39;00m \u001b[38;5;28mself\u001b[39m\u001b[38;5;241m.\u001b[39m_backward_pre_hooks \u001b[38;5;129;01mor\u001b[39;00m \u001b[38;5;28mself\u001b[39m\u001b[38;5;241m.\u001b[39m_forward_hooks \u001b[38;5;129;01mor\u001b[39;00m \u001b[38;5;28mself\u001b[39m\u001b[38;5;241m.\u001b[39m_forward_pre_hooks\n\u001b[1;32m   1782\u001b[0m         \u001b[38;5;129;01mor\u001b[39;00m _global_backward_pre_hooks \u001b[38;5;129;01mor\u001b[39;00m _global_backward_hooks\n\u001b[1;32m   1783\u001b[0m         \u001b[38;5;129;01mor\u001b[39;00m _global_forward_hooks \u001b[38;5;129;01mor\u001b[39;00m _global_forward_pre_hooks):\n\u001b[0;32m-> 1784\u001b[0m     \u001b[38;5;28;01mreturn\u001b[39;00m \u001b[43mforward_call\u001b[49m\u001b[43m(\u001b[49m\u001b[38;5;241;43m*\u001b[39;49m\u001b[43margs\u001b[49m\u001b[43m,\u001b[49m\u001b[43m \u001b[49m\u001b[38;5;241;43m*\u001b[39;49m\u001b[38;5;241;43m*\u001b[39;49m\u001b[43mkwargs\u001b[49m\u001b[43m)\u001b[49m\n\u001b[1;32m   1786\u001b[0m result \u001b[38;5;241m=\u001b[39m \u001b[38;5;28;01mNone\u001b[39;00m\n\u001b[1;32m   1787\u001b[0m called_always_called_hooks \u001b[38;5;241m=\u001b[39m \u001b[38;5;28mset\u001b[39m()\n",
      "File \u001b[0;32m~/boh/lib/python3.10/site-packages/transformers/models/swin/modeling_swin.py:736\u001b[0m, in \u001b[0;36mSwinStage.forward\u001b[0;34m(self, hidden_states, input_dimensions, head_mask, output_attentions, always_partition)\u001b[0m\n\u001b[1;32m    733\u001b[0m \u001b[38;5;28;01mfor\u001b[39;00m i, layer_module \u001b[38;5;129;01min\u001b[39;00m \u001b[38;5;28menumerate\u001b[39m(\u001b[38;5;28mself\u001b[39m\u001b[38;5;241m.\u001b[39mblocks):\n\u001b[1;32m    734\u001b[0m     layer_head_mask \u001b[38;5;241m=\u001b[39m head_mask[i] \u001b[38;5;28;01mif\u001b[39;00m head_mask \u001b[38;5;129;01mis\u001b[39;00m \u001b[38;5;129;01mnot\u001b[39;00m \u001b[38;5;28;01mNone\u001b[39;00m \u001b[38;5;28;01melse\u001b[39;00m \u001b[38;5;28;01mNone\u001b[39;00m\n\u001b[0;32m--> 736\u001b[0m     layer_outputs \u001b[38;5;241m=\u001b[39m \u001b[43mlayer_module\u001b[49m\u001b[43m(\u001b[49m\n\u001b[1;32m    737\u001b[0m \u001b[43m        \u001b[49m\u001b[43mhidden_states\u001b[49m\u001b[43m,\u001b[49m\u001b[43m \u001b[49m\u001b[43minput_dimensions\u001b[49m\u001b[43m,\u001b[49m\u001b[43m \u001b[49m\u001b[43mlayer_head_mask\u001b[49m\u001b[43m,\u001b[49m\u001b[43m \u001b[49m\u001b[43moutput_attentions\u001b[49m\u001b[43m,\u001b[49m\u001b[43m \u001b[49m\u001b[43malways_partition\u001b[49m\n\u001b[1;32m    738\u001b[0m \u001b[43m    \u001b[49m\u001b[43m)\u001b[49m\n\u001b[1;32m    740\u001b[0m     hidden_states \u001b[38;5;241m=\u001b[39m layer_outputs[\u001b[38;5;241m0\u001b[39m]\n\u001b[1;32m    742\u001b[0m hidden_states_before_downsampling \u001b[38;5;241m=\u001b[39m hidden_states\n",
      "File \u001b[0;32m~/boh/lib/python3.10/site-packages/torch/nn/modules/module.py:1773\u001b[0m, in \u001b[0;36mModule._wrapped_call_impl\u001b[0;34m(self, *args, **kwargs)\u001b[0m\n\u001b[1;32m   1771\u001b[0m     \u001b[38;5;28;01mreturn\u001b[39;00m \u001b[38;5;28mself\u001b[39m\u001b[38;5;241m.\u001b[39m_compiled_call_impl(\u001b[38;5;241m*\u001b[39margs, \u001b[38;5;241m*\u001b[39m\u001b[38;5;241m*\u001b[39mkwargs)  \u001b[38;5;66;03m# type: ignore[misc]\u001b[39;00m\n\u001b[1;32m   1772\u001b[0m \u001b[38;5;28;01melse\u001b[39;00m:\n\u001b[0;32m-> 1773\u001b[0m     \u001b[38;5;28;01mreturn\u001b[39;00m \u001b[38;5;28;43mself\u001b[39;49m\u001b[38;5;241;43m.\u001b[39;49m\u001b[43m_call_impl\u001b[49m\u001b[43m(\u001b[49m\u001b[38;5;241;43m*\u001b[39;49m\u001b[43margs\u001b[49m\u001b[43m,\u001b[49m\u001b[43m \u001b[49m\u001b[38;5;241;43m*\u001b[39;49m\u001b[38;5;241;43m*\u001b[39;49m\u001b[43mkwargs\u001b[49m\u001b[43m)\u001b[49m\n",
      "File \u001b[0;32m~/boh/lib/python3.10/site-packages/torch/nn/modules/module.py:1784\u001b[0m, in \u001b[0;36mModule._call_impl\u001b[0;34m(self, *args, **kwargs)\u001b[0m\n\u001b[1;32m   1779\u001b[0m \u001b[38;5;66;03m# If we don't have any hooks, we want to skip the rest of the logic in\u001b[39;00m\n\u001b[1;32m   1780\u001b[0m \u001b[38;5;66;03m# this function, and just call forward.\u001b[39;00m\n\u001b[1;32m   1781\u001b[0m \u001b[38;5;28;01mif\u001b[39;00m \u001b[38;5;129;01mnot\u001b[39;00m (\u001b[38;5;28mself\u001b[39m\u001b[38;5;241m.\u001b[39m_backward_hooks \u001b[38;5;129;01mor\u001b[39;00m \u001b[38;5;28mself\u001b[39m\u001b[38;5;241m.\u001b[39m_backward_pre_hooks \u001b[38;5;129;01mor\u001b[39;00m \u001b[38;5;28mself\u001b[39m\u001b[38;5;241m.\u001b[39m_forward_hooks \u001b[38;5;129;01mor\u001b[39;00m \u001b[38;5;28mself\u001b[39m\u001b[38;5;241m.\u001b[39m_forward_pre_hooks\n\u001b[1;32m   1782\u001b[0m         \u001b[38;5;129;01mor\u001b[39;00m _global_backward_pre_hooks \u001b[38;5;129;01mor\u001b[39;00m _global_backward_hooks\n\u001b[1;32m   1783\u001b[0m         \u001b[38;5;129;01mor\u001b[39;00m _global_forward_hooks \u001b[38;5;129;01mor\u001b[39;00m _global_forward_pre_hooks):\n\u001b[0;32m-> 1784\u001b[0m     \u001b[38;5;28;01mreturn\u001b[39;00m \u001b[43mforward_call\u001b[49m\u001b[43m(\u001b[49m\u001b[38;5;241;43m*\u001b[39;49m\u001b[43margs\u001b[49m\u001b[43m,\u001b[49m\u001b[43m \u001b[49m\u001b[38;5;241;43m*\u001b[39;49m\u001b[38;5;241;43m*\u001b[39;49m\u001b[43mkwargs\u001b[49m\u001b[43m)\u001b[49m\n\u001b[1;32m   1786\u001b[0m result \u001b[38;5;241m=\u001b[39m \u001b[38;5;28;01mNone\u001b[39;00m\n\u001b[1;32m   1787\u001b[0m called_always_called_hooks \u001b[38;5;241m=\u001b[39m \u001b[38;5;28mset\u001b[39m()\n",
      "File \u001b[0;32m~/boh/lib/python3.10/site-packages/transformers/models/swin/modeling_swin.py:666\u001b[0m, in \u001b[0;36mSwinLayer.forward\u001b[0;34m(self, hidden_states, input_dimensions, head_mask, output_attentions, always_partition)\u001b[0m\n\u001b[1;32m    661\u001b[0m hidden_states_windows \u001b[38;5;241m=\u001b[39m hidden_states_windows\u001b[38;5;241m.\u001b[39mview(\u001b[38;5;241m-\u001b[39m\u001b[38;5;241m1\u001b[39m, \u001b[38;5;28mself\u001b[39m\u001b[38;5;241m.\u001b[39mwindow_size \u001b[38;5;241m*\u001b[39m \u001b[38;5;28mself\u001b[39m\u001b[38;5;241m.\u001b[39mwindow_size, channels)\n\u001b[1;32m    662\u001b[0m attn_mask \u001b[38;5;241m=\u001b[39m \u001b[38;5;28mself\u001b[39m\u001b[38;5;241m.\u001b[39mget_attn_mask(\n\u001b[1;32m    663\u001b[0m     height_pad, width_pad, dtype\u001b[38;5;241m=\u001b[39mhidden_states\u001b[38;5;241m.\u001b[39mdtype, device\u001b[38;5;241m=\u001b[39mhidden_states_windows\u001b[38;5;241m.\u001b[39mdevice\n\u001b[1;32m    664\u001b[0m )\n\u001b[0;32m--> 666\u001b[0m attention_outputs \u001b[38;5;241m=\u001b[39m \u001b[38;5;28;43mself\u001b[39;49m\u001b[38;5;241;43m.\u001b[39;49m\u001b[43mattention\u001b[49m\u001b[43m(\u001b[49m\n\u001b[1;32m    667\u001b[0m \u001b[43m    \u001b[49m\u001b[43mhidden_states_windows\u001b[49m\u001b[43m,\u001b[49m\u001b[43m \u001b[49m\u001b[43mattn_mask\u001b[49m\u001b[43m,\u001b[49m\u001b[43m \u001b[49m\u001b[43mhead_mask\u001b[49m\u001b[43m,\u001b[49m\u001b[43m \u001b[49m\u001b[43moutput_attentions\u001b[49m\u001b[38;5;241;43m=\u001b[39;49m\u001b[43moutput_attentions\u001b[49m\n\u001b[1;32m    668\u001b[0m \u001b[43m\u001b[49m\u001b[43m)\u001b[49m\n\u001b[1;32m    670\u001b[0m attention_output \u001b[38;5;241m=\u001b[39m attention_outputs[\u001b[38;5;241m0\u001b[39m]\n\u001b[1;32m    672\u001b[0m attention_windows \u001b[38;5;241m=\u001b[39m attention_output\u001b[38;5;241m.\u001b[39mview(\u001b[38;5;241m-\u001b[39m\u001b[38;5;241m1\u001b[39m, \u001b[38;5;28mself\u001b[39m\u001b[38;5;241m.\u001b[39mwindow_size, \u001b[38;5;28mself\u001b[39m\u001b[38;5;241m.\u001b[39mwindow_size, channels)\n",
      "File \u001b[0;32m~/boh/lib/python3.10/site-packages/torch/nn/modules/module.py:1773\u001b[0m, in \u001b[0;36mModule._wrapped_call_impl\u001b[0;34m(self, *args, **kwargs)\u001b[0m\n\u001b[1;32m   1771\u001b[0m     \u001b[38;5;28;01mreturn\u001b[39;00m \u001b[38;5;28mself\u001b[39m\u001b[38;5;241m.\u001b[39m_compiled_call_impl(\u001b[38;5;241m*\u001b[39margs, \u001b[38;5;241m*\u001b[39m\u001b[38;5;241m*\u001b[39mkwargs)  \u001b[38;5;66;03m# type: ignore[misc]\u001b[39;00m\n\u001b[1;32m   1772\u001b[0m \u001b[38;5;28;01melse\u001b[39;00m:\n\u001b[0;32m-> 1773\u001b[0m     \u001b[38;5;28;01mreturn\u001b[39;00m \u001b[38;5;28;43mself\u001b[39;49m\u001b[38;5;241;43m.\u001b[39;49m\u001b[43m_call_impl\u001b[49m\u001b[43m(\u001b[49m\u001b[38;5;241;43m*\u001b[39;49m\u001b[43margs\u001b[49m\u001b[43m,\u001b[49m\u001b[43m \u001b[49m\u001b[38;5;241;43m*\u001b[39;49m\u001b[38;5;241;43m*\u001b[39;49m\u001b[43mkwargs\u001b[49m\u001b[43m)\u001b[49m\n",
      "File \u001b[0;32m~/boh/lib/python3.10/site-packages/torch/nn/modules/module.py:1784\u001b[0m, in \u001b[0;36mModule._call_impl\u001b[0;34m(self, *args, **kwargs)\u001b[0m\n\u001b[1;32m   1779\u001b[0m \u001b[38;5;66;03m# If we don't have any hooks, we want to skip the rest of the logic in\u001b[39;00m\n\u001b[1;32m   1780\u001b[0m \u001b[38;5;66;03m# this function, and just call forward.\u001b[39;00m\n\u001b[1;32m   1781\u001b[0m \u001b[38;5;28;01mif\u001b[39;00m \u001b[38;5;129;01mnot\u001b[39;00m (\u001b[38;5;28mself\u001b[39m\u001b[38;5;241m.\u001b[39m_backward_hooks \u001b[38;5;129;01mor\u001b[39;00m \u001b[38;5;28mself\u001b[39m\u001b[38;5;241m.\u001b[39m_backward_pre_hooks \u001b[38;5;129;01mor\u001b[39;00m \u001b[38;5;28mself\u001b[39m\u001b[38;5;241m.\u001b[39m_forward_hooks \u001b[38;5;129;01mor\u001b[39;00m \u001b[38;5;28mself\u001b[39m\u001b[38;5;241m.\u001b[39m_forward_pre_hooks\n\u001b[1;32m   1782\u001b[0m         \u001b[38;5;129;01mor\u001b[39;00m _global_backward_pre_hooks \u001b[38;5;129;01mor\u001b[39;00m _global_backward_hooks\n\u001b[1;32m   1783\u001b[0m         \u001b[38;5;129;01mor\u001b[39;00m _global_forward_hooks \u001b[38;5;129;01mor\u001b[39;00m _global_forward_pre_hooks):\n\u001b[0;32m-> 1784\u001b[0m     \u001b[38;5;28;01mreturn\u001b[39;00m \u001b[43mforward_call\u001b[49m\u001b[43m(\u001b[49m\u001b[38;5;241;43m*\u001b[39;49m\u001b[43margs\u001b[49m\u001b[43m,\u001b[49m\u001b[43m \u001b[49m\u001b[38;5;241;43m*\u001b[39;49m\u001b[38;5;241;43m*\u001b[39;49m\u001b[43mkwargs\u001b[49m\u001b[43m)\u001b[49m\n\u001b[1;32m   1786\u001b[0m result \u001b[38;5;241m=\u001b[39m \u001b[38;5;28;01mNone\u001b[39;00m\n\u001b[1;32m   1787\u001b[0m called_always_called_hooks \u001b[38;5;241m=\u001b[39m \u001b[38;5;28mset\u001b[39m()\n",
      "File \u001b[0;32m~/boh/lib/python3.10/site-packages/transformers/models/swin/modeling_swin.py:539\u001b[0m, in \u001b[0;36mSwinAttention.forward\u001b[0;34m(self, hidden_states, attention_mask, head_mask, output_attentions)\u001b[0m\n\u001b[1;32m    532\u001b[0m \u001b[38;5;28;01mdef\u001b[39;00m\u001b[38;5;250m \u001b[39m\u001b[38;5;21mforward\u001b[39m(\n\u001b[1;32m    533\u001b[0m     \u001b[38;5;28mself\u001b[39m,\n\u001b[1;32m    534\u001b[0m     hidden_states: torch\u001b[38;5;241m.\u001b[39mTensor,\n\u001b[0;32m   (...)\u001b[0m\n\u001b[1;32m    537\u001b[0m     output_attentions: Optional[\u001b[38;5;28mbool\u001b[39m] \u001b[38;5;241m=\u001b[39m \u001b[38;5;28;01mFalse\u001b[39;00m,\n\u001b[1;32m    538\u001b[0m ) \u001b[38;5;241m-\u001b[39m\u001b[38;5;241m>\u001b[39m \u001b[38;5;28mtuple\u001b[39m[torch\u001b[38;5;241m.\u001b[39mTensor]:\n\u001b[0;32m--> 539\u001b[0m     self_outputs \u001b[38;5;241m=\u001b[39m \u001b[38;5;28;43mself\u001b[39;49m\u001b[38;5;241;43m.\u001b[39;49m\u001b[43mself\u001b[49m\u001b[43m(\u001b[49m\u001b[43mhidden_states\u001b[49m\u001b[43m,\u001b[49m\u001b[43m \u001b[49m\u001b[43mattention_mask\u001b[49m\u001b[43m,\u001b[49m\u001b[43m \u001b[49m\u001b[43mhead_mask\u001b[49m\u001b[43m,\u001b[49m\u001b[43m \u001b[49m\u001b[43moutput_attentions\u001b[49m\u001b[43m)\u001b[49m\n\u001b[1;32m    540\u001b[0m     attention_output \u001b[38;5;241m=\u001b[39m \u001b[38;5;28mself\u001b[39m\u001b[38;5;241m.\u001b[39moutput(self_outputs[\u001b[38;5;241m0\u001b[39m], hidden_states)\n\u001b[1;32m    541\u001b[0m     outputs \u001b[38;5;241m=\u001b[39m (attention_output,) \u001b[38;5;241m+\u001b[39m self_outputs[\u001b[38;5;241m1\u001b[39m:]  \u001b[38;5;66;03m# add attentions if we output them\u001b[39;00m\n",
      "File \u001b[0;32m~/boh/lib/python3.10/site-packages/torch/nn/modules/module.py:1773\u001b[0m, in \u001b[0;36mModule._wrapped_call_impl\u001b[0;34m(self, *args, **kwargs)\u001b[0m\n\u001b[1;32m   1771\u001b[0m     \u001b[38;5;28;01mreturn\u001b[39;00m \u001b[38;5;28mself\u001b[39m\u001b[38;5;241m.\u001b[39m_compiled_call_impl(\u001b[38;5;241m*\u001b[39margs, \u001b[38;5;241m*\u001b[39m\u001b[38;5;241m*\u001b[39mkwargs)  \u001b[38;5;66;03m# type: ignore[misc]\u001b[39;00m\n\u001b[1;32m   1772\u001b[0m \u001b[38;5;28;01melse\u001b[39;00m:\n\u001b[0;32m-> 1773\u001b[0m     \u001b[38;5;28;01mreturn\u001b[39;00m \u001b[38;5;28;43mself\u001b[39;49m\u001b[38;5;241;43m.\u001b[39;49m\u001b[43m_call_impl\u001b[49m\u001b[43m(\u001b[49m\u001b[38;5;241;43m*\u001b[39;49m\u001b[43margs\u001b[49m\u001b[43m,\u001b[49m\u001b[43m \u001b[49m\u001b[38;5;241;43m*\u001b[39;49m\u001b[38;5;241;43m*\u001b[39;49m\u001b[43mkwargs\u001b[49m\u001b[43m)\u001b[49m\n",
      "File \u001b[0;32m~/boh/lib/python3.10/site-packages/torch/nn/modules/module.py:1784\u001b[0m, in \u001b[0;36mModule._call_impl\u001b[0;34m(self, *args, **kwargs)\u001b[0m\n\u001b[1;32m   1779\u001b[0m \u001b[38;5;66;03m# If we don't have any hooks, we want to skip the rest of the logic in\u001b[39;00m\n\u001b[1;32m   1780\u001b[0m \u001b[38;5;66;03m# this function, and just call forward.\u001b[39;00m\n\u001b[1;32m   1781\u001b[0m \u001b[38;5;28;01mif\u001b[39;00m \u001b[38;5;129;01mnot\u001b[39;00m (\u001b[38;5;28mself\u001b[39m\u001b[38;5;241m.\u001b[39m_backward_hooks \u001b[38;5;129;01mor\u001b[39;00m \u001b[38;5;28mself\u001b[39m\u001b[38;5;241m.\u001b[39m_backward_pre_hooks \u001b[38;5;129;01mor\u001b[39;00m \u001b[38;5;28mself\u001b[39m\u001b[38;5;241m.\u001b[39m_forward_hooks \u001b[38;5;129;01mor\u001b[39;00m \u001b[38;5;28mself\u001b[39m\u001b[38;5;241m.\u001b[39m_forward_pre_hooks\n\u001b[1;32m   1782\u001b[0m         \u001b[38;5;129;01mor\u001b[39;00m _global_backward_pre_hooks \u001b[38;5;129;01mor\u001b[39;00m _global_backward_hooks\n\u001b[1;32m   1783\u001b[0m         \u001b[38;5;129;01mor\u001b[39;00m _global_forward_hooks \u001b[38;5;129;01mor\u001b[39;00m _global_forward_pre_hooks):\n\u001b[0;32m-> 1784\u001b[0m     \u001b[38;5;28;01mreturn\u001b[39;00m \u001b[43mforward_call\u001b[49m\u001b[43m(\u001b[49m\u001b[38;5;241;43m*\u001b[39;49m\u001b[43margs\u001b[49m\u001b[43m,\u001b[49m\u001b[43m \u001b[49m\u001b[38;5;241;43m*\u001b[39;49m\u001b[38;5;241;43m*\u001b[39;49m\u001b[43mkwargs\u001b[49m\u001b[43m)\u001b[49m\n\u001b[1;32m   1786\u001b[0m result \u001b[38;5;241m=\u001b[39m \u001b[38;5;28;01mNone\u001b[39;00m\n\u001b[1;32m   1787\u001b[0m called_always_called_hooks \u001b[38;5;241m=\u001b[39m \u001b[38;5;28mset\u001b[39m()\n",
      "File \u001b[0;32m~/boh/lib/python3.10/site-packages/transformers/models/swin/modeling_swin.py:454\u001b[0m, in \u001b[0;36mSwinSelfAttention.forward\u001b[0;34m(self, hidden_states, attention_mask, head_mask, output_attentions)\u001b[0m\n\u001b[1;32m    451\u001b[0m \u001b[38;5;66;03m# Take the dot product between \"query\" and \"key\" to get the raw attention scores.\u001b[39;00m\n\u001b[1;32m    452\u001b[0m attention_scores \u001b[38;5;241m=\u001b[39m torch\u001b[38;5;241m.\u001b[39mmatmul(query_layer, key_layer\u001b[38;5;241m.\u001b[39mtranspose(\u001b[38;5;241m-\u001b[39m\u001b[38;5;241m1\u001b[39m, \u001b[38;5;241m-\u001b[39m\u001b[38;5;241m2\u001b[39m))\n\u001b[0;32m--> 454\u001b[0m attention_scores \u001b[38;5;241m=\u001b[39m \u001b[43mattention_scores\u001b[49m\u001b[43m \u001b[49m\u001b[38;5;241;43m/\u001b[39;49m\u001b[43m \u001b[49m\u001b[43mmath\u001b[49m\u001b[38;5;241;43m.\u001b[39;49m\u001b[43msqrt\u001b[49m\u001b[43m(\u001b[49m\u001b[38;5;28;43mself\u001b[39;49m\u001b[38;5;241;43m.\u001b[39;49m\u001b[43mattention_head_size\u001b[49m\u001b[43m)\u001b[49m\n\u001b[1;32m    456\u001b[0m relative_position_bias \u001b[38;5;241m=\u001b[39m \u001b[38;5;28mself\u001b[39m\u001b[38;5;241m.\u001b[39mrelative_position_bias_table[\u001b[38;5;28mself\u001b[39m\u001b[38;5;241m.\u001b[39mrelative_position_index\u001b[38;5;241m.\u001b[39mview(\u001b[38;5;241m-\u001b[39m\u001b[38;5;241m1\u001b[39m)]\n\u001b[1;32m    457\u001b[0m relative_position_bias \u001b[38;5;241m=\u001b[39m relative_position_bias\u001b[38;5;241m.\u001b[39mview(\n\u001b[1;32m    458\u001b[0m     \u001b[38;5;28mself\u001b[39m\u001b[38;5;241m.\u001b[39mwindow_size[\u001b[38;5;241m0\u001b[39m] \u001b[38;5;241m*\u001b[39m \u001b[38;5;28mself\u001b[39m\u001b[38;5;241m.\u001b[39mwindow_size[\u001b[38;5;241m1\u001b[39m], \u001b[38;5;28mself\u001b[39m\u001b[38;5;241m.\u001b[39mwindow_size[\u001b[38;5;241m0\u001b[39m] \u001b[38;5;241m*\u001b[39m \u001b[38;5;28mself\u001b[39m\u001b[38;5;241m.\u001b[39mwindow_size[\u001b[38;5;241m1\u001b[39m], \u001b[38;5;241m-\u001b[39m\u001b[38;5;241m1\u001b[39m\n\u001b[1;32m    459\u001b[0m )\n",
      "\u001b[0;31mOutOfMemoryError\u001b[0m: CUDA out of memory. Tried to allocate 184.00 MiB. GPU 0 has a total capacity of 39.38 GiB of which 86.25 MiB is free. Including non-PyTorch memory, this process has 39.29 GiB memory in use. Of the allocated memory 37.08 GiB is allocated by PyTorch, and 1.70 GiB is reserved by PyTorch but unallocated. If reserved but unallocated memory is large try setting PYTORCH_CUDA_ALLOC_CONF=expandable_segments:True to avoid fragmentation.  See documentation for Memory Management  (https://pytorch.org/docs/stable/notes/cuda.html#environment-variables)"
     ]
    }
   ],
   "source": [
    "value = -1\n",
    "args.k_shot = value\n",
    "print(f\"Running {value}-shot experiment\")\n",
    "main(args)\n",
    "free_ram()"
   ]
  },
  {
   "cell_type": "markdown",
   "metadata": {},
   "source": [
    "### load weights"
   ]
  },
  {
   "cell_type": "code",
   "execution_count": 438,
   "metadata": {},
   "outputs": [],
   "source": [
    "model = UperNetForSemanticSegmentation.from_pretrained(\n",
    "    \"openmmlab/upernet-swin-base\"\n",
    ")"
   ]
  },
  {
   "cell_type": "code",
   "execution_count": 439,
   "metadata": {},
   "outputs": [],
   "source": [
    "conv2d = model.backbone.embeddings.patch_embeddings.projection\n",
    "W2d = conv2d.weight.data\n",
    "b2d = conv2d.bias.data\n"
   ]
  },
  {
   "cell_type": "code",
   "execution_count": 466,
   "metadata": {},
   "outputs": [],
   "source": [
    "num_classes = 2\n",
    "\n",
    "# Replace the final classifier\n",
    "model.decode_head.classifier = nn.Conv2d(\n",
    "    in_channels=model.decode_head.classifier.in_channels,\n",
    "    out_channels=num_classes,\n",
    "    kernel_size=1\n",
    ")"
   ]
  },
  {
   "cell_type": "code",
   "execution_count": 467,
   "metadata": {},
   "outputs": [],
   "source": [
    "#ckpt_path = os.path.join(args.config.save_root, '91', \"checkpoints_151.pkl\")  # or your chosen epoch\n",
    "ckpt_path = '/home/matteomorellini/Weight-Inflation/results/1/checkpoints_36.pkl'\n",
    "checkpoint = torch.load(ckpt_path, map_location=device)  # or \"cuda\" if you want directly on GPU\n",
    "\n",
    "model.decode_head.classifier.load_state_dict(checkpoint[\"decode_head_classifier\"])\n",
    "model.backbone.embeddings.load_state_dict(\n",
    "    checkpoint[\"patch_embed_conv3d_proj\"]\n",
    ")\n",
    "\n",
    "model.to(device);"
   ]
  },
  {
   "cell_type": "code",
   "execution_count": 468,
   "metadata": {},
   "outputs": [
    {
     "name": "stdout",
     "output_type": "stream",
     "text": [
      "Classifier head keys: odict_keys(['weight', 'bias'])\n",
      "Patch embed keys: odict_keys(['patch_embeddings.conv3d.proj.weight', 'patch_embeddings.conv3d.proj.bias', 'norm.weight', 'norm.bias'])\n"
     ]
    }
   ],
   "source": [
    "print(\"Classifier head keys:\", checkpoint[\"decode_head_classifier\"].keys())\n",
    "print(\"Patch embed keys:\", checkpoint[\"patch_embed_conv3d_proj\"].keys())"
   ]
  },
  {
   "cell_type": "markdown",
   "metadata": {},
   "source": [
    "### inference function"
   ]
  },
  {
   "cell_type": "code",
   "execution_count": 40,
   "metadata": {},
   "outputs": [],
   "source": [
    "def find_best_threshold(preds, gts, metric=\"dice\"):\n",
    "    \"\"\"\n",
    "    Find the threshold that maximizes a segmentation metric (default: Dice coefficient).\n",
    "\n",
    "    Parameters\n",
    "    ----------\n",
    "    preds : np.ndarray or torch.Tensor\n",
    "        Continuous prediction scores or probabilities for each pixel/voxel.\n",
    "        - Expected shape: (H, W) for a single 2D image, or (N, H, W) for multiple images.\n",
    "        - Values should be in [0, 1]. If this is a torch.Tensor, it will be converted\n",
    "          internally to a NumPy array via `.detach().cpu().numpy()`.\n",
    "\n",
    "    gts : np.ndarray or torch.Tensor\n",
    "        Ground-truth binary masks of the same shape as `preds`.\n",
    "        - Values should be 0 or 1 (integer or boolean).\n",
    "\n",
    "    metric : str, optional (default = \"dice\")\n",
    "        Evaluation metric to optimize the threshold for. Currently only supports:\n",
    "        - \"dice\" : computes the Dice Similarity Coefficient (F1 score for segmentation)\n",
    "\n",
    "    Returns\n",
    "    -------\n",
    "    best_t : float\n",
    "        Threshold value in [0, 1] that yields the highest metric score\n",
    "        when applied to `preds`.\n",
    "\n",
    "    Notes\n",
    "    -----\n",
    "    - The function sweeps 101 thresholds linearly spaced between 0 and 1.\n",
    "    - For each threshold t, it binarizes predictions as (preds > t),\n",
    "      computes the chosen metric, and keeps the threshold that maximizes it.\n",
    "    - Assumes that `preds` and `gts` have identical shapes and spatial alignment.\n",
    "    - For batched data with varying shapes, you should flatten or concatenate\n",
    "      all predictions and ground-truth masks beforehand.\n",
    "\n",
    "    Example\n",
    "    -------\n",
    "    >>> preds = np.random.rand(256, 256)\n",
    "    >>> gts = np.random.randint(0, 2, (256, 256))\n",
    "    >>> best_t = find_best_threshold(preds, gts)\n",
    "    >>> print(best_t)\n",
    "    0.42\n",
    "    \"\"\"\n",
    "    thresholds = np.linspace(0, 1, 101)\n",
    "    best_t, best_score = 0.0, -1.0\n",
    "\n",
    "    if isinstance(preds, torch.Tensor): preds = preds.detach().cpu().numpy()\n",
    "    if isinstance(gts, torch.Tensor): gts = gts.detach().cpu().numpy()\n",
    "\n",
    "    for t in thresholds:\n",
    "        preds_bin = (preds > t).astype(np.uint8)\n",
    "        if metric == \"dice\":\n",
    "            inter = (preds_bin * gts).sum()\n",
    "            dice = (2 * inter) / (preds_bin.sum() + gts.sum() + 1e-6)\n",
    "            if dice > best_score:\n",
    "                best_t, best_score = t, dice\n",
    "\n",
    "    return best_t, best_score"
   ]
  },
  {
   "cell_type": "code",
   "execution_count": 41,
   "metadata": {},
   "outputs": [],
   "source": [
    "def find_DSC_threshold(args):\n",
    "    device = \"cuda\" if torch.cuda.is_available() else \"cpu\"\n",
    "\n",
    "    with open(args.config_path) as f:\n",
    "        args.config = EasyDict(yaml.load(f, Loader=yaml.FullLoader))\n",
    "\n",
    "    set_seed(seed=args.config.random_seed)\n",
    "\n",
    "    source = args.config.data_root\n",
    "\n",
    "    # to ensure that the validation set remains the same across different k-shot runs, we will use the same split\n",
    "    # for a fair comparison across k-shot experiments\n",
    "\n",
    "    # option 1 - fixed split\n",
    "    #val_size = len(full_dataset) - (int(0.8 * samples_per_slice) * admitted_slices)\n",
    "    # option 2 - separate dataset for validation\n",
    "    val_dataset = BratsDataset(\n",
    "        args=args.config,\n",
    "        root=source,\n",
    "        mode=\"validation\",\n",
    "        k_shot=args.k_shot,\n",
    "    )\n",
    "    print(f\"Using {len(val_dataset)} samples for validation\")\n",
    "\n",
    "    #val_indices = list(range((int(0.8 * samples_per_slice) * admitted_slices), len(full_dataset)))\n",
    "\n",
    "    #val_dataset = Subset(full_dataset, val_indices)\n",
    "\n",
    "    # option 3 - random split\n",
    "    #train_size = int(0.67 * len(train_dataset))\n",
    "    #validation_size = len(train_dataset) - train_size\n",
    "    #train_dataset, val_dataset = random_split(train_dataset, [train_size, validation_size])\n",
    "\n",
    "    val_dataloader = DataLoader(\n",
    "        val_dataset,\n",
    "        batch_size=(args.config.batch_size), # potentially increase batch size for validation\n",
    "        shuffle=False,\n",
    "        num_workers=num_workers,\n",
    "    )\n",
    "\n",
    "    test_dataloaders = {}\n",
    "    best_record = {}\n",
    "    for test_dataset_name in args.config.test_datasets:\n",
    "        test_dataloaders[test_dataset_name] = val_dataloader\n",
    "        best_record[test_dataset_name] = None\n",
    "\n",
    "\n",
    "    for param in model.parameters():\n",
    "        param.requires_grad = False\n",
    "\n",
    "    model.eval()\n",
    "    results = {}\n",
    "    for test_dataset_name in test_dataloaders:\n",
    "        test_dataloader = test_dataloaders[test_dataset_name]\n",
    "        anomaly_maps = []\n",
    "        anomaly_gts = []\n",
    "\n",
    "        image_scores = []\n",
    "        image_labels = []\n",
    "\n",
    "        with torch.no_grad():\n",
    "            for i, input in enumerate(tqdm(test_dataloader, desc=test_dataset_name)):\n",
    "                images = input[\"images\"][\"pixel_values\"].to(model.device)\n",
    "                anomaly_gt = input[\"mask\"].to(model.device).long()\n",
    "\n",
    "                bb_out = model.backbone(pixel_values=images)\n",
    "                feats = bb_out.feature_maps\n",
    "                logits = model.decode_head(feats)\n",
    "                logits_up = F.interpolate(logits, size=anomaly_gt.shape[-2:], mode=\"bilinear\", align_corners=False)\n",
    "                anomaly_map = torch.softmax(logits_up, dim=1)\n",
    "\n",
    "                B, _, H, W = anomaly_map.shape\n",
    "\n",
    "                anomaly_map = anomaly_map[:, 1, :, :]\n",
    "                \n",
    "                anomaly_maps.append(anomaly_map.cpu().numpy())\n",
    "                anomaly_gts.append(anomaly_gt.cpu().numpy())\n",
    "\n",
    "                anomaly_scores, _ = torch.max(anomaly_map.view((B, H * W)), dim=-1)\n",
    "\n",
    "                image_scores.extend(anomaly_scores.cpu().numpy().tolist())\n",
    "                 \n",
    "                #image_labels.extend(input[\"is_anomaly\"].cpu().numpy().tolist())\n",
    "                for mask in anomaly_gt:\n",
    "                    num_ones = (mask == 1).sum().item()\n",
    "                    image_labels.append(1 if num_ones > 10 else 0)\n",
    "\n",
    "        #metric = compute_imagewise_metrics(image_scores, image_labels)\n",
    "        #metric.update(compute_pixelwise_metrics(anomaly_maps, anomaly_gts))\n",
    "        anomaly_maps = np.concatenate(anomaly_maps, axis=0)\n",
    "        anomaly_gts = np.concatenate(anomaly_gts, axis=0)\n",
    "        results[test_dataset_name] = find_best_threshold(anomaly_maps, anomaly_gts, metric=\"dice\")\n",
    "    \n",
    "    return results"
   ]
  },
  {
   "cell_type": "code",
   "execution_count": 245,
   "metadata": {},
   "outputs": [],
   "source": [
    "def _to_disp(img_t: torch.Tensor):\n",
    "    \"\"\"img_t: (C,H,W) or (H,W). Returns (H,W) float in [0,1] for display.\"\"\"\n",
    "    if img_t.dim() == 3:\n",
    "        # choose first channel; or use mean across channels if you prefer\n",
    "        img = img_t[0].detach().float().cpu().numpy()\n",
    "    else:\n",
    "        img = img_t.detach().float().cpu().numpy()\n",
    "    # min-max per image for visualization\n",
    "    vmin, vmax = np.min(img), np.max(img)\n",
    "    if vmax > vmin:\n",
    "        img = (img - vmin) / (vmax - vmin)\n",
    "    else:\n",
    "        img = np.zeros_like(img)\n",
    "    return img\n",
    "\n",
    "def _overlay_gray_with_mask(base01, mask01, alpha=0.4, color=(1.0, 0.0, 0.0)):\n",
    "    \"\"\"\n",
    "    base01: (H,W) in [0,1] gray\n",
    "    mask01: (H,W) in [0,1] (binary or prob)\n",
    "    color: RGB tuple for overlay\n",
    "    returns RGB image (H,W,3)\n",
    "    \"\"\"\n",
    "    base_rgb = np.stack([base01, base01, base01], axis=-1)\n",
    "    color_arr = np.zeros_like(base_rgb)\n",
    "    color_arr[..., 0] = color[0]\n",
    "    color_arr[..., 1] = color[1]\n",
    "    color_arr[..., 2] = color[2]\n",
    "    # if mask is prob map, keep as is; otherwise binarize\n",
    "    if mask01.dtype != np.float32 and mask01.dtype != np.float64:\n",
    "        mask01 = mask01.astype(np.float32)\n",
    "    mask01 = np.clip(mask01, 0.0, 1.0)\n",
    "    out = (1 - alpha * mask01[..., None]) * base_rgb + (alpha * mask01[..., None]) * color_arr\n",
    "    return np.clip(out, 0.0, 1.0)\n",
    "\n",
    "def visualize_first_k(samples, save_dir, k=10):\n",
    "    \"\"\"\n",
    "    samples: list of dicts with keys:\n",
    "        - 'img':  (C,H,W) torch tensor\n",
    "        - 'gt':   (H,W)   torch tensor (0/1)\n",
    "        - 'pred': (H,W)   numpy/torch in [0,1] (anomaly prob)\n",
    "    Saves k figures as PNG (2x3 panels) into save_dir.\n",
    "    \"\"\"\n",
    "    os.makedirs(save_dir, exist_ok=True)\n",
    "    n = min(k, len(samples))\n",
    "    print(f\"Test set has {len(samples)} samples, visualizing first {n} into {save_dir}\")\n",
    "    # convert all preds in the test dataset to numpy arrays\n",
    "    batch_preds = [s['pred'].detach().cpu().numpy() if isinstance(s['pred'], torch.Tensor) else s['pred'] for s in samples]\n",
    "    batch_preds = np.stack(batch_preds)  # shape: (B, H, W)\n",
    "\n",
    "    # compute quantiles across the entire batch\n",
    "    lo, hi = np.quantile(batch_preds, 0.01), np.quantile(batch_preds, 0.995)\n",
    "    print(f\"Batch quantiles: lo={lo:.4f}, hi={hi:.4f}\")\n",
    "\n",
    "    for i in range(n):\n",
    "        img_t = samples[i]['img']\n",
    "        gt_t  = samples[i]['gt']\n",
    "        pred  = samples[i]['pred']\n",
    "        print(\"Max:\", torch.max(pred).item())\n",
    "        img01 = _to_disp(img_t)                              # (H,W) [0,1]\n",
    "        gt    = gt_t.detach().cpu().numpy().astype(np.uint8) # (H,W) {0,1}\n",
    "        # x in [0,1] probs; vmin/vmax by percentiles for display\n",
    "        # normalize per batch, otherwise in a range [0,0.005] the 0.005 becomes 1 \n",
    "        if isinstance(pred, torch.Tensor):\n",
    "            pred = pred.detach().cpu().numpy()\n",
    "        # todo: fix scaling from validation set (recommended for deployment), compute lo, hi (or temperature) on val once.\n",
    "        # Apply to test in a single pass: no caching, no second inference, consistent across datasets.\n",
    "        #pred  = np.clip(pred, 0.0, 1.0)\n",
    "        pred = np.clip((pred - lo) / (hi - lo + 1e-6), 0.0, 1.0)\n",
    "        abs_diff = np.abs(pred - gt)\n",
    "        # Panels\n",
    "        fig, axes = plt.subplots(2, 3, figsize=(12, 8))\n",
    "        ax = axes.ravel()\n",
    "\n",
    "        # 1) original\n",
    "        ax[0].imshow(img01, cmap='gray', vmin=0, vmax=1)\n",
    "        ax[0].set_title('Image'); ax[0].axis('off')\n",
    "\n",
    "        # 2) GT mask\n",
    "        ax[1].imshow(gt, cmap='gray', vmin=0, vmax=1)\n",
    "        ax[1].set_title('GT Mask'); ax[1].axis('off')\n",
    "\n",
    "        # 3) GT overlay on image (red)\n",
    "        ov_gt = _overlay_gray_with_mask(img01, gt, alpha=0.45, color=(1,0,0))\n",
    "        ax[2].imshow(ov_gt)\n",
    "        ax[2].set_title('Image + GT'); ax[2].axis('off')\n",
    "\n",
    "        # 4) prediction heatmap\n",
    "        im4 = ax[3].imshow(pred, cmap='magma', vmin=0, vmax=1)\n",
    "        ax[3].set_title('Prediction'); ax[3].axis('off')\n",
    "        fig.colorbar(im4, ax=ax[3], fraction=0.046, pad=0.04)\n",
    "\n",
    "        # 5) prediction overlay on image (yellow)\n",
    "        ov_pred = _overlay_gray_with_mask(img01, pred, alpha=0.45, color=(1,1,0))\n",
    "        ax[4].imshow(ov_pred)\n",
    "        ax[4].set_title('Image + Pred'); ax[4].axis('off')\n",
    " \n",
    "        ax[5].imshow(abs_diff, cmap='hot', vmin=0, vmax=1)\n",
    "        ax[5].set_title('|Prediction - Ground Truth|')\n",
    "        ax[5].axis('off')\n",
    "\n",
    "        plt.tight_layout()\n",
    "        out_path = os.path.join(save_dir, f\"sample_{i:02d}.png\")\n",
    "        plt.savefig(out_path, dpi=150, bbox_inches='tight')\n",
    "        plt.close(fig)\n",
    "\n",
    "# ---- integrate into your compute_test() ----\n",
    "# collect the first K samples as you iterate\n",
    "def compute_test(args, model, num_workers, viz_k=10, k_shot=\"16\"):\n",
    "    device = \"cuda\" if torch.cuda.is_available() else \"cpu\"\n",
    "    set_seed(seed=args.config.random_seed)\n",
    "\n",
    "    source = args.config.data_root\n",
    "    test_dataset = BratsDataset(args=args.config, root=source, mode='test')\n",
    "    print(f\"Total test dataset size: {len(test_dataset)}\")\n",
    "\n",
    "    test_dataloader = DataLoader(\n",
    "        test_dataset,\n",
    "        batch_size=args.config.batch_size,\n",
    "        shuffle=False,\n",
    "        num_workers=num_workers,\n",
    "    )\n",
    "\n",
    "    test_dataloaders = {name: test_dataloader for name in args.config.test_datasets}\n",
    "\n",
    "    model.eval()\n",
    "    results = {}\n",
    "    for test_dataset_name, test_dataloader in test_dataloaders.items():\n",
    "        anomaly_maps, anomaly_gts = [], []\n",
    "        image_scores, image_labels = [], []\n",
    "        # for visualization\n",
    "        viz_samples = []\n",
    "\n",
    "        with torch.no_grad():\n",
    "            for i, batch in enumerate(tqdm(test_dataloader, desc=test_dataset_name)):\n",
    "                images = batch[\"images\"][\"pixel_values\"].to(model.device)  # (B,C,D,H,W)\n",
    "                anomaly_gt = batch[\"mask\"].to(model.device).long()         # (B,H,W)\n",
    "\n",
    "                bb_out = model.backbone(pixel_values=images)\n",
    "                feats = bb_out.feature_maps\n",
    "                logits = model.decode_head(feats)\n",
    "                logits_up = F.interpolate(logits, size=anomaly_gt.shape[-2:], mode=\"bilinear\", align_corners=False)\n",
    "                probs = torch.softmax(logits_up, dim=1)                     # (B,2,H,W)\n",
    "                anomaly_prob = probs[:, 1]                                  # (B,H,W)\n",
    "                print(\"The max of the map is :\", torch.max(anomaly_prob).item())\n",
    "                B, H, W = anomaly_prob.shape\n",
    "                anomaly_maps.append(anomaly_prob.cpu().numpy())\n",
    "                anomaly_gts.append(anomaly_gt.cpu().numpy())\n",
    "\n",
    "                # image scores\n",
    "                scores, _ = torch.max(anomaly_prob.view(B, -1), dim=-1)\n",
    "                image_scores.extend(scores.cpu().numpy().tolist())\n",
    "\n",
    "                # labels (your heuristic)\n",
    "                for m in anomaly_gt:\n",
    "                    image_labels.append(1 if (m == 1).sum().item() > 10 else 0)\n",
    "\n",
    "                # collect first viz_k samples (single-channel image for display)\n",
    "                #if len(viz_samples) < viz_k:\n",
    "                    #take = min(viz_k - len(viz_samples), B)\n",
    "                    #for b in range(take):\n",
    "                \n",
    "                for b in range(B):\n",
    "                    viz_samples.append({\n",
    "                        \"img\": images[b, :, 2, :, :].detach().cpu(),          # (C,H,W)\n",
    "                        \"gt\":  anomaly_gt[b].detach().cpu(),      # (H,W)\n",
    "                        \"pred\": anomaly_prob[b].detach().cpu(),   # (H,W)\n",
    "                    })\n",
    "\n",
    "        # save visualizations\n",
    "        save_dir = os.path.join(args.config.save_root, k_shot, \"vis_test\", test_dataset_name)\n",
    "        visualize_first_k(viz_samples, save_dir, k=viz_k)\n",
    "        print(f\"Saved visualizations to {save_dir}\")\n",
    "\n",
    "        # metrics\n",
    "        metric = compute_imagewise_metrics(image_scores, image_labels)\n",
    "        metric.update(compute_pixelwise_metrics(anomaly_maps, anomaly_gts))\n",
    "        results[test_dataset_name] = metric\n",
    "\n",
    "    return results"
   ]
  },
  {
   "cell_type": "markdown",
   "metadata": {},
   "source": [
    "### compute inference\n"
   ]
  },
  {
   "cell_type": "code",
   "execution_count": 469,
   "metadata": {},
   "outputs": [
    {
     "name": "stdout",
     "output_type": "stream",
     "text": [
      "Using 72 samples for validation\n"
     ]
    },
    {
     "name": "stderr",
     "output_type": "stream",
     "text": [
      "brats-met:   0%|          | 0/5 [00:00<?, ?it/s]"
     ]
    },
    {
     "name": "stderr",
     "output_type": "stream",
     "text": [
      "brats-met: 100%|██████████| 5/5 [00:03<00:00,  1.48it/s]\n"
     ]
    },
    {
     "data": {
      "text/plain": [
       "{'brats-met': (0.15, 0.0386008155229188)}"
      ]
     },
     "execution_count": 469,
     "metadata": {},
     "output_type": "execute_result"
    }
   ],
   "source": [
    "find_DSC_threshold(args)"
   ]
  },
  {
   "cell_type": "markdown",
   "metadata": {},
   "source": [
    "Batch quantiles: lo=0.0000, hi=0.0130\n",
    "Batch quantiles: lo=0.0000, hi=0.0771\n"
   ]
  },
  {
   "cell_type": "code",
   "execution_count": 470,
   "metadata": {},
   "outputs": [
    {
     "name": "stdout",
     "output_type": "stream",
     "text": [
      "Total test dataset size: 256\n"
     ]
    },
    {
     "name": "stderr",
     "output_type": "stream",
     "text": [
      "brats-met:   0%|          | 0/16 [00:00<?, ?it/s]"
     ]
    },
    {
     "name": "stderr",
     "output_type": "stream",
     "text": [
      "brats-met:   6%|▋         | 1/16 [00:01<00:27,  1.85s/it]"
     ]
    },
    {
     "name": "stdout",
     "output_type": "stream",
     "text": [
      "The max of the map is : 0.6781693696975708\n"
     ]
    },
    {
     "name": "stderr",
     "output_type": "stream",
     "text": [
      "brats-met:  12%|█▎        | 2/16 [00:02<00:15,  1.09s/it]"
     ]
    },
    {
     "name": "stdout",
     "output_type": "stream",
     "text": [
      "The max of the map is : 0.6761911511421204\n"
     ]
    },
    {
     "name": "stderr",
     "output_type": "stream",
     "text": [
      "brats-met:  19%|█▉        | 3/16 [00:02<00:11,  1.17it/s]"
     ]
    },
    {
     "name": "stdout",
     "output_type": "stream",
     "text": [
      "The max of the map is : 0.6600091457366943\n"
     ]
    },
    {
     "name": "stderr",
     "output_type": "stream",
     "text": [
      "brats-met:  25%|██▌       | 4/16 [00:03<00:09,  1.33it/s]"
     ]
    },
    {
     "name": "stdout",
     "output_type": "stream",
     "text": [
      "The max of the map is : 0.6708659529685974\n"
     ]
    },
    {
     "name": "stderr",
     "output_type": "stream",
     "text": [
      "brats-met:  31%|███▏      | 5/16 [00:04<00:07,  1.44it/s]"
     ]
    },
    {
     "name": "stdout",
     "output_type": "stream",
     "text": [
      "The max of the map is : 0.6448343992233276\n"
     ]
    },
    {
     "name": "stderr",
     "output_type": "stream",
     "text": [
      "brats-met:  38%|███▊      | 6/16 [00:04<00:06,  1.51it/s]"
     ]
    },
    {
     "name": "stdout",
     "output_type": "stream",
     "text": [
      "The max of the map is : 0.7037440538406372\n"
     ]
    },
    {
     "name": "stderr",
     "output_type": "stream",
     "text": [
      "brats-met:  44%|████▍     | 7/16 [00:05<00:05,  1.57it/s]"
     ]
    },
    {
     "name": "stdout",
     "output_type": "stream",
     "text": [
      "The max of the map is : 0.7718371152877808\n"
     ]
    },
    {
     "name": "stderr",
     "output_type": "stream",
     "text": [
      "brats-met:  50%|█████     | 8/16 [00:05<00:04,  1.60it/s]"
     ]
    },
    {
     "name": "stdout",
     "output_type": "stream",
     "text": [
      "The max of the map is : 0.6930198073387146\n"
     ]
    },
    {
     "name": "stderr",
     "output_type": "stream",
     "text": [
      "brats-met:  56%|█████▋    | 9/16 [00:06<00:04,  1.63it/s]"
     ]
    },
    {
     "name": "stdout",
     "output_type": "stream",
     "text": [
      "The max of the map is : 0.7111511826515198\n"
     ]
    },
    {
     "name": "stderr",
     "output_type": "stream",
     "text": [
      "brats-met:  62%|██████▎   | 10/16 [00:07<00:03,  1.65it/s]"
     ]
    },
    {
     "name": "stdout",
     "output_type": "stream",
     "text": [
      "The max of the map is : 0.7056879997253418\n"
     ]
    },
    {
     "name": "stderr",
     "output_type": "stream",
     "text": [
      "brats-met:  69%|██████▉   | 11/16 [00:07<00:03,  1.65it/s]"
     ]
    },
    {
     "name": "stdout",
     "output_type": "stream",
     "text": [
      "The max of the map is : 0.6802130341529846\n"
     ]
    },
    {
     "name": "stderr",
     "output_type": "stream",
     "text": [
      "brats-met:  75%|███████▌  | 12/16 [00:08<00:02,  1.66it/s]"
     ]
    },
    {
     "name": "stdout",
     "output_type": "stream",
     "text": [
      "The max of the map is : 0.633362889289856\n"
     ]
    },
    {
     "name": "stderr",
     "output_type": "stream",
     "text": [
      "brats-met:  81%|████████▏ | 13/16 [00:08<00:01,  1.66it/s]"
     ]
    },
    {
     "name": "stdout",
     "output_type": "stream",
     "text": [
      "The max of the map is : 0.6703608632087708\n"
     ]
    },
    {
     "name": "stderr",
     "output_type": "stream",
     "text": [
      "brats-met:  88%|████████▊ | 14/16 [00:09<00:01,  1.67it/s]"
     ]
    },
    {
     "name": "stdout",
     "output_type": "stream",
     "text": [
      "The max of the map is : 0.706541895866394\n"
     ]
    },
    {
     "name": "stderr",
     "output_type": "stream",
     "text": [
      "brats-met:  94%|█████████▍| 15/16 [00:10<00:00,  1.67it/s]"
     ]
    },
    {
     "name": "stdout",
     "output_type": "stream",
     "text": [
      "The max of the map is : 0.6781693696975708\n"
     ]
    },
    {
     "name": "stderr",
     "output_type": "stream",
     "text": [
      "brats-met: 100%|██████████| 16/16 [00:10<00:00,  1.68it/s]"
     ]
    },
    {
     "name": "stdout",
     "output_type": "stream",
     "text": [
      "The max of the map is : 0.6761911511421204\n"
     ]
    },
    {
     "name": "stderr",
     "output_type": "stream",
     "text": [
      "brats-met: 100%|██████████| 16/16 [00:10<00:00,  1.47it/s]\n"
     ]
    },
    {
     "name": "stdout",
     "output_type": "stream",
     "text": [
      "Test set has 256 samples, visualizing first 20 into results/8/vis_test/brats-met\n",
      "Batch quantiles: lo=0.2888, hi=0.6260\n",
      "Max: 0.5804025530815125\n"
     ]
    },
    {
     "name": "stderr",
     "output_type": "stream",
     "text": [
      "Traceback (most recent call last):\n",
      "  File \"/opt/conda/lib/python3.10/multiprocessing/queues.py\", line 239, in _feed\n",
      "    reader_close()\n",
      "  File \"/opt/conda/lib/python3.10/multiprocessing/connection.py\", line 177, in close\n",
      "    self._close()\n",
      "  File \"/opt/conda/lib/python3.10/multiprocessing/connection.py\", line 361, in _close\n",
      "    _close(self._handle)\n",
      "OSError: [Errno 9] Bad file descriptor\n",
      "Exception ignored in: <function _ConnectionBase.__del__ at 0x7f2fa4d3a8c0>\n",
      "Traceback (most recent call last):\n",
      "  File \"/opt/conda/lib/python3.10/multiprocessing/connection.py\", line 132, in __del__\n",
      "    self._close()\n",
      "  File \"/opt/conda/lib/python3.10/multiprocessing/connection.py\", line 361, in _close\n",
      "    _close(self._handle)\n",
      "OSError: [Errno 9] Bad file descriptor\n"
     ]
    },
    {
     "ename": "KeyboardInterrupt",
     "evalue": "",
     "output_type": "error",
     "traceback": [
      "\u001b[0;31m---------------------------------------------------------------------------\u001b[0m",
      "\u001b[0;31mKeyboardInterrupt\u001b[0m                         Traceback (most recent call last)",
      "Cell \u001b[0;32mIn[470], line 1\u001b[0m\n\u001b[0;32m----> 1\u001b[0m \u001b[43mcompute_test\u001b[49m\u001b[43m(\u001b[49m\u001b[43margs\u001b[49m\u001b[43m,\u001b[49m\u001b[43m \u001b[49m\u001b[43mmodel\u001b[49m\u001b[43m,\u001b[49m\u001b[43m \u001b[49m\u001b[43mnum_workers\u001b[49m\u001b[43m,\u001b[49m\u001b[43m \u001b[49m\u001b[43mviz_k\u001b[49m\u001b[38;5;241;43m=\u001b[39;49m\u001b[38;5;241;43m20\u001b[39;49m\u001b[43m,\u001b[49m\u001b[43m \u001b[49m\u001b[43mk_shot\u001b[49m\u001b[38;5;241;43m=\u001b[39;49m\u001b[38;5;124;43m'\u001b[39;49m\u001b[38;5;124;43m8\u001b[39;49m\u001b[38;5;124;43m'\u001b[39;49m\u001b[43m)\u001b[49m\n",
      "Cell \u001b[0;32mIn[245], line 171\u001b[0m, in \u001b[0;36mcompute_test\u001b[0;34m(args, model, num_workers, viz_k, k_shot)\u001b[0m\n\u001b[1;32m    169\u001b[0m \u001b[38;5;66;03m# save visualizations\u001b[39;00m\n\u001b[1;32m    170\u001b[0m save_dir \u001b[38;5;241m=\u001b[39m os\u001b[38;5;241m.\u001b[39mpath\u001b[38;5;241m.\u001b[39mjoin(args\u001b[38;5;241m.\u001b[39mconfig\u001b[38;5;241m.\u001b[39msave_root, k_shot, \u001b[38;5;124m\"\u001b[39m\u001b[38;5;124mvis_test\u001b[39m\u001b[38;5;124m\"\u001b[39m, test_dataset_name)\n\u001b[0;32m--> 171\u001b[0m \u001b[43mvisualize_first_k\u001b[49m\u001b[43m(\u001b[49m\u001b[43mviz_samples\u001b[49m\u001b[43m,\u001b[49m\u001b[43m \u001b[49m\u001b[43msave_dir\u001b[49m\u001b[43m,\u001b[49m\u001b[43m \u001b[49m\u001b[43mk\u001b[49m\u001b[38;5;241;43m=\u001b[39;49m\u001b[43mviz_k\u001b[49m\u001b[43m)\u001b[49m\n\u001b[1;32m    172\u001b[0m \u001b[38;5;28mprint\u001b[39m(\u001b[38;5;124mf\u001b[39m\u001b[38;5;124m\"\u001b[39m\u001b[38;5;124mSaved visualizations to \u001b[39m\u001b[38;5;132;01m{\u001b[39;00msave_dir\u001b[38;5;132;01m}\u001b[39;00m\u001b[38;5;124m\"\u001b[39m)\n\u001b[1;32m    174\u001b[0m \u001b[38;5;66;03m# metrics\u001b[39;00m\n",
      "Cell \u001b[0;32mIn[245], line 101\u001b[0m, in \u001b[0;36mvisualize_first_k\u001b[0;34m(samples, save_dir, k)\u001b[0m\n\u001b[1;32m     98\u001b[0m ax[\u001b[38;5;241m5\u001b[39m]\u001b[38;5;241m.\u001b[39mset_title(\u001b[38;5;124m'\u001b[39m\u001b[38;5;124m|Prediction - Ground Truth|\u001b[39m\u001b[38;5;124m'\u001b[39m)\n\u001b[1;32m     99\u001b[0m ax[\u001b[38;5;241m5\u001b[39m]\u001b[38;5;241m.\u001b[39maxis(\u001b[38;5;124m'\u001b[39m\u001b[38;5;124moff\u001b[39m\u001b[38;5;124m'\u001b[39m)\n\u001b[0;32m--> 101\u001b[0m \u001b[43mplt\u001b[49m\u001b[38;5;241;43m.\u001b[39;49m\u001b[43mtight_layout\u001b[49m\u001b[43m(\u001b[49m\u001b[43m)\u001b[49m\n\u001b[1;32m    102\u001b[0m out_path \u001b[38;5;241m=\u001b[39m os\u001b[38;5;241m.\u001b[39mpath\u001b[38;5;241m.\u001b[39mjoin(save_dir, \u001b[38;5;124mf\u001b[39m\u001b[38;5;124m\"\u001b[39m\u001b[38;5;124msample_\u001b[39m\u001b[38;5;132;01m{\u001b[39;00mi\u001b[38;5;132;01m:\u001b[39;00m\u001b[38;5;124m02d\u001b[39m\u001b[38;5;132;01m}\u001b[39;00m\u001b[38;5;124m.png\u001b[39m\u001b[38;5;124m\"\u001b[39m)\n\u001b[1;32m    103\u001b[0m plt\u001b[38;5;241m.\u001b[39msavefig(out_path, dpi\u001b[38;5;241m=\u001b[39m\u001b[38;5;241m150\u001b[39m, bbox_inches\u001b[38;5;241m=\u001b[39m\u001b[38;5;124m'\u001b[39m\u001b[38;5;124mtight\u001b[39m\u001b[38;5;124m'\u001b[39m)\n",
      "File \u001b[0;32m~/boh/lib/python3.10/site-packages/matplotlib/pyplot.py:2349\u001b[0m, in \u001b[0;36mtight_layout\u001b[0;34m(pad, h_pad, w_pad, rect)\u001b[0m\n\u001b[1;32m   2347\u001b[0m \u001b[38;5;129m@_copy_docstring_and_deprecators\u001b[39m(Figure\u001b[38;5;241m.\u001b[39mtight_layout)\n\u001b[1;32m   2348\u001b[0m \u001b[38;5;28;01mdef\u001b[39;00m\u001b[38;5;250m \u001b[39m\u001b[38;5;21mtight_layout\u001b[39m(\u001b[38;5;241m*\u001b[39m, pad\u001b[38;5;241m=\u001b[39m\u001b[38;5;241m1.08\u001b[39m, h_pad\u001b[38;5;241m=\u001b[39m\u001b[38;5;28;01mNone\u001b[39;00m, w_pad\u001b[38;5;241m=\u001b[39m\u001b[38;5;28;01mNone\u001b[39;00m, rect\u001b[38;5;241m=\u001b[39m\u001b[38;5;28;01mNone\u001b[39;00m):\n\u001b[0;32m-> 2349\u001b[0m     \u001b[38;5;28;01mreturn\u001b[39;00m \u001b[43mgcf\u001b[49m\u001b[43m(\u001b[49m\u001b[43m)\u001b[49m\u001b[38;5;241;43m.\u001b[39;49m\u001b[43mtight_layout\u001b[49m\u001b[43m(\u001b[49m\u001b[43mpad\u001b[49m\u001b[38;5;241;43m=\u001b[39;49m\u001b[43mpad\u001b[49m\u001b[43m,\u001b[49m\u001b[43m \u001b[49m\u001b[43mh_pad\u001b[49m\u001b[38;5;241;43m=\u001b[39;49m\u001b[43mh_pad\u001b[49m\u001b[43m,\u001b[49m\u001b[43m \u001b[49m\u001b[43mw_pad\u001b[49m\u001b[38;5;241;43m=\u001b[39;49m\u001b[43mw_pad\u001b[49m\u001b[43m,\u001b[49m\u001b[43m \u001b[49m\u001b[43mrect\u001b[49m\u001b[38;5;241;43m=\u001b[39;49m\u001b[43mrect\u001b[49m\u001b[43m)\u001b[49m\n",
      "File \u001b[0;32m~/boh/lib/python3.10/site-packages/matplotlib/figure.py:3543\u001b[0m, in \u001b[0;36mFigure.tight_layout\u001b[0;34m(self, pad, h_pad, w_pad, rect)\u001b[0m\n\u001b[1;32m   3541\u001b[0m previous_engine \u001b[38;5;241m=\u001b[39m \u001b[38;5;28mself\u001b[39m\u001b[38;5;241m.\u001b[39mget_layout_engine()\n\u001b[1;32m   3542\u001b[0m \u001b[38;5;28mself\u001b[39m\u001b[38;5;241m.\u001b[39mset_layout_engine(engine)\n\u001b[0;32m-> 3543\u001b[0m \u001b[43mengine\u001b[49m\u001b[38;5;241;43m.\u001b[39;49m\u001b[43mexecute\u001b[49m\u001b[43m(\u001b[49m\u001b[38;5;28;43mself\u001b[39;49m\u001b[43m)\u001b[49m\n\u001b[1;32m   3544\u001b[0m \u001b[38;5;28;01mif\u001b[39;00m previous_engine \u001b[38;5;129;01mis\u001b[39;00m \u001b[38;5;129;01mnot\u001b[39;00m \u001b[38;5;28;01mNone\u001b[39;00m \u001b[38;5;129;01mand\u001b[39;00m \u001b[38;5;129;01mnot\u001b[39;00m \u001b[38;5;28misinstance\u001b[39m(\n\u001b[1;32m   3545\u001b[0m     previous_engine, (TightLayoutEngine, PlaceHolderLayoutEngine)\n\u001b[1;32m   3546\u001b[0m ):\n\u001b[1;32m   3547\u001b[0m     _api\u001b[38;5;241m.\u001b[39mwarn_external(\u001b[38;5;124m'\u001b[39m\u001b[38;5;124mThe figure layout has changed to tight\u001b[39m\u001b[38;5;124m'\u001b[39m)\n",
      "File \u001b[0;32m~/boh/lib/python3.10/site-packages/matplotlib/layout_engine.py:184\u001b[0m, in \u001b[0;36mTightLayoutEngine.execute\u001b[0;34m(self, fig)\u001b[0m\n\u001b[1;32m    182\u001b[0m renderer \u001b[38;5;241m=\u001b[39m fig\u001b[38;5;241m.\u001b[39m_get_renderer()\n\u001b[1;32m    183\u001b[0m \u001b[38;5;28;01mwith\u001b[39;00m \u001b[38;5;28mgetattr\u001b[39m(renderer, \u001b[38;5;124m\"\u001b[39m\u001b[38;5;124m_draw_disabled\u001b[39m\u001b[38;5;124m\"\u001b[39m, nullcontext)():\n\u001b[0;32m--> 184\u001b[0m     kwargs \u001b[38;5;241m=\u001b[39m \u001b[43mget_tight_layout_figure\u001b[49m\u001b[43m(\u001b[49m\n\u001b[1;32m    185\u001b[0m \u001b[43m        \u001b[49m\u001b[43mfig\u001b[49m\u001b[43m,\u001b[49m\u001b[43m \u001b[49m\u001b[43mfig\u001b[49m\u001b[38;5;241;43m.\u001b[39;49m\u001b[43maxes\u001b[49m\u001b[43m,\u001b[49m\u001b[43m \u001b[49m\u001b[43mget_subplotspec_list\u001b[49m\u001b[43m(\u001b[49m\u001b[43mfig\u001b[49m\u001b[38;5;241;43m.\u001b[39;49m\u001b[43maxes\u001b[49m\u001b[43m)\u001b[49m\u001b[43m,\u001b[49m\u001b[43m \u001b[49m\u001b[43mrenderer\u001b[49m\u001b[43m,\u001b[49m\n\u001b[1;32m    186\u001b[0m \u001b[43m        \u001b[49m\u001b[43mpad\u001b[49m\u001b[38;5;241;43m=\u001b[39;49m\u001b[43minfo\u001b[49m\u001b[43m[\u001b[49m\u001b[38;5;124;43m'\u001b[39;49m\u001b[38;5;124;43mpad\u001b[39;49m\u001b[38;5;124;43m'\u001b[39;49m\u001b[43m]\u001b[49m\u001b[43m,\u001b[49m\u001b[43m \u001b[49m\u001b[43mh_pad\u001b[49m\u001b[38;5;241;43m=\u001b[39;49m\u001b[43minfo\u001b[49m\u001b[43m[\u001b[49m\u001b[38;5;124;43m'\u001b[39;49m\u001b[38;5;124;43mh_pad\u001b[39;49m\u001b[38;5;124;43m'\u001b[39;49m\u001b[43m]\u001b[49m\u001b[43m,\u001b[49m\u001b[43m \u001b[49m\u001b[43mw_pad\u001b[49m\u001b[38;5;241;43m=\u001b[39;49m\u001b[43minfo\u001b[49m\u001b[43m[\u001b[49m\u001b[38;5;124;43m'\u001b[39;49m\u001b[38;5;124;43mw_pad\u001b[39;49m\u001b[38;5;124;43m'\u001b[39;49m\u001b[43m]\u001b[49m\u001b[43m,\u001b[49m\n\u001b[1;32m    187\u001b[0m \u001b[43m        \u001b[49m\u001b[43mrect\u001b[49m\u001b[38;5;241;43m=\u001b[39;49m\u001b[43minfo\u001b[49m\u001b[43m[\u001b[49m\u001b[38;5;124;43m'\u001b[39;49m\u001b[38;5;124;43mrect\u001b[39;49m\u001b[38;5;124;43m'\u001b[39;49m\u001b[43m]\u001b[49m\u001b[43m)\u001b[49m\n\u001b[1;32m    188\u001b[0m \u001b[38;5;28;01mif\u001b[39;00m kwargs:\n\u001b[1;32m    189\u001b[0m     fig\u001b[38;5;241m.\u001b[39msubplots_adjust(\u001b[38;5;241m*\u001b[39m\u001b[38;5;241m*\u001b[39mkwargs)\n",
      "File \u001b[0;32m~/boh/lib/python3.10/site-packages/matplotlib/_tight_layout.py:266\u001b[0m, in \u001b[0;36mget_tight_layout_figure\u001b[0;34m(fig, axes_list, subplotspec_list, renderer, pad, h_pad, w_pad, rect)\u001b[0m\n\u001b[1;32m    261\u001b[0m         \u001b[38;5;28;01mreturn\u001b[39;00m {}\n\u001b[1;32m    262\u001b[0m     span_pairs\u001b[38;5;241m.\u001b[39mappend((\n\u001b[1;32m    263\u001b[0m         \u001b[38;5;28mslice\u001b[39m(ss\u001b[38;5;241m.\u001b[39mrowspan\u001b[38;5;241m.\u001b[39mstart \u001b[38;5;241m*\u001b[39m div_row, ss\u001b[38;5;241m.\u001b[39mrowspan\u001b[38;5;241m.\u001b[39mstop \u001b[38;5;241m*\u001b[39m div_row),\n\u001b[1;32m    264\u001b[0m         \u001b[38;5;28mslice\u001b[39m(ss\u001b[38;5;241m.\u001b[39mcolspan\u001b[38;5;241m.\u001b[39mstart \u001b[38;5;241m*\u001b[39m div_col, ss\u001b[38;5;241m.\u001b[39mcolspan\u001b[38;5;241m.\u001b[39mstop \u001b[38;5;241m*\u001b[39m div_col)))\n\u001b[0;32m--> 266\u001b[0m kwargs \u001b[38;5;241m=\u001b[39m \u001b[43m_auto_adjust_subplotpars\u001b[49m\u001b[43m(\u001b[49m\u001b[43mfig\u001b[49m\u001b[43m,\u001b[49m\u001b[43m \u001b[49m\u001b[43mrenderer\u001b[49m\u001b[43m,\u001b[49m\n\u001b[1;32m    267\u001b[0m \u001b[43m                                  \u001b[49m\u001b[43mshape\u001b[49m\u001b[38;5;241;43m=\u001b[39;49m\u001b[43m(\u001b[49m\u001b[43mmax_nrows\u001b[49m\u001b[43m,\u001b[49m\u001b[43m \u001b[49m\u001b[43mmax_ncols\u001b[49m\u001b[43m)\u001b[49m\u001b[43m,\u001b[49m\n\u001b[1;32m    268\u001b[0m \u001b[43m                                  \u001b[49m\u001b[43mspan_pairs\u001b[49m\u001b[38;5;241;43m=\u001b[39;49m\u001b[43mspan_pairs\u001b[49m\u001b[43m,\u001b[49m\n\u001b[1;32m    269\u001b[0m \u001b[43m                                  \u001b[49m\u001b[43msubplot_list\u001b[49m\u001b[38;5;241;43m=\u001b[39;49m\u001b[43msubplot_list\u001b[49m\u001b[43m,\u001b[49m\n\u001b[1;32m    270\u001b[0m \u001b[43m                                  \u001b[49m\u001b[43max_bbox_list\u001b[49m\u001b[38;5;241;43m=\u001b[39;49m\u001b[43max_bbox_list\u001b[49m\u001b[43m,\u001b[49m\n\u001b[1;32m    271\u001b[0m \u001b[43m                                  \u001b[49m\u001b[43mpad\u001b[49m\u001b[38;5;241;43m=\u001b[39;49m\u001b[43mpad\u001b[49m\u001b[43m,\u001b[49m\u001b[43m \u001b[49m\u001b[43mh_pad\u001b[49m\u001b[38;5;241;43m=\u001b[39;49m\u001b[43mh_pad\u001b[49m\u001b[43m,\u001b[49m\u001b[43m \u001b[49m\u001b[43mw_pad\u001b[49m\u001b[38;5;241;43m=\u001b[39;49m\u001b[43mw_pad\u001b[49m\u001b[43m)\u001b[49m\n\u001b[1;32m    273\u001b[0m \u001b[38;5;66;03m# kwargs can be none if tight_layout fails...\u001b[39;00m\n\u001b[1;32m    274\u001b[0m \u001b[38;5;28;01mif\u001b[39;00m rect \u001b[38;5;129;01mis\u001b[39;00m \u001b[38;5;129;01mnot\u001b[39;00m \u001b[38;5;28;01mNone\u001b[39;00m \u001b[38;5;129;01mand\u001b[39;00m kwargs \u001b[38;5;129;01mis\u001b[39;00m \u001b[38;5;129;01mnot\u001b[39;00m \u001b[38;5;28;01mNone\u001b[39;00m:\n\u001b[1;32m    275\u001b[0m     \u001b[38;5;66;03m# if rect is given, the whole subplots area (including\u001b[39;00m\n\u001b[1;32m    276\u001b[0m     \u001b[38;5;66;03m# labels) will fit into the rect instead of the\u001b[39;00m\n\u001b[0;32m   (...)\u001b[0m\n\u001b[1;32m    280\u001b[0m     \u001b[38;5;66;03m# auto_adjust_subplotpars twice, where the second run\u001b[39;00m\n\u001b[1;32m    281\u001b[0m     \u001b[38;5;66;03m# with adjusted rect parameters.\u001b[39;00m\n",
      "File \u001b[0;32m~/boh/lib/python3.10/site-packages/matplotlib/_tight_layout.py:82\u001b[0m, in \u001b[0;36m_auto_adjust_subplotpars\u001b[0;34m(fig, renderer, shape, span_pairs, subplot_list, ax_bbox_list, pad, h_pad, w_pad, rect)\u001b[0m\n\u001b[1;32m     80\u001b[0m \u001b[38;5;28;01mfor\u001b[39;00m ax \u001b[38;5;129;01min\u001b[39;00m subplots:\n\u001b[1;32m     81\u001b[0m     \u001b[38;5;28;01mif\u001b[39;00m ax\u001b[38;5;241m.\u001b[39mget_visible():\n\u001b[0;32m---> 82\u001b[0m         bb \u001b[38;5;241m+\u001b[39m\u001b[38;5;241m=\u001b[39m [\u001b[43mmartist\u001b[49m\u001b[38;5;241;43m.\u001b[39;49m\u001b[43m_get_tightbbox_for_layout_only\u001b[49m\u001b[43m(\u001b[49m\u001b[43max\u001b[49m\u001b[43m,\u001b[49m\u001b[43m \u001b[49m\u001b[43mrenderer\u001b[49m\u001b[43m)\u001b[49m]\n\u001b[1;32m     84\u001b[0m tight_bbox_raw \u001b[38;5;241m=\u001b[39m Bbox\u001b[38;5;241m.\u001b[39munion(bb)\n\u001b[1;32m     85\u001b[0m tight_bbox \u001b[38;5;241m=\u001b[39m fig\u001b[38;5;241m.\u001b[39mtransFigure\u001b[38;5;241m.\u001b[39minverted()\u001b[38;5;241m.\u001b[39mtransform_bbox(tight_bbox_raw)\n",
      "File \u001b[0;32m~/boh/lib/python3.10/site-packages/matplotlib/artist.py:1415\u001b[0m, in \u001b[0;36m_get_tightbbox_for_layout_only\u001b[0;34m(obj, *args, **kwargs)\u001b[0m\n\u001b[1;32m   1409\u001b[0m \u001b[38;5;250m\u001b[39m\u001b[38;5;124;03m\"\"\"\u001b[39;00m\n\u001b[1;32m   1410\u001b[0m \u001b[38;5;124;03mMatplotlib's `.Axes.get_tightbbox` and `.Axis.get_tightbbox` support a\u001b[39;00m\n\u001b[1;32m   1411\u001b[0m \u001b[38;5;124;03m*for_layout_only* kwarg; this helper tries to use the kwarg but skips it\u001b[39;00m\n\u001b[1;32m   1412\u001b[0m \u001b[38;5;124;03mwhen encountering third-party subclasses that do not support it.\u001b[39;00m\n\u001b[1;32m   1413\u001b[0m \u001b[38;5;124;03m\"\"\"\u001b[39;00m\n\u001b[1;32m   1414\u001b[0m \u001b[38;5;28;01mtry\u001b[39;00m:\n\u001b[0;32m-> 1415\u001b[0m     \u001b[38;5;28;01mreturn\u001b[39;00m \u001b[43mobj\u001b[49m\u001b[38;5;241;43m.\u001b[39;49m\u001b[43mget_tightbbox\u001b[49m\u001b[43m(\u001b[49m\u001b[38;5;241;43m*\u001b[39;49m\u001b[43margs\u001b[49m\u001b[43m,\u001b[49m\u001b[43m \u001b[49m\u001b[38;5;241;43m*\u001b[39;49m\u001b[38;5;241;43m*\u001b[39;49m\u001b[43m{\u001b[49m\u001b[38;5;241;43m*\u001b[39;49m\u001b[38;5;241;43m*\u001b[39;49m\u001b[43mkwargs\u001b[49m\u001b[43m,\u001b[49m\u001b[43m \u001b[49m\u001b[38;5;124;43m\"\u001b[39;49m\u001b[38;5;124;43mfor_layout_only\u001b[39;49m\u001b[38;5;124;43m\"\u001b[39;49m\u001b[43m:\u001b[49m\u001b[43m \u001b[49m\u001b[38;5;28;43;01mTrue\u001b[39;49;00m\u001b[43m}\u001b[49m\u001b[43m)\u001b[49m\n\u001b[1;32m   1416\u001b[0m \u001b[38;5;28;01mexcept\u001b[39;00m \u001b[38;5;167;01mTypeError\u001b[39;00m:\n\u001b[1;32m   1417\u001b[0m     \u001b[38;5;28;01mreturn\u001b[39;00m obj\u001b[38;5;241m.\u001b[39mget_tightbbox(\u001b[38;5;241m*\u001b[39margs, \u001b[38;5;241m*\u001b[39m\u001b[38;5;241m*\u001b[39mkwargs)\n",
      "File \u001b[0;32m~/boh/lib/python3.10/site-packages/matplotlib/axes/_base.py:4387\u001b[0m, in \u001b[0;36m_AxesBase.get_tightbbox\u001b[0;34m(self, renderer, call_axes_locator, bbox_extra_artists, for_layout_only)\u001b[0m\n\u001b[1;32m   4385\u001b[0m \u001b[38;5;28;01mfor\u001b[39;00m axis \u001b[38;5;129;01min\u001b[39;00m \u001b[38;5;28mself\u001b[39m\u001b[38;5;241m.\u001b[39m_axis_map\u001b[38;5;241m.\u001b[39mvalues():\n\u001b[1;32m   4386\u001b[0m     \u001b[38;5;28;01mif\u001b[39;00m \u001b[38;5;28mself\u001b[39m\u001b[38;5;241m.\u001b[39maxison \u001b[38;5;129;01mand\u001b[39;00m axis\u001b[38;5;241m.\u001b[39mget_visible():\n\u001b[0;32m-> 4387\u001b[0m         ba \u001b[38;5;241m=\u001b[39m \u001b[43mmartist\u001b[49m\u001b[38;5;241;43m.\u001b[39;49m\u001b[43m_get_tightbbox_for_layout_only\u001b[49m\u001b[43m(\u001b[49m\u001b[43maxis\u001b[49m\u001b[43m,\u001b[49m\u001b[43m \u001b[49m\u001b[43mrenderer\u001b[49m\u001b[43m)\u001b[49m\n\u001b[1;32m   4388\u001b[0m         \u001b[38;5;28;01mif\u001b[39;00m ba:\n\u001b[1;32m   4389\u001b[0m             bb\u001b[38;5;241m.\u001b[39mappend(ba)\n",
      "File \u001b[0;32m~/boh/lib/python3.10/site-packages/matplotlib/artist.py:1415\u001b[0m, in \u001b[0;36m_get_tightbbox_for_layout_only\u001b[0;34m(obj, *args, **kwargs)\u001b[0m\n\u001b[1;32m   1409\u001b[0m \u001b[38;5;250m\u001b[39m\u001b[38;5;124;03m\"\"\"\u001b[39;00m\n\u001b[1;32m   1410\u001b[0m \u001b[38;5;124;03mMatplotlib's `.Axes.get_tightbbox` and `.Axis.get_tightbbox` support a\u001b[39;00m\n\u001b[1;32m   1411\u001b[0m \u001b[38;5;124;03m*for_layout_only* kwarg; this helper tries to use the kwarg but skips it\u001b[39;00m\n\u001b[1;32m   1412\u001b[0m \u001b[38;5;124;03mwhen encountering third-party subclasses that do not support it.\u001b[39;00m\n\u001b[1;32m   1413\u001b[0m \u001b[38;5;124;03m\"\"\"\u001b[39;00m\n\u001b[1;32m   1414\u001b[0m \u001b[38;5;28;01mtry\u001b[39;00m:\n\u001b[0;32m-> 1415\u001b[0m     \u001b[38;5;28;01mreturn\u001b[39;00m \u001b[43mobj\u001b[49m\u001b[38;5;241;43m.\u001b[39;49m\u001b[43mget_tightbbox\u001b[49m\u001b[43m(\u001b[49m\u001b[38;5;241;43m*\u001b[39;49m\u001b[43margs\u001b[49m\u001b[43m,\u001b[49m\u001b[43m \u001b[49m\u001b[38;5;241;43m*\u001b[39;49m\u001b[38;5;241;43m*\u001b[39;49m\u001b[43m{\u001b[49m\u001b[38;5;241;43m*\u001b[39;49m\u001b[38;5;241;43m*\u001b[39;49m\u001b[43mkwargs\u001b[49m\u001b[43m,\u001b[49m\u001b[43m \u001b[49m\u001b[38;5;124;43m\"\u001b[39;49m\u001b[38;5;124;43mfor_layout_only\u001b[39;49m\u001b[38;5;124;43m\"\u001b[39;49m\u001b[43m:\u001b[49m\u001b[43m \u001b[49m\u001b[38;5;28;43;01mTrue\u001b[39;49;00m\u001b[43m}\u001b[49m\u001b[43m)\u001b[49m\n\u001b[1;32m   1416\u001b[0m \u001b[38;5;28;01mexcept\u001b[39;00m \u001b[38;5;167;01mTypeError\u001b[39;00m:\n\u001b[1;32m   1417\u001b[0m     \u001b[38;5;28;01mreturn\u001b[39;00m obj\u001b[38;5;241m.\u001b[39mget_tightbbox(\u001b[38;5;241m*\u001b[39margs, \u001b[38;5;241m*\u001b[39m\u001b[38;5;241m*\u001b[39mkwargs)\n",
      "File \u001b[0;32m~/boh/lib/python3.10/site-packages/matplotlib/axis.py:1337\u001b[0m, in \u001b[0;36mAxis.get_tightbbox\u001b[0;34m(self, renderer, for_layout_only)\u001b[0m\n\u001b[1;32m   1334\u001b[0m     renderer \u001b[38;5;241m=\u001b[39m \u001b[38;5;28mself\u001b[39m\u001b[38;5;241m.\u001b[39mfigure\u001b[38;5;241m.\u001b[39m_get_renderer()\n\u001b[1;32m   1335\u001b[0m ticks_to_draw \u001b[38;5;241m=\u001b[39m \u001b[38;5;28mself\u001b[39m\u001b[38;5;241m.\u001b[39m_update_ticks()\n\u001b[0;32m-> 1337\u001b[0m \u001b[38;5;28;43mself\u001b[39;49m\u001b[38;5;241;43m.\u001b[39;49m\u001b[43m_update_label_position\u001b[49m\u001b[43m(\u001b[49m\u001b[43mrenderer\u001b[49m\u001b[43m)\u001b[49m\n\u001b[1;32m   1339\u001b[0m \u001b[38;5;66;03m# go back to just this axis's tick labels\u001b[39;00m\n\u001b[1;32m   1340\u001b[0m tlb1, tlb2 \u001b[38;5;241m=\u001b[39m \u001b[38;5;28mself\u001b[39m\u001b[38;5;241m.\u001b[39m_get_ticklabel_bboxes(ticks_to_draw, renderer)\n",
      "File \u001b[0;32m~/boh/lib/python3.10/site-packages/matplotlib/axis.py:2632\u001b[0m, in \u001b[0;36mYAxis._update_label_position\u001b[0;34m(self, renderer)\u001b[0m\n\u001b[1;32m   2630\u001b[0m \u001b[38;5;28;01mtry\u001b[39;00m:\n\u001b[1;32m   2631\u001b[0m     spine \u001b[38;5;241m=\u001b[39m \u001b[38;5;28mself\u001b[39m\u001b[38;5;241m.\u001b[39maxes\u001b[38;5;241m.\u001b[39mspines[\u001b[38;5;124m'\u001b[39m\u001b[38;5;124mright\u001b[39m\u001b[38;5;124m'\u001b[39m]\n\u001b[0;32m-> 2632\u001b[0m     spinebbox \u001b[38;5;241m=\u001b[39m \u001b[43mspine\u001b[49m\u001b[38;5;241;43m.\u001b[39;49m\u001b[43mget_window_extent\u001b[49m\u001b[43m(\u001b[49m\u001b[43m)\u001b[49m\n\u001b[1;32m   2633\u001b[0m \u001b[38;5;28;01mexcept\u001b[39;00m \u001b[38;5;167;01mKeyError\u001b[39;00m:\n\u001b[1;32m   2634\u001b[0m     \u001b[38;5;66;03m# use Axes if spine doesn't exist\u001b[39;00m\n\u001b[1;32m   2635\u001b[0m     spinebbox \u001b[38;5;241m=\u001b[39m \u001b[38;5;28mself\u001b[39m\u001b[38;5;241m.\u001b[39maxes\u001b[38;5;241m.\u001b[39mbbox\n",
      "File \u001b[0;32m~/boh/lib/python3.10/site-packages/matplotlib/spines.py:158\u001b[0m, in \u001b[0;36mSpine.get_window_extent\u001b[0;34m(self, renderer)\u001b[0m\n\u001b[1;32m    156\u001b[0m     \u001b[38;5;28;01mreturn\u001b[39;00m bb\n\u001b[1;32m    157\u001b[0m bboxes \u001b[38;5;241m=\u001b[39m [bb]\n\u001b[0;32m--> 158\u001b[0m drawn_ticks \u001b[38;5;241m=\u001b[39m \u001b[38;5;28;43mself\u001b[39;49m\u001b[38;5;241;43m.\u001b[39;49m\u001b[43maxis\u001b[49m\u001b[38;5;241;43m.\u001b[39;49m\u001b[43m_update_ticks\u001b[49m\u001b[43m(\u001b[49m\u001b[43m)\u001b[49m\n\u001b[1;32m    160\u001b[0m major_tick \u001b[38;5;241m=\u001b[39m \u001b[38;5;28mnext\u001b[39m(\u001b[38;5;28miter\u001b[39m({\u001b[38;5;241m*\u001b[39mdrawn_ticks} \u001b[38;5;241m&\u001b[39m {\u001b[38;5;241m*\u001b[39m\u001b[38;5;28mself\u001b[39m\u001b[38;5;241m.\u001b[39maxis\u001b[38;5;241m.\u001b[39mmajorTicks}), \u001b[38;5;28;01mNone\u001b[39;00m)\n\u001b[1;32m    161\u001b[0m minor_tick \u001b[38;5;241m=\u001b[39m \u001b[38;5;28mnext\u001b[39m(\u001b[38;5;28miter\u001b[39m({\u001b[38;5;241m*\u001b[39mdrawn_ticks} \u001b[38;5;241m&\u001b[39m {\u001b[38;5;241m*\u001b[39m\u001b[38;5;28mself\u001b[39m\u001b[38;5;241m.\u001b[39maxis\u001b[38;5;241m.\u001b[39mminorTicks}), \u001b[38;5;28;01mNone\u001b[39;00m)\n",
      "File \u001b[0;32m~/boh/lib/python3.10/site-packages/matplotlib/axis.py:1282\u001b[0m, in \u001b[0;36mAxis._update_ticks\u001b[0;34m(self)\u001b[0m\n\u001b[1;32m   1280\u001b[0m     tick\u001b[38;5;241m.\u001b[39mset_label1(label)\n\u001b[1;32m   1281\u001b[0m     tick\u001b[38;5;241m.\u001b[39mset_label2(label)\n\u001b[0;32m-> 1282\u001b[0m minor_locs \u001b[38;5;241m=\u001b[39m \u001b[38;5;28;43mself\u001b[39;49m\u001b[38;5;241;43m.\u001b[39;49m\u001b[43mget_minorticklocs\u001b[49m\u001b[43m(\u001b[49m\u001b[43m)\u001b[49m\n\u001b[1;32m   1283\u001b[0m minor_labels \u001b[38;5;241m=\u001b[39m \u001b[38;5;28mself\u001b[39m\u001b[38;5;241m.\u001b[39mminor\u001b[38;5;241m.\u001b[39mformatter\u001b[38;5;241m.\u001b[39mformat_ticks(minor_locs)\n\u001b[1;32m   1284\u001b[0m minor_ticks \u001b[38;5;241m=\u001b[39m \u001b[38;5;28mself\u001b[39m\u001b[38;5;241m.\u001b[39mget_minor_ticks(\u001b[38;5;28mlen\u001b[39m(minor_locs))\n",
      "File \u001b[0;32m~/boh/lib/python3.10/site-packages/matplotlib/axis.py:1503\u001b[0m, in \u001b[0;36mAxis.get_minorticklocs\u001b[0;34m(self)\u001b[0m\n\u001b[1;32m   1501\u001b[0m minor_locs \u001b[38;5;241m=\u001b[39m np\u001b[38;5;241m.\u001b[39masarray(\u001b[38;5;28mself\u001b[39m\u001b[38;5;241m.\u001b[39mminor\u001b[38;5;241m.\u001b[39mlocator())\n\u001b[1;32m   1502\u001b[0m \u001b[38;5;28;01mif\u001b[39;00m \u001b[38;5;28mself\u001b[39m\u001b[38;5;241m.\u001b[39mremove_overlapping_locs:\n\u001b[0;32m-> 1503\u001b[0m     major_locs \u001b[38;5;241m=\u001b[39m \u001b[38;5;28;43mself\u001b[39;49m\u001b[38;5;241;43m.\u001b[39;49m\u001b[43mmajor\u001b[49m\u001b[38;5;241;43m.\u001b[39;49m\u001b[43mlocator\u001b[49m\u001b[43m(\u001b[49m\u001b[43m)\u001b[49m\n\u001b[1;32m   1504\u001b[0m     transform \u001b[38;5;241m=\u001b[39m \u001b[38;5;28mself\u001b[39m\u001b[38;5;241m.\u001b[39m_scale\u001b[38;5;241m.\u001b[39mget_transform()\n\u001b[1;32m   1505\u001b[0m     tr_minor_locs \u001b[38;5;241m=\u001b[39m transform\u001b[38;5;241m.\u001b[39mtransform(minor_locs)\n",
      "File \u001b[0;32m~/boh/lib/python3.10/site-packages/matplotlib/ticker.py:2136\u001b[0m, in \u001b[0;36mMaxNLocator.__call__\u001b[0;34m(self)\u001b[0m\n\u001b[1;32m   2134\u001b[0m \u001b[38;5;28;01mdef\u001b[39;00m\u001b[38;5;250m \u001b[39m\u001b[38;5;21m__call__\u001b[39m(\u001b[38;5;28mself\u001b[39m):\n\u001b[1;32m   2135\u001b[0m     vmin, vmax \u001b[38;5;241m=\u001b[39m \u001b[38;5;28mself\u001b[39m\u001b[38;5;241m.\u001b[39maxis\u001b[38;5;241m.\u001b[39mget_view_interval()\n\u001b[0;32m-> 2136\u001b[0m     \u001b[38;5;28;01mreturn\u001b[39;00m \u001b[38;5;28;43mself\u001b[39;49m\u001b[38;5;241;43m.\u001b[39;49m\u001b[43mtick_values\u001b[49m\u001b[43m(\u001b[49m\u001b[43mvmin\u001b[49m\u001b[43m,\u001b[49m\u001b[43m \u001b[49m\u001b[43mvmax\u001b[49m\u001b[43m)\u001b[49m\n",
      "File \u001b[0;32m~/boh/lib/python3.10/site-packages/matplotlib/ticker.py:2144\u001b[0m, in \u001b[0;36mMaxNLocator.tick_values\u001b[0;34m(self, vmin, vmax)\u001b[0m\n\u001b[1;32m   2141\u001b[0m     vmin \u001b[38;5;241m=\u001b[39m \u001b[38;5;241m-\u001b[39mvmax\n\u001b[1;32m   2142\u001b[0m vmin, vmax \u001b[38;5;241m=\u001b[39m mtransforms\u001b[38;5;241m.\u001b[39mnonsingular(\n\u001b[1;32m   2143\u001b[0m     vmin, vmax, expander\u001b[38;5;241m=\u001b[39m\u001b[38;5;241m1e-13\u001b[39m, tiny\u001b[38;5;241m=\u001b[39m\u001b[38;5;241m1e-14\u001b[39m)\n\u001b[0;32m-> 2144\u001b[0m locs \u001b[38;5;241m=\u001b[39m \u001b[38;5;28;43mself\u001b[39;49m\u001b[38;5;241;43m.\u001b[39;49m\u001b[43m_raw_ticks\u001b[49m\u001b[43m(\u001b[49m\u001b[43mvmin\u001b[49m\u001b[43m,\u001b[49m\u001b[43m \u001b[49m\u001b[43mvmax\u001b[49m\u001b[43m)\u001b[49m\n\u001b[1;32m   2146\u001b[0m prune \u001b[38;5;241m=\u001b[39m \u001b[38;5;28mself\u001b[39m\u001b[38;5;241m.\u001b[39m_prune\n\u001b[1;32m   2147\u001b[0m \u001b[38;5;28;01mif\u001b[39;00m prune \u001b[38;5;241m==\u001b[39m \u001b[38;5;124m'\u001b[39m\u001b[38;5;124mlower\u001b[39m\u001b[38;5;124m'\u001b[39m:\n",
      "File \u001b[0;32m~/boh/lib/python3.10/site-packages/matplotlib/ticker.py:2124\u001b[0m, in \u001b[0;36mMaxNLocator._raw_ticks\u001b[0;34m(self, vmin, vmax)\u001b[0m\n\u001b[1;32m   2118\u001b[0m best_vmin \u001b[38;5;241m=\u001b[39m (_vmin \u001b[38;5;241m/\u001b[39m\u001b[38;5;241m/\u001b[39m step) \u001b[38;5;241m*\u001b[39m step\n\u001b[1;32m   2120\u001b[0m \u001b[38;5;66;03m# Find tick locations spanning the vmin-vmax range, taking into\u001b[39;00m\n\u001b[1;32m   2121\u001b[0m \u001b[38;5;66;03m# account degradation of precision when there is a large offset.\u001b[39;00m\n\u001b[1;32m   2122\u001b[0m \u001b[38;5;66;03m# The edge ticks beyond vmin and/or vmax are needed for the\u001b[39;00m\n\u001b[1;32m   2123\u001b[0m \u001b[38;5;66;03m# \"round_numbers\" autolimit mode.\u001b[39;00m\n\u001b[0;32m-> 2124\u001b[0m edge \u001b[38;5;241m=\u001b[39m \u001b[43m_Edge_integer\u001b[49m\u001b[43m(\u001b[49m\u001b[43mstep\u001b[49m\u001b[43m,\u001b[49m\u001b[43m \u001b[49m\u001b[43moffset\u001b[49m\u001b[43m)\u001b[49m\n\u001b[1;32m   2125\u001b[0m low \u001b[38;5;241m=\u001b[39m edge\u001b[38;5;241m.\u001b[39mle(_vmin \u001b[38;5;241m-\u001b[39m best_vmin)\n\u001b[1;32m   2126\u001b[0m high \u001b[38;5;241m=\u001b[39m edge\u001b[38;5;241m.\u001b[39mge(_vmax \u001b[38;5;241m-\u001b[39m best_vmin)\n",
      "File \u001b[0;32m~/boh/lib/python3.10/site-packages/matplotlib/ticker.py:1927\u001b[0m, in \u001b[0;36m_Edge_integer.__init__\u001b[0;34m(self, step, offset)\u001b[0m\n\u001b[1;32m   1917\u001b[0m \u001b[38;5;28;01mdef\u001b[39;00m\u001b[38;5;250m \u001b[39m\u001b[38;5;21m__init__\u001b[39m(\u001b[38;5;28mself\u001b[39m, step, offset):\n\u001b[1;32m   1918\u001b[0m \u001b[38;5;250m    \u001b[39m\u001b[38;5;124;03m\"\"\"\u001b[39;00m\n\u001b[1;32m   1919\u001b[0m \u001b[38;5;124;03m    Parameters\u001b[39;00m\n\u001b[1;32m   1920\u001b[0m \u001b[38;5;124;03m    ----------\u001b[39;00m\n\u001b[0;32m   (...)\u001b[0m\n\u001b[1;32m   1925\u001b[0m \u001b[38;5;124;03m        locations.\u001b[39;00m\n\u001b[1;32m   1926\u001b[0m \u001b[38;5;124;03m    \"\"\"\u001b[39;00m\n\u001b[0;32m-> 1927\u001b[0m     \u001b[38;5;28;01mif\u001b[39;00m step \u001b[38;5;241m<\u001b[39m\u001b[38;5;241m=\u001b[39m \u001b[38;5;241m0\u001b[39m:\n\u001b[1;32m   1928\u001b[0m         \u001b[38;5;28;01mraise\u001b[39;00m \u001b[38;5;167;01mValueError\u001b[39;00m(\u001b[38;5;124m\"\u001b[39m\u001b[38;5;124m'\u001b[39m\u001b[38;5;124mstep\u001b[39m\u001b[38;5;124m'\u001b[39m\u001b[38;5;124m must be positive\u001b[39m\u001b[38;5;124m\"\u001b[39m)\n\u001b[1;32m   1929\u001b[0m     \u001b[38;5;28mself\u001b[39m\u001b[38;5;241m.\u001b[39mstep \u001b[38;5;241m=\u001b[39m step\n",
      "\u001b[0;31mKeyboardInterrupt\u001b[0m: "
     ]
    },
    {
     "data": {
      "image/png": "[encoded data removed]",
      "text/plain": [
       "<Figure size 1200x800 with 7 Axes>"
      ]
     },
     "metadata": {},
     "output_type": "display_data"
    }
   ],
   "source": [
    "compute_test(args, model, num_workers, viz_k=20, k_shot='8')"
   ]
  },
  {
   "cell_type": "code",
   "execution_count": 182,
   "metadata": {},
   "outputs": [],
   "source": [
    "torch.save(\n",
    "    model.state_dict(),\n",
    "    os.path.join(\n",
    "        args.config.save_root,\n",
    "        str(args.k_shot),\n",
    "        f\"full_dataset_whole_model.pth\"\n",
    "    )\n",
    ")"
   ]
  },
  {
   "cell_type": "markdown",
   "metadata": {},
   "source": [
    "### BEiT"
   ]
  },
  {
   "cell_type": "code",
   "execution_count": null,
   "metadata": {},
   "outputs": [],
   "source": [
    "from transformers import BeitModel, SwinModel, AutoModel\n",
    "enc = BeitModel.from_pretrained(\"microsoft/beit-base-patch16-224-pt22k-ft22k\")\n",
    "# BEiT encoder's weights from ImageNet-22k\n",
    "enc\n",
    "from transformers import BeitConfig, UperNetConfig, UperNetForSemanticSegmentation\n",
    "\n",
    "beit_backbone = BeitConfig(\n",
    "    output_hidden_states=True,\n",
    "    out_indices=[2, 5, 8, 11]   # can be tweaked\n",
    ")\n",
    "cfg = UperNetConfig(backbone_config=beit_backbone, num_labels=2)\n",
    "model = UperNetForSemanticSegmentation(cfg)\n",
    "# decoder's weights RANDOMLY INITIALIZED\n",
    "model"
   ]
  }
 ],
 "metadata": {
  "accelerator": "GPU",
  "colab": {
   "gpuType": "L4",
   "machine_shape": "hm",
   "provenance": []
  },
  "kernelspec": {
   "display_name": "boh",
   "language": "python",
   "name": "python3"
  },
  "language_info": {
   "codemirror_mode": {
    "name": "ipython",
    "version": 3
   },
   "file_extension": ".py",
   "mimetype": "text/x-python",
   "name": "python",
   "nbconvert_exporter": "python",
   "pygments_lexer": "ipython3",
   "version": "3.10.15"
  },
  "widgets": {
   "application/vnd.jupyter.widget-state+json": {
    "040ccd7558814bd083976baf7bb4682e": {
     "model_module": "@jupyter-widgets/base",
     "model_module_version": "1.2.0",
     "model_name": "LayoutModel",
     "state": {
      "_model_module": "@jupyter-widgets/base",
      "_model_module_version": "1.2.0",
      "_model_name": "LayoutModel",
      "_view_count": null,
      "_view_module": "@jupyter-widgets/base",
      "_view_module_version": "1.2.0",
      "_view_name": "LayoutView",
      "align_content": null,
      "align_items": null,
      "align_self": null,
      "border": null,
      "bottom": null,
      "display": null,
      "flex": null,
      "flex_flow": null,
      "grid_area": null,
      "grid_auto_columns": null,
      "grid_auto_flow": null,
      "grid_auto_rows": null,
      "grid_column": null,
      "grid_gap": null,
      "grid_row": null,
      "grid_template_areas": null,
      "grid_template_columns": null,
      "grid_template_rows": null,
      "height": null,
      "justify_content": null,
      "justify_items": null,
      "left": null,
      "margin": null,
      "max_height": null,
      "max_width": null,
      "min_height": null,
      "min_width": null,
      "object_fit": null,
      "object_position": null,
      "order": null,
      "overflow": null,
      "overflow_x": null,
      "overflow_y": null,
      "padding": null,
      "right": null,
      "top": null,
      "visibility": null,
      "width": null
     }
    },
    "146b1638ff2143fcb044aa2badcadb09": {
     "model_module": "@jupyter-widgets/base",
     "model_module_version": "1.2.0",
     "model_name": "LayoutModel",
     "state": {
      "_model_module": "@jupyter-widgets/base",
      "_model_module_version": "1.2.0",
      "_model_name": "LayoutModel",
      "_view_count": null,
      "_view_module": "@jupyter-widgets/base",
      "_view_module_version": "1.2.0",
      "_view_name": "LayoutView",
      "align_content": null,
      "align_items": null,
      "align_self": null,
      "border": null,
      "bottom": null,
      "display": null,
      "flex": null,
      "flex_flow": null,
      "grid_area": null,
      "grid_auto_columns": null,
      "grid_auto_flow": null,
      "grid_auto_rows": null,
      "grid_column": null,
      "grid_gap": null,
      "grid_row": null,
      "grid_template_areas": null,
      "grid_template_columns": null,
      "grid_template_rows": null,
      "height": null,
      "justify_content": null,
      "justify_items": null,
      "left": null,
      "margin": null,
      "max_height": null,
      "max_width": null,
      "min_height": null,
      "min_width": null,
      "object_fit": null,
      "object_position": null,
      "order": null,
      "overflow": null,
      "overflow_x": null,
      "overflow_y": null,
      "padding": null,
      "right": null,
      "top": null,
      "visibility": null,
      "width": null
     }
    },
    "1683fa0d0f6b473d89e666e64fb0ef3f": {
     "model_module": "@jupyter-widgets/controls",
     "model_module_version": "1.5.0",
     "model_name": "DescriptionStyleModel",
     "state": {
      "_model_module": "@jupyter-widgets/controls",
      "_model_module_version": "1.5.0",
      "_model_name": "DescriptionStyleModel",
      "_view_count": null,
      "_view_module": "@jupyter-widgets/base",
      "_view_module_version": "1.2.0",
      "_view_name": "StyleView",
      "description_width": ""
     }
    },
    "1692729529894e3aa6cd65c08866466d": {
     "model_module": "@jupyter-widgets/base",
     "model_module_version": "1.2.0",
     "model_name": "LayoutModel",
     "state": {
      "_model_module": "@jupyter-widgets/base",
      "_model_module_version": "1.2.0",
      "_model_name": "LayoutModel",
      "_view_count": null,
      "_view_module": "@jupyter-widgets/base",
      "_view_module_version": "1.2.0",
      "_view_name": "LayoutView",
      "align_content": null,
      "align_items": null,
      "align_self": null,
      "border": null,
      "bottom": null,
      "display": null,
      "flex": null,
      "flex_flow": null,
      "grid_area": null,
      "grid_auto_columns": null,
      "grid_auto_flow": null,
      "grid_auto_rows": null,
      "grid_column": null,
      "grid_gap": null,
      "grid_row": null,
      "grid_template_areas": null,
      "grid_template_columns": null,
      "grid_template_rows": null,
      "height": null,
      "justify_content": null,
      "justify_items": null,
      "left": null,
      "margin": null,
      "max_height": null,
      "max_width": null,
      "min_height": null,
      "min_width": null,
      "object_fit": null,
      "object_position": null,
      "order": null,
      "overflow": null,
      "overflow_x": null,
      "overflow_y": null,
      "padding": null,
      "right": null,
      "top": null,
      "visibility": null,
      "width": null
     }
    },
    "20f5a85dbbe64aaeac950a86d658721c": {
     "model_module": "@jupyter-widgets/base",
     "model_module_version": "1.2.0",
     "model_name": "LayoutModel",
     "state": {
      "_model_module": "@jupyter-widgets/base",
      "_model_module_version": "1.2.0",
      "_model_name": "LayoutModel",
      "_view_count": null,
      "_view_module": "@jupyter-widgets/base",
      "_view_module_version": "1.2.0",
      "_view_name": "LayoutView",
      "align_content": null,
      "align_items": null,
      "align_self": null,
      "border": null,
      "bottom": null,
      "display": null,
      "flex": null,
      "flex_flow": null,
      "grid_area": null,
      "grid_auto_columns": null,
      "grid_auto_flow": null,
      "grid_auto_rows": null,
      "grid_column": null,
      "grid_gap": null,
      "grid_row": null,
      "grid_template_areas": null,
      "grid_template_columns": null,
      "grid_template_rows": null,
      "height": null,
      "justify_content": null,
      "justify_items": null,
      "left": null,
      "margin": null,
      "max_height": null,
      "max_width": null,
      "min_height": null,
      "min_width": null,
      "object_fit": null,
      "object_position": null,
      "order": null,
      "overflow": null,
      "overflow_x": null,
      "overflow_y": null,
      "padding": null,
      "right": null,
      "top": null,
      "visibility": null,
      "width": "20px"
     }
    },
    "2a016d51cd1748158215d6b2cb8ea07c": {
     "model_module": "@jupyter-widgets/controls",
     "model_module_version": "1.5.0",
     "model_name": "HTMLModel",
     "state": {
      "_dom_classes": [],
      "_model_module": "@jupyter-widgets/controls",
      "_model_module_version": "1.5.0",
      "_model_name": "HTMLModel",
      "_view_count": null,
      "_view_module": "@jupyter-widgets/controls",
      "_view_module_version": "1.5.0",
      "_view_name": "HTMLView",
      "description": "",
      "description_tooltip": null,
      "layout": "IPY_MODEL_e09fecd4e2694488be3b5a923519c09e",
      "placeholder": "​",
      "style": "IPY_MODEL_f58d335148ae497a8dff728e39b2cd6a",
      "value": "pytorch_model.bin: 100%"
     }
    },
    "36022fc5b0d64ac48102706836f938bc": {
     "model_module": "@jupyter-widgets/base",
     "model_module_version": "1.2.0",
     "model_name": "LayoutModel",
     "state": {
      "_model_module": "@jupyter-widgets/base",
      "_model_module_version": "1.2.0",
      "_model_name": "LayoutModel",
      "_view_count": null,
      "_view_module": "@jupyter-widgets/base",
      "_view_module_version": "1.2.0",
      "_view_name": "LayoutView",
      "align_content": null,
      "align_items": null,
      "align_self": null,
      "border": null,
      "bottom": null,
      "display": null,
      "flex": null,
      "flex_flow": null,
      "grid_area": null,
      "grid_auto_columns": null,
      "grid_auto_flow": null,
      "grid_auto_rows": null,
      "grid_column": null,
      "grid_gap": null,
      "grid_row": null,
      "grid_template_areas": null,
      "grid_template_columns": null,
      "grid_template_rows": null,
      "height": null,
      "justify_content": null,
      "justify_items": null,
      "left": null,
      "margin": null,
      "max_height": null,
      "max_width": null,
      "min_height": null,
      "min_width": null,
      "object_fit": null,
      "object_position": null,
      "order": null,
      "overflow": null,
      "overflow_x": null,
      "overflow_y": null,
      "padding": null,
      "right": null,
      "top": null,
      "visibility": null,
      "width": null
     }
    },
    "36aade5c44f843f3874a55859727c86a": {
     "model_module": "@jupyter-widgets/controls",
     "model_module_version": "1.5.0",
     "model_name": "DescriptionStyleModel",
     "state": {
      "_model_module": "@jupyter-widgets/controls",
      "_model_module_version": "1.5.0",
      "_model_name": "DescriptionStyleModel",
      "_view_count": null,
      "_view_module": "@jupyter-widgets/base",
      "_view_module_version": "1.2.0",
      "_view_name": "StyleView",
      "description_width": ""
     }
    },
    "645e6e5f80044ab29a1dc8e5e7178f97": {
     "model_module": "@jupyter-widgets/controls",
     "model_module_version": "1.5.0",
     "model_name": "FloatProgressModel",
     "state": {
      "_dom_classes": [],
      "_model_module": "@jupyter-widgets/controls",
      "_model_module_version": "1.5.0",
      "_model_name": "FloatProgressModel",
      "_view_count": null,
      "_view_module": "@jupyter-widgets/controls",
      "_view_module_version": "1.5.0",
      "_view_name": "ProgressView",
      "bar_style": "success",
      "description": "",
      "description_tooltip": null,
      "layout": "IPY_MODEL_20f5a85dbbe64aaeac950a86d658721c",
      "max": 1,
      "min": 0,
      "orientation": "horizontal",
      "style": "IPY_MODEL_87bc3e848700473f904922f1e5378a03",
      "value": 1
     }
    },
    "678169a65a9948899da67098f9593682": {
     "model_module": "@jupyter-widgets/base",
     "model_module_version": "1.2.0",
     "model_name": "LayoutModel",
     "state": {
      "_model_module": "@jupyter-widgets/base",
      "_model_module_version": "1.2.0",
      "_model_name": "LayoutModel",
      "_view_count": null,
      "_view_module": "@jupyter-widgets/base",
      "_view_module_version": "1.2.0",
      "_view_name": "LayoutView",
      "align_content": null,
      "align_items": null,
      "align_self": null,
      "border": null,
      "bottom": null,
      "display": null,
      "flex": null,
      "flex_flow": null,
      "grid_area": null,
      "grid_auto_columns": null,
      "grid_auto_flow": null,
      "grid_auto_rows": null,
      "grid_column": null,
      "grid_gap": null,
      "grid_row": null,
      "grid_template_areas": null,
      "grid_template_columns": null,
      "grid_template_rows": null,
      "height": null,
      "justify_content": null,
      "justify_items": null,
      "left": null,
      "margin": null,
      "max_height": null,
      "max_width": null,
      "min_height": null,
      "min_width": null,
      "object_fit": null,
      "object_position": null,
      "order": null,
      "overflow": null,
      "overflow_x": null,
      "overflow_y": null,
      "padding": null,
      "right": null,
      "top": null,
      "visibility": null,
      "width": null
     }
    },
    "68de5b0a46cf40b4b53284357ad37bc5": {
     "model_module": "@jupyter-widgets/base",
     "model_module_version": "1.2.0",
     "model_name": "LayoutModel",
     "state": {
      "_model_module": "@jupyter-widgets/base",
      "_model_module_version": "1.2.0",
      "_model_name": "LayoutModel",
      "_view_count": null,
      "_view_module": "@jupyter-widgets/base",
      "_view_module_version": "1.2.0",
      "_view_name": "LayoutView",
      "align_content": null,
      "align_items": null,
      "align_self": null,
      "border": null,
      "bottom": null,
      "display": null,
      "flex": null,
      "flex_flow": null,
      "grid_area": null,
      "grid_auto_columns": null,
      "grid_auto_flow": null,
      "grid_auto_rows": null,
      "grid_column": null,
      "grid_gap": null,
      "grid_row": null,
      "grid_template_areas": null,
      "grid_template_columns": null,
      "grid_template_rows": null,
      "height": null,
      "justify_content": null,
      "justify_items": null,
      "left": null,
      "margin": null,
      "max_height": null,
      "max_width": null,
      "min_height": null,
      "min_width": null,
      "object_fit": null,
      "object_position": null,
      "order": null,
      "overflow": null,
      "overflow_x": null,
      "overflow_y": null,
      "padding": null,
      "right": null,
      "top": null,
      "visibility": null,
      "width": null
     }
    },
    "69a2f32e8217479086852caebd45832d": {
     "model_module": "@jupyter-widgets/controls",
     "model_module_version": "1.5.0",
     "model_name": "HTMLModel",
     "state": {
      "_dom_classes": [],
      "_model_module": "@jupyter-widgets/controls",
      "_model_module_version": "1.5.0",
      "_model_name": "HTMLModel",
      "_view_count": null,
      "_view_module": "@jupyter-widgets/controls",
      "_view_module_version": "1.5.0",
      "_view_name": "HTMLView",
      "description": "",
      "description_tooltip": null,
      "layout": "IPY_MODEL_70711cbfefc94d7cb5ec3de49500fe25",
      "placeholder": "​",
      "style": "IPY_MODEL_6dadfa5096bf4a58ae5aaad4e279865b",
      "value": "config.json: "
     }
    },
    "6dadfa5096bf4a58ae5aaad4e279865b": {
     "model_module": "@jupyter-widgets/controls",
     "model_module_version": "1.5.0",
     "model_name": "DescriptionStyleModel",
     "state": {
      "_model_module": "@jupyter-widgets/controls",
      "_model_module_version": "1.5.0",
      "_model_name": "DescriptionStyleModel",
      "_view_count": null,
      "_view_module": "@jupyter-widgets/base",
      "_view_module_version": "1.2.0",
      "_view_name": "StyleView",
      "description_width": ""
     }
    },
    "6ff7cb1c0b6a4106a485ce74f4499fc2": {
     "model_module": "@jupyter-widgets/controls",
     "model_module_version": "1.5.0",
     "model_name": "DescriptionStyleModel",
     "state": {
      "_model_module": "@jupyter-widgets/controls",
      "_model_module_version": "1.5.0",
      "_model_name": "DescriptionStyleModel",
      "_view_count": null,
      "_view_module": "@jupyter-widgets/base",
      "_view_module_version": "1.2.0",
      "_view_name": "StyleView",
      "description_width": ""
     }
    },
    "70711cbfefc94d7cb5ec3de49500fe25": {
     "model_module": "@jupyter-widgets/base",
     "model_module_version": "1.2.0",
     "model_name": "LayoutModel",
     "state": {
      "_model_module": "@jupyter-widgets/base",
      "_model_module_version": "1.2.0",
      "_model_name": "LayoutModel",
      "_view_count": null,
      "_view_module": "@jupyter-widgets/base",
      "_view_module_version": "1.2.0",
      "_view_name": "LayoutView",
      "align_content": null,
      "align_items": null,
      "align_self": null,
      "border": null,
      "bottom": null,
      "display": null,
      "flex": null,
      "flex_flow": null,
      "grid_area": null,
      "grid_auto_columns": null,
      "grid_auto_flow": null,
      "grid_auto_rows": null,
      "grid_column": null,
      "grid_gap": null,
      "grid_row": null,
      "grid_template_areas": null,
      "grid_template_columns": null,
      "grid_template_rows": null,
      "height": null,
      "justify_content": null,
      "justify_items": null,
      "left": null,
      "margin": null,
      "max_height": null,
      "max_width": null,
      "min_height": null,
      "min_width": null,
      "object_fit": null,
      "object_position": null,
      "order": null,
      "overflow": null,
      "overflow_x": null,
      "overflow_y": null,
      "padding": null,
      "right": null,
      "top": null,
      "visibility": null,
      "width": null
     }
    },
    "708a0444f7784dde87b0ba9c89cb6783": {
     "model_module": "@jupyter-widgets/base",
     "model_module_version": "1.2.0",
     "model_name": "LayoutModel",
     "state": {
      "_model_module": "@jupyter-widgets/base",
      "_model_module_version": "1.2.0",
      "_model_name": "LayoutModel",
      "_view_count": null,
      "_view_module": "@jupyter-widgets/base",
      "_view_module_version": "1.2.0",
      "_view_name": "LayoutView",
      "align_content": null,
      "align_items": null,
      "align_self": null,
      "border": null,
      "bottom": null,
      "display": null,
      "flex": null,
      "flex_flow": null,
      "grid_area": null,
      "grid_auto_columns": null,
      "grid_auto_flow": null,
      "grid_auto_rows": null,
      "grid_column": null,
      "grid_gap": null,
      "grid_row": null,
      "grid_template_areas": null,
      "grid_template_columns": null,
      "grid_template_rows": null,
      "height": null,
      "justify_content": null,
      "justify_items": null,
      "left": null,
      "margin": null,
      "max_height": null,
      "max_width": null,
      "min_height": null,
      "min_width": null,
      "object_fit": null,
      "object_position": null,
      "order": null,
      "overflow": null,
      "overflow_x": null,
      "overflow_y": null,
      "padding": null,
      "right": null,
      "top": null,
      "visibility": null,
      "width": null
     }
    },
    "7d923d4ac4fb42a2b8f3ce3305d14080": {
     "model_module": "@jupyter-widgets/controls",
     "model_module_version": "1.5.0",
     "model_name": "ProgressStyleModel",
     "state": {
      "_model_module": "@jupyter-widgets/controls",
      "_model_module_version": "1.5.0",
      "_model_name": "ProgressStyleModel",
      "_view_count": null,
      "_view_module": "@jupyter-widgets/base",
      "_view_module_version": "1.2.0",
      "_view_name": "StyleView",
      "bar_color": null,
      "description_width": ""
     }
    },
    "85339a1cb15846779f68ef255fd681fd": {
     "model_module": "@jupyter-widgets/controls",
     "model_module_version": "1.5.0",
     "model_name": "DescriptionStyleModel",
     "state": {
      "_model_module": "@jupyter-widgets/controls",
      "_model_module_version": "1.5.0",
      "_model_name": "DescriptionStyleModel",
      "_view_count": null,
      "_view_module": "@jupyter-widgets/base",
      "_view_module_version": "1.2.0",
      "_view_name": "StyleView",
      "description_width": ""
     }
    },
    "87bc3e848700473f904922f1e5378a03": {
     "model_module": "@jupyter-widgets/controls",
     "model_module_version": "1.5.0",
     "model_name": "ProgressStyleModel",
     "state": {
      "_model_module": "@jupyter-widgets/controls",
      "_model_module_version": "1.5.0",
      "_model_name": "ProgressStyleModel",
      "_view_count": null,
      "_view_module": "@jupyter-widgets/base",
      "_view_module_version": "1.2.0",
      "_view_name": "StyleView",
      "bar_color": null,
      "description_width": ""
     }
    },
    "92acfe0b29ee4b359d15cb46de3c8de5": {
     "model_module": "@jupyter-widgets/controls",
     "model_module_version": "1.5.0",
     "model_name": "HBoxModel",
     "state": {
      "_dom_classes": [],
      "_model_module": "@jupyter-widgets/controls",
      "_model_module_version": "1.5.0",
      "_model_name": "HBoxModel",
      "_view_count": null,
      "_view_module": "@jupyter-widgets/controls",
      "_view_module_version": "1.5.0",
      "_view_name": "HBoxView",
      "box_style": "",
      "children": [
       "IPY_MODEL_2a016d51cd1748158215d6b2cb8ea07c",
       "IPY_MODEL_c75cc5df707542838099e63c951455a3",
       "IPY_MODEL_f2869d7ecbaa455281597a6ac61dd23a"
      ],
      "layout": "IPY_MODEL_146b1638ff2143fcb044aa2badcadb09"
     }
    },
    "ab65b5156e6a4c12b1c1895abe95ccf9": {
     "model_module": "@jupyter-widgets/controls",
     "model_module_version": "1.5.0",
     "model_name": "ProgressStyleModel",
     "state": {
      "_model_module": "@jupyter-widgets/controls",
      "_model_module_version": "1.5.0",
      "_model_name": "ProgressStyleModel",
      "_view_count": null,
      "_view_module": "@jupyter-widgets/base",
      "_view_module_version": "1.2.0",
      "_view_name": "StyleView",
      "bar_color": null,
      "description_width": ""
     }
    },
    "aeb9f05051274942abfdb5e71b94af2f": {
     "model_module": "@jupyter-widgets/controls",
     "model_module_version": "1.5.0",
     "model_name": "FloatProgressModel",
     "state": {
      "_dom_classes": [],
      "_model_module": "@jupyter-widgets/controls",
      "_model_module_version": "1.5.0",
      "_model_name": "FloatProgressModel",
      "_view_count": null,
      "_view_module": "@jupyter-widgets/controls",
      "_view_module_version": "1.5.0",
      "_view_name": "ProgressView",
      "bar_style": "success",
      "description": "",
      "description_tooltip": null,
      "layout": "IPY_MODEL_678169a65a9948899da67098f9593682",
      "max": 1,
      "min": 0,
      "orientation": "horizontal",
      "style": "IPY_MODEL_7d923d4ac4fb42a2b8f3ce3305d14080",
      "value": 1
     }
    },
    "b497dfcd292a4f219dcb94e13b19de7c": {
     "model_module": "@jupyter-widgets/base",
     "model_module_version": "1.2.0",
     "model_name": "LayoutModel",
     "state": {
      "_model_module": "@jupyter-widgets/base",
      "_model_module_version": "1.2.0",
      "_model_name": "LayoutModel",
      "_view_count": null,
      "_view_module": "@jupyter-widgets/base",
      "_view_module_version": "1.2.0",
      "_view_name": "LayoutView",
      "align_content": null,
      "align_items": null,
      "align_self": null,
      "border": null,
      "bottom": null,
      "display": null,
      "flex": null,
      "flex_flow": null,
      "grid_area": null,
      "grid_auto_columns": null,
      "grid_auto_flow": null,
      "grid_auto_rows": null,
      "grid_column": null,
      "grid_gap": null,
      "grid_row": null,
      "grid_template_areas": null,
      "grid_template_columns": null,
      "grid_template_rows": null,
      "height": null,
      "justify_content": null,
      "justify_items": null,
      "left": null,
      "margin": null,
      "max_height": null,
      "max_width": null,
      "min_height": null,
      "min_width": null,
      "object_fit": null,
      "object_position": null,
      "order": null,
      "overflow": null,
      "overflow_x": null,
      "overflow_y": null,
      "padding": null,
      "right": null,
      "top": null,
      "visibility": null,
      "width": null
     }
    },
    "b722f54e151a46ba84bb940bdc5ee906": {
     "model_module": "@jupyter-widgets/controls",
     "model_module_version": "1.5.0",
     "model_name": "HBoxModel",
     "state": {
      "_dom_classes": [],
      "_model_module": "@jupyter-widgets/controls",
      "_model_module_version": "1.5.0",
      "_model_name": "HBoxModel",
      "_view_count": null,
      "_view_module": "@jupyter-widgets/controls",
      "_view_module_version": "1.5.0",
      "_view_name": "HBoxView",
      "box_style": "",
      "children": [
       "IPY_MODEL_69a2f32e8217479086852caebd45832d",
       "IPY_MODEL_645e6e5f80044ab29a1dc8e5e7178f97",
       "IPY_MODEL_cece7e49aeb049a0ad83fdc04e20ca43"
      ],
      "layout": "IPY_MODEL_040ccd7558814bd083976baf7bb4682e"
     }
    },
    "bd31c86f61a649c894cb8ca2de5e1112": {
     "model_module": "@jupyter-widgets/controls",
     "model_module_version": "1.5.0",
     "model_name": "HTMLModel",
     "state": {
      "_dom_classes": [],
      "_model_module": "@jupyter-widgets/controls",
      "_model_module_version": "1.5.0",
      "_model_name": "HTMLModel",
      "_view_count": null,
      "_view_module": "@jupyter-widgets/controls",
      "_view_module_version": "1.5.0",
      "_view_name": "HTMLView",
      "description": "",
      "description_tooltip": null,
      "layout": "IPY_MODEL_68de5b0a46cf40b4b53284357ad37bc5",
      "placeholder": "​",
      "style": "IPY_MODEL_85339a1cb15846779f68ef255fd681fd",
      "value": "Fetching 1 files: 100%"
     }
    },
    "c75cc5df707542838099e63c951455a3": {
     "model_module": "@jupyter-widgets/controls",
     "model_module_version": "1.5.0",
     "model_name": "FloatProgressModel",
     "state": {
      "_dom_classes": [],
      "_model_module": "@jupyter-widgets/controls",
      "_model_module_version": "1.5.0",
      "_model_name": "FloatProgressModel",
      "_view_count": null,
      "_view_module": "@jupyter-widgets/controls",
      "_view_module_version": "1.5.0",
      "_view_name": "ProgressView",
      "bar_style": "success",
      "description": "",
      "description_tooltip": null,
      "layout": "IPY_MODEL_1692729529894e3aa6cd65c08866466d",
      "max": 414046827,
      "min": 0,
      "orientation": "horizontal",
      "style": "IPY_MODEL_ab65b5156e6a4c12b1c1895abe95ccf9",
      "value": 414046827
     }
    },
    "cece7e49aeb049a0ad83fdc04e20ca43": {
     "model_module": "@jupyter-widgets/controls",
     "model_module_version": "1.5.0",
     "model_name": "HTMLModel",
     "state": {
      "_dom_classes": [],
      "_model_module": "@jupyter-widgets/controls",
      "_model_module_version": "1.5.0",
      "_model_name": "HTMLModel",
      "_view_count": null,
      "_view_module": "@jupyter-widgets/controls",
      "_view_module_version": "1.5.0",
      "_view_name": "HTMLView",
      "description": "",
      "description_tooltip": null,
      "layout": "IPY_MODEL_b497dfcd292a4f219dcb94e13b19de7c",
      "placeholder": "​",
      "style": "IPY_MODEL_36aade5c44f843f3874a55859727c86a",
      "value": " 1.67M/? [00:00&lt;00:00, 23.0MB/s]"
     }
    },
    "e09fecd4e2694488be3b5a923519c09e": {
     "model_module": "@jupyter-widgets/base",
     "model_module_version": "1.2.0",
     "model_name": "LayoutModel",
     "state": {
      "_model_module": "@jupyter-widgets/base",
      "_model_module_version": "1.2.0",
      "_model_name": "LayoutModel",
      "_view_count": null,
      "_view_module": "@jupyter-widgets/base",
      "_view_module_version": "1.2.0",
      "_view_name": "LayoutView",
      "align_content": null,
      "align_items": null,
      "align_self": null,
      "border": null,
      "bottom": null,
      "display": null,
      "flex": null,
      "flex_flow": null,
      "grid_area": null,
      "grid_auto_columns": null,
      "grid_auto_flow": null,
      "grid_auto_rows": null,
      "grid_column": null,
      "grid_gap": null,
      "grid_row": null,
      "grid_template_areas": null,
      "grid_template_columns": null,
      "grid_template_rows": null,
      "height": null,
      "justify_content": null,
      "justify_items": null,
      "left": null,
      "margin": null,
      "max_height": null,
      "max_width": null,
      "min_height": null,
      "min_width": null,
      "object_fit": null,
      "object_position": null,
      "order": null,
      "overflow": null,
      "overflow_x": null,
      "overflow_y": null,
      "padding": null,
      "right": null,
      "top": null,
      "visibility": null,
      "width": null
     }
    },
    "e22a2c933f054754972eca82f130e5fe": {
     "model_module": "@jupyter-widgets/controls",
     "model_module_version": "1.5.0",
     "model_name": "HBoxModel",
     "state": {
      "_dom_classes": [],
      "_model_module": "@jupyter-widgets/controls",
      "_model_module_version": "1.5.0",
      "_model_name": "HBoxModel",
      "_view_count": null,
      "_view_module": "@jupyter-widgets/controls",
      "_view_module_version": "1.5.0",
      "_view_name": "HBoxView",
      "box_style": "",
      "children": [
       "IPY_MODEL_bd31c86f61a649c894cb8ca2de5e1112",
       "IPY_MODEL_aeb9f05051274942abfdb5e71b94af2f",
       "IPY_MODEL_fa11da05ead3412ca325cdc25ddd4b5d"
      ],
      "layout": "IPY_MODEL_fe65c58b74ba4643a406543a5421406e"
     }
    },
    "f2869d7ecbaa455281597a6ac61dd23a": {
     "model_module": "@jupyter-widgets/controls",
     "model_module_version": "1.5.0",
     "model_name": "HTMLModel",
     "state": {
      "_dom_classes": [],
      "_model_module": "@jupyter-widgets/controls",
      "_model_module_version": "1.5.0",
      "_model_name": "HTMLModel",
      "_view_count": null,
      "_view_module": "@jupyter-widgets/controls",
      "_view_module_version": "1.5.0",
      "_view_name": "HTMLView",
      "description": "",
      "description_tooltip": null,
      "layout": "IPY_MODEL_36022fc5b0d64ac48102706836f938bc",
      "placeholder": "​",
      "style": "IPY_MODEL_1683fa0d0f6b473d89e666e64fb0ef3f",
      "value": " 414M/414M [00:02&lt;00:00, 301MB/s]"
     }
    },
    "f58d335148ae497a8dff728e39b2cd6a": {
     "model_module": "@jupyter-widgets/controls",
     "model_module_version": "1.5.0",
     "model_name": "DescriptionStyleModel",
     "state": {
      "_model_module": "@jupyter-widgets/controls",
      "_model_module_version": "1.5.0",
      "_model_name": "DescriptionStyleModel",
      "_view_count": null,
      "_view_module": "@jupyter-widgets/base",
      "_view_module_version": "1.2.0",
      "_view_name": "StyleView",
      "description_width": ""
     }
    },
    "fa11da05ead3412ca325cdc25ddd4b5d": {
     "model_module": "@jupyter-widgets/controls",
     "model_module_version": "1.5.0",
     "model_name": "HTMLModel",
     "state": {
      "_dom_classes": [],
      "_model_module": "@jupyter-widgets/controls",
      "_model_module_version": "1.5.0",
      "_model_name": "HTMLModel",
      "_view_count": null,
      "_view_module": "@jupyter-widgets/controls",
      "_view_module_version": "1.5.0",
      "_view_name": "HTMLView",
      "description": "",
      "description_tooltip": null,
      "layout": "IPY_MODEL_708a0444f7784dde87b0ba9c89cb6783",
      "placeholder": "​",
      "style": "IPY_MODEL_6ff7cb1c0b6a4106a485ce74f4499fc2",
      "value": " 1/1 [00:00&lt;00:00, 127.15it/s]"
     }
    },
    "fe65c58b74ba4643a406543a5421406e": {
     "model_module": "@jupyter-widgets/base",
     "model_module_version": "1.2.0",
     "model_name": "LayoutModel",
     "state": {
      "_model_module": "@jupyter-widgets/base",
      "_model_module_version": "1.2.0",
      "_model_name": "LayoutModel",
      "_view_count": null,
      "_view_module": "@jupyter-widgets/base",
      "_view_module_version": "1.2.0",
      "_view_name": "LayoutView",
      "align_content": null,
      "align_items": null,
      "align_self": null,
      "border": null,
      "bottom": null,
      "display": null,
      "flex": null,
      "flex_flow": null,
      "grid_area": null,
      "grid_auto_columns": null,
      "grid_auto_flow": null,
      "grid_auto_rows": null,
      "grid_column": null,
      "grid_gap": null,
      "grid_row": null,
      "grid_template_areas": null,
      "grid_template_columns": null,
      "grid_template_rows": null,
      "height": null,
      "justify_content": null,
      "justify_items": null,
      "left": null,
      "margin": null,
      "max_height": null,
      "max_width": null,
      "min_height": null,
      "min_width": null,
      "object_fit": null,
      "object_position": null,
      "order": null,
      "overflow": null,
      "overflow_x": null,
      "overflow_y": null,
      "padding": null,
      "right": null,
      "top": null,
      "visibility": null,
      "width": null
     }
    }
   }
  }
 },
 "nbformat": 4,
 "nbformat_minor": 0
}
